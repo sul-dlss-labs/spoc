{
 "cells": [
  {
   "cell_type": "markdown",
   "metadata": {},
   "source": [
    "# Data Preparation for SPOC\n"
   ]
  },
  {
   "cell_type": "code",
   "execution_count": 1,
   "metadata": {},
   "outputs": [],
   "source": [
    "%reload_ext autoreload\n",
    "%autoreload 2\n",
    "%matplotlib inline\n",
    "\n",
    "import datetime\n",
    "import pathlib\n",
    "import pandas as pd\n",
    "from lxml import etree\n",
    "import spacy\n",
    "from spacy_lookup import Entity\n",
    "papers_tei = pathlib.Path(\"/Google Drive/Shared drives/SUL AI 2020-2021/Project - Species Occurrences/papers_tei\")"
   ]
  },
  {
   "cell_type": "markdown",
   "metadata": {},
   "source": [
    "## Extracting Full-Text from TEI XML\n",
    "[GROBID](https://grobid.readthedocs.io/en/latest/) extracts the full-text from the PDFs and saves the result in a\n",
    "[TEI](https://tei-c.org/) XML document."
   ]
  },
  {
   "cell_type": "markdown",
   "metadata": {},
   "source": [
    "## WorMS Marine Species Dataframe\n"
   ]
  },
  {
   "cell_type": "code",
   "execution_count": 2,
   "metadata": {},
   "outputs": [],
   "source": [
    "taxon = pd.read_csv('/Users/jpnelson/Google Drive/Shared drives/SUL AI 2020-2021/Project - Species Occurrences/WoRMS_marineSpecies/taxon.txt', sep=\"\\t\")"
   ]
  },
  {
   "cell_type": "code",
   "execution_count": 3,
   "metadata": {},
   "outputs": [],
   "source": [
    "species = taxon[['taxonID', 'scientificName', 'references']]\n",
    "species = species.rename(columns={\"references\": \"URL\"})"
   ]
  },
  {
   "cell_type": "code",
   "execution_count": 4,
   "metadata": {},
   "outputs": [],
   "source": [
    "species.to_json(\"../data/species.json\")"
   ]
  },
  {
   "cell_type": "markdown",
   "metadata": {},
   "source": [
    "## Location DataFrame"
   ]
  },
  {
   "cell_type": "code",
   "execution_count": 5,
   "metadata": {},
   "outputs": [],
   "source": [
    "ca_locations = pd.read_csv('/Users/jpnelson/Google Drive/Shared drives/SUL AI 2020-2021/Project - Species Occurrences/data/NamedPlaces_CA.csv')"
   ]
  },
  {
   "cell_type": "code",
   "execution_count": 6,
   "metadata": {},
   "outputs": [],
   "source": [
    "or_locations = pd.read_csv('/Users/jpnelson/Google Drive/Shared drives/SUL AI 2020-2021/Project - Species Occurrences/data/NamedPlaces_OR.csv')"
   ]
  },
  {
   "cell_type": "code",
   "execution_count": 7,
   "metadata": {},
   "outputs": [],
   "source": [
    "wa_locations = pd.read_csv('/Users/jpnelson/Google Drive/Shared drives/SUL AI 2020-2021/Project - Species Occurrences/data/NamedPlaces_WA.csv')"
   ]
  },
  {
   "cell_type": "code",
   "execution_count": 8,
   "metadata": {},
   "outputs": [],
   "source": [
    "locations = pd.concat([ca_locations, or_locations, wa_locations], ignore_index=True)"
   ]
  },
  {
   "cell_type": "code",
   "execution_count": 9,
   "metadata": {},
   "outputs": [],
   "source": [
    "locations = locations[['FEATURE_ID', 'FEATURE_NAME', 'STATE_ALPHA', 'PRIM_LONG_DEC', 'PRIM_LAT_DEC']]\n",
    "locations = locations.rename(columns={'STATE_ALPHA': 'STATE', \n",
    "                                      'PRIM_LONG_DEC': 'LONGITUDE', \n",
    "                                      'PRIM_LAT_DEC': 'LATITUDE'})"
   ]
  },
  {
   "cell_type": "code",
   "execution_count": 10,
   "metadata": {},
   "outputs": [],
   "source": [
    "locations.to_json(\"../data/locations.json\")"
   ]
  },
  {
   "cell_type": "markdown",
   "metadata": {},
   "source": [
    "## Habitat DataFrame"
   ]
  },
  {
   "cell_type": "code",
   "execution_count": 11,
   "metadata": {},
   "outputs": [],
   "source": [
    "import json\n",
    "habitats = []\n",
    "with open(\"/Users/jpnelson/Google Drive/Shared drives/SUL AI 2020-2021/Project - Species Occurrences/data/habitats.jsonl\") as fo:\n",
    "    for row in fo.readlines():\n",
    "        line = json.loads(row)\n",
    "        habitats.append(line.get('pattern'))\n",
    "habitats = pd.DataFrame(habitats, columns=['Habitat'])"
   ]
  },
  {
   "cell_type": "code",
   "execution_count": 12,
   "metadata": {},
   "outputs": [],
   "source": [
    "habitats.to_json(\"../data/habitats.json\")"
   ]
  },
  {
   "cell_type": "markdown",
   "metadata": {},
   "source": [
    "## Load helper functions from `lib/etl.py` module"
   ]
  },
  {
   "cell_type": "code",
   "execution_count": 13,
   "metadata": {},
   "outputs": [],
   "source": [
    "import sys, os\n",
    "sys.path.append(\"../src\")\n",
    "import lib.etl as etl"
   ]
  },
  {
   "cell_type": "code",
   "execution_count": 14,
   "metadata": {},
   "outputs": [],
   "source": [
    "# Uncomment these lines to load dataframes if you haven't generated the dataframes above\n",
    "#species = pd.read_json('../data/species.json')\n",
    "#locations = pd.read_json('../data/locations.json')\n",
    "#habitats = pd.read_json('../data/habitats.json')"
   ]
  },
  {
   "cell_type": "code",
   "execution_count": 15,
   "metadata": {},
   "outputs": [],
   "source": [
    "species_dict = dict(zip(species.taxonID, species.scientificName))\n",
    "location_dict = dict(zip(locations.FEATURE_ID, locations.FEATURE_NAME))"
   ]
  },
  {
   "cell_type": "markdown",
   "metadata": {},
   "source": [
    "## Construct spaCy Pipeline\n",
    "Create a spaCy nlp pipeline from the existing [en_core_web_md](https://spacy.io/models/en#en_core_web_md) English pipeline ."
   ]
  },
  {
   "cell_type": "code",
   "execution_count": 16,
   "metadata": {},
   "outputs": [],
   "source": [
    "# Iterate through species and location dictionary to turn values into lists\n",
    "for key, val in species_dict.items():\n",
    "    species_dict[key] = [val,]\n",
    "for key, val in location_dict.items():\n",
    "    location_dict[key] = [val,]"
   ]
  },
  {
   "cell_type": "markdown",
   "metadata": {},
   "source": [
    "### Species, Locations, and Habitat Entity pipeline factories\n",
    "This uses a forked version of [spacey lookup](https://github.com/sul-dlss-labs/spacy-lookup) that has been refactored to use spaCy 3.0."
   ]
  },
  {
   "cell_type": "code",
   "execution_count": 17,
   "metadata": {},
   "outputs": [],
   "source": [
    "from spacy.language import Language\n",
    "\n",
    "@Language.factory(name='species_entity')\n",
    "def create_species_entity(nlp: Language, name: str):\n",
    "    return Entity(name=name, keywords_dict=species_dict, label='SPECIES')\n",
    "\n",
    "@Language.factory(name='location_entity')\n",
    "def create_location_entity(nlp: Language, name: str):\n",
    "    return Entity(name=name, keywords_dict=location_dict, label='LOCATION')\n",
    "\n",
    "@Language.factory(name='habitat_entity')\n",
    "def create_habitat_entity(nlp: Language, name: str):\n",
    "    return Entity(name=name, keywords_list=list(habitats.Habitat), label='HABITAT')"
   ]
  },
  {
   "cell_type": "code",
   "execution_count": 18,
   "metadata": {},
   "outputs": [
    {
     "data": {
      "text/plain": [
       "('ner', <spacy.pipeline.ner.EntityRecognizer at 0x7ff8f6a55e20>)"
      ]
     },
     "execution_count": 18,
     "metadata": {},
     "output_type": "execute_result"
    }
   ],
   "source": [
    "nlp = spacy.load('en_core_web_md')\n",
    "nlp.add_pipe('species_entity')\n",
    "nlp.add_pipe('location_entity')\n",
    "nlp.add_pipe('habitat_entity')\n",
    "nlp.remove_pipe(\"ner\")"
   ]
  },
  {
   "cell_type": "code",
   "execution_count": 28,
   "metadata": {
    "tags": []
   },
   "outputs": [
    {
     "name": "stdout",
     "output_type": "stream",
     "text": [
      "Start conversion at 2021-03-22 19:46:52.720431\n",
      "..25...50..75...100..125...150..175...200..225...250..275...300..325...350..375...400..425...450..475...500..525...550..575...600..625...650..675...700..725...750..775...800..825...850..875...900..925...950..975...1000..1025...1050..1075...1100..1125...1150..1175...1200..1225...1250..1275...1300..1325...1350..1375...1400..1425...1450..1475...1500..1525...1550..1575...1600..1625.Finished at 2021-03-22 19:51:58.256269, total time 5.083333333333333 minutes. Total errors 0\n"
     ]
    }
   ],
   "source": [
    "start = datetime.datetime.utcnow()\n",
    "all_records = None\n",
    "errors = []\n",
    "print(f\"Start conversion at {start}\")\n",
    "for i, tei_path in enumerate(papers_tei.iterdir()):\n",
    "    try:\n",
    "        records = etl.process_xml(tei_path.read_bytes(), tei_path.name, nlp)\n",
    "    except:\n",
    "        print(f\"Error with {tei_path.name}\")\n",
    "        errors.append(tei_path)\n",
    "        continue\n",
    "    if all_records is None:\n",
    "        all_records = records\n",
    "    else:\n",
    "        all_records = pd.concat([all_records, records], ignore_index=True)\n",
    "    if not i%10 and i > 0:\n",
    "        print(\".\", end=\"\")\n",
    "    if not i%25 and i > 0:\n",
    "        print(f\"{i}\", end=\"\")\n",
    "end = datetime.datetime.utcnow()\n",
    "print(f\"Finished at {end}, total time {(end-start).seconds / 60.} minutes. Total errors {len(errors)}\")"
   ]
  },
  {
   "cell_type": "code",
   "execution_count": 29,
   "metadata": {},
   "outputs": [
    {
     "data": {
      "text/plain": [
       "(12151, 8)"
      ]
     },
     "execution_count": 29,
     "metadata": {},
     "output_type": "execute_result"
    }
   ],
   "source": [
    "all_records.shape"
   ]
  },
  {
   "cell_type": "code",
   "execution_count": 30,
   "metadata": {},
   "outputs": [
    {
     "data": {
      "text/html": [
       "<div>\n",
       "<style scoped>\n",
       "    .dataframe tbody tr th:only-of-type {\n",
       "        vertical-align: middle;\n",
       "    }\n",
       "\n",
       "    .dataframe tbody tr th {\n",
       "        vertical-align: top;\n",
       "    }\n",
       "\n",
       "    .dataframe thead th {\n",
       "        text-align: right;\n",
       "    }\n",
       "</style>\n",
       "<table border=\"1\" class=\"dataframe\">\n",
       "  <thead>\n",
       "    <tr style=\"text-align: right;\">\n",
       "      <th></th>\n",
       "      <th>Paper ID</th>\n",
       "      <th>Instance ID</th>\n",
       "      <th>Species</th>\n",
       "      <th>GBIF</th>\n",
       "      <th>Time</th>\n",
       "      <th>Place</th>\n",
       "      <th>Habitats</th>\n",
       "      <th>div_enum</th>\n",
       "    </tr>\n",
       "  </thead>\n",
       "  <tbody>\n",
       "    <tr>\n",
       "      <th>0</th>\n",
       "      <td>fhl_2011_Brezicha_25959.tei.xml</td>\n",
       "      <td>urn:lsid:marinespecies.org:taxname:240762</td>\n",
       "      <td>Strongylocentrotus franciscanus</td>\n",
       "      <td>https://www.gbif.org/species/search?q=Strongyl...</td>\n",
       "      <td>2011-12-09</td>\n",
       "      <td>[(1505051, Friday Harbor), (1508076, San Juan ...</td>\n",
       "      <td>[sub-tidal, close to shore, river, tree]</td>\n",
       "      <td>1</td>\n",
       "    </tr>\n",
       "    <tr>\n",
       "      <th>1</th>\n",
       "      <td>fhl_2011_Brezicha_25959.tei.xml</td>\n",
       "      <td>urn:lsid:marinespecies.org:taxname:431072</td>\n",
       "      <td>radius</td>\n",
       "      <td>https://www.gbif.org/species/search?q=radius&amp;q...</td>\n",
       "      <td>2011-12-09</td>\n",
       "      <td>[(1508076, San Juan Channel), (1507585, Porter)]</td>\n",
       "      <td>[sea]</td>\n",
       "      <td>3</td>\n",
       "    </tr>\n",
       "    <tr>\n",
       "      <th>2</th>\n",
       "      <td>fhl_2011_Brezicha_25959.tei.xml</td>\n",
       "      <td>urn:lsid:marinespecies.org:taxname:711954</td>\n",
       "      <td>Parastichopus californicus</td>\n",
       "      <td>https://www.gbif.org/species/search?q=Parastic...</td>\n",
       "      <td>2011-12-09</td>\n",
       "      <td>[(1507585, Porter)]</td>\n",
       "      <td>[sub-tidal, sea]</td>\n",
       "      <td>6</td>\n",
       "    </tr>\n",
       "    <tr>\n",
       "      <th>3</th>\n",
       "      <td>fhl_2011_Bockmon_26635.tei.xml</td>\n",
       "      <td>urn:lsid:marinespecies.org:taxname:603085</td>\n",
       "      <td>trossulus</td>\n",
       "      <td>https://www.gbif.org/species/search?q=trossulu...</td>\n",
       "      <td></td>\n",
       "      <td>[(1514917, Jackson Beach), (1507030, north end...</td>\n",
       "      <td>[]</td>\n",
       "      <td>3</td>\n",
       "    </tr>\n",
       "    <tr>\n",
       "      <th>4</th>\n",
       "      <td>fhl_2011_Bockmon_26635.tei.xml</td>\n",
       "      <td>urn:lsid:marinespecies.org:taxname:112078</td>\n",
       "      <td>ammonia</td>\n",
       "      <td>https://www.gbif.org/species/search?q=ammonia&amp;...</td>\n",
       "      <td></td>\n",
       "      <td>[]</td>\n",
       "      <td>[]</td>\n",
       "      <td>11</td>\n",
       "    </tr>\n",
       "  </tbody>\n",
       "</table>\n",
       "</div>"
      ],
      "text/plain": [
       "                          Paper ID                                Instance ID  \\\n",
       "0  fhl_2011_Brezicha_25959.tei.xml  urn:lsid:marinespecies.org:taxname:240762   \n",
       "1  fhl_2011_Brezicha_25959.tei.xml  urn:lsid:marinespecies.org:taxname:431072   \n",
       "2  fhl_2011_Brezicha_25959.tei.xml  urn:lsid:marinespecies.org:taxname:711954   \n",
       "3   fhl_2011_Bockmon_26635.tei.xml  urn:lsid:marinespecies.org:taxname:603085   \n",
       "4   fhl_2011_Bockmon_26635.tei.xml  urn:lsid:marinespecies.org:taxname:112078   \n",
       "\n",
       "                           Species  \\\n",
       "0  Strongylocentrotus franciscanus   \n",
       "1                           radius   \n",
       "2       Parastichopus californicus   \n",
       "3                        trossulus   \n",
       "4                          ammonia   \n",
       "\n",
       "                                                GBIF        Time  \\\n",
       "0  https://www.gbif.org/species/search?q=Strongyl...  2011-12-09   \n",
       "1  https://www.gbif.org/species/search?q=radius&q...  2011-12-09   \n",
       "2  https://www.gbif.org/species/search?q=Parastic...  2011-12-09   \n",
       "3  https://www.gbif.org/species/search?q=trossulu...               \n",
       "4  https://www.gbif.org/species/search?q=ammonia&...               \n",
       "\n",
       "                                               Place  \\\n",
       "0  [(1505051, Friday Harbor), (1508076, San Juan ...   \n",
       "1   [(1508076, San Juan Channel), (1507585, Porter)]   \n",
       "2                                [(1507585, Porter)]   \n",
       "3  [(1514917, Jackson Beach), (1507030, north end...   \n",
       "4                                                 []   \n",
       "\n",
       "                                   Habitats  div_enum  \n",
       "0  [sub-tidal, close to shore, river, tree]         1  \n",
       "1                                     [sea]         3  \n",
       "2                          [sub-tidal, sea]         6  \n",
       "3                                        []         3  \n",
       "4                                        []        11  "
      ]
     },
     "execution_count": 30,
     "metadata": {},
     "output_type": "execute_result"
    }
   ],
   "source": [
    "all_records.head()"
   ]
  },
  {
   "cell_type": "code",
   "execution_count": 31,
   "metadata": {},
   "outputs": [],
   "source": [
    "all_records.to_json('../data/species-records.json')"
   ]
  },
  {
   "cell_type": "code",
   "execution_count": null,
   "metadata": {},
   "outputs": [],
   "source": []
  }
 ],
 "metadata": {
  "kernelspec": {
   "display_name": "Python 3",
   "language": "python",
   "name": "python3"
  },
  "language_info": {
   "codemirror_mode": {
    "name": "ipython",
    "version": 3
   },
   "file_extension": ".py",
   "mimetype": "text/x-python",
   "name": "python",
   "nbconvert_exporter": "python",
   "pygments_lexer": "ipython3",
   "version": "3.9.1"
  }
 },
 "nbformat": 4,
 "nbformat_minor": 4
}
