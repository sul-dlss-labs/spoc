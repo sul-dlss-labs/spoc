{
 "cells": [
  {
   "cell_type": "markdown",
   "metadata": {},
   "source": [
    "# Data Preparation for SPOC\n"
   ]
  },
  {
   "cell_type": "code",
   "execution_count": 242,
   "metadata": {},
   "outputs": [],
   "source": [
    "import pathlib\n",
    "import pandas as pd\n",
    "from lxml import etree\n",
    "\n",
    "papers = pd.read_json(\"../data/papers.json\")\n",
    "papers_tei = pathlib.Path(\"/Users/jpnelson/Google Drive/Shared drives/SUL AI 2020-2021/Project - Species Occurrences/papers_tei\")"
   ]
  },
  {
   "cell_type": "code",
   "execution_count": null,
   "metadata": {
    "tags": []
   },
   "outputs": [],
   "source": [
    "papers.head()"
   ]
  },
  {
   "cell_type": "code",
   "execution_count": null,
   "metadata": {
    "tags": []
   },
   "outputs": [],
   "source": [
    "papers.tail()"
   ]
  },
  {
   "cell_type": "markdown",
   "metadata": {},
   "source": [
    "## Extracting Full-Text from TEI XML\n",
    "[GROBID](https://grobid.readthedocs.io/en/latest/) extracts the full-text from the PDFs and saves the result in a\n",
    "[TEI](https://tei-c.org/) XML document. We then use XPath to extract the full-text within the document.\n",
    "\n",
    "First, we will create a TEI namespace to simplify the construction of the XPath."
   ]
  },
  {
   "cell_type": "code",
   "execution_count": 2,
   "metadata": {},
   "outputs": [],
   "source": [
    "TEI = { 'tei': 'http://www.tei-c.org/ns/1.0'}"
   ]
  },
  {
   "cell_type": "markdown",
   "metadata": {},
   "source": [
    "## WorMS Marine Species Dataframe\n"
   ]
  },
  {
   "cell_type": "code",
   "execution_count": 243,
   "metadata": {},
   "outputs": [],
   "source": [
    "import spacy\n",
    "import pandas as pd\n",
    "from spacy_lookup import Entity"
   ]
  },
  {
   "cell_type": "code",
   "execution_count": null,
   "metadata": {},
   "outputs": [],
   "source": [
    "taxon = pd.read_csv('/Users/jpnelson/Google Drive/Shared drives/SUL AI 2020-2021/Project - Species Occurrences/WoRMS_marineSpecies/taxon.txt', sep=\"\\t\")"
   ]
  },
  {
   "cell_type": "code",
   "execution_count": 30,
   "metadata": {},
   "outputs": [],
   "source": [
    "sci_id_names = {}\n",
    "for row in taxon.iterrows():\n",
    "    sci_id_names[row[1]['taxonID']] = [row[1]['scientificName']]"
   ]
  },
  {
   "cell_type": "code",
   "execution_count": 27,
   "metadata": {},
   "outputs": [
    {
     "data": {
      "text/plain": [
       "597914"
      ]
     },
     "execution_count": 27,
     "metadata": {},
     "output_type": "execute_result"
    }
   ],
   "source": [
    "len(sci_id_names)"
   ]
  },
  {
   "cell_type": "code",
   "execution_count": 97,
   "metadata": {},
   "outputs": [
    {
     "data": {
      "text/plain": [
       "('ner', <spacy.pipeline.pipes.EntityRecognizer at 0x7fd5bcaa6ca0>)"
      ]
     },
     "execution_count": 97,
     "metadata": {},
     "output_type": "execute_result"
    }
   ],
   "source": [
    "sci_names_entity = Entity(keywords_dict=sci_id_names, label=\"SPECIES\")"
   ]
  },
  {
   "cell_type": "code",
   "execution_count": 37,
   "metadata": {},
   "outputs": [
    {
     "data": {
      "text/plain": [
       "Mysinae"
      ]
     },
     "execution_count": 37,
     "metadata": {},
     "output_type": "execute_result"
    }
   ],
   "source": [
    "ph789wb4763_doc = nlp(ph789wb4763_text)"
   ]
  },
  {
   "cell_type": "code",
   "execution_count": 48,
   "metadata": {},
   "outputs": [
    {
     "data": {
      "text/plain": [
       "'urn:lsid:marinespecies.org:taxname:148706'"
      ]
     },
     "execution_count": 48,
     "metadata": {},
     "output_type": "execute_result"
    }
   ],
   "source": [
    "sci_names_entity.keyword_processor.get_keyword('Mysinae')"
   ]
  },
  {
   "cell_type": "markdown",
   "metadata": {},
   "source": [
    "## Location Dataframe"
   ]
  },
  {
   "cell_type": "code",
   "execution_count": 49,
   "metadata": {},
   "outputs": [],
   "source": [
    "ca_locations = pd.read_csv('/Users/jpnelson/Google Drive/Shared drives/SUL AI 2020-2021/Project - Species Occurrences/data/NamedPlaces_CA.csv')"
   ]
  },
  {
   "cell_type": "code",
   "execution_count": 51,
   "metadata": {},
   "outputs": [
    {
     "name": "stdout",
     "output_type": "stream",
     "text": [
      "<class 'pandas.core.frame.DataFrame'>\n",
      "RangeIndex: 31147 entries, 0 to 31146\n",
      "Data columns (total 20 columns):\n",
      " #   Column           Non-Null Count  Dtype  \n",
      "---  ------           --------------  -----  \n",
      " 0   FEATURE_ID       31147 non-null  int64  \n",
      " 1   FEATURE_NAME     31147 non-null  object \n",
      " 2   FEATURE_CLASS    31147 non-null  object \n",
      " 3   STATE_ALPHA      31147 non-null  object \n",
      " 4   STATE_NUMERIC    31147 non-null  int64  \n",
      " 5   COUNTY_NAME      31147 non-null  object \n",
      " 6   COUNTY_NUMERIC   31147 non-null  int64  \n",
      " 7   PRIMARY_LAT_DMS  31147 non-null  object \n",
      " 8   PRIM_LONG_DMS    31147 non-null  object \n",
      " 9   PRIM_LAT_DEC     31147 non-null  float64\n",
      " 10  PRIM_LONG_DEC    31147 non-null  float64\n",
      " 11  SOURCE_LAT_DMS   6791 non-null   object \n",
      " 12  SOURCE_LONG_DMS  6791 non-null   object \n",
      " 13  SOURCE_LAT_DEC   6791 non-null   float64\n",
      " 14  SOURCE_LONG_DEC  6791 non-null   float64\n",
      " 15  ELEV_IN_M        30645 non-null  float64\n",
      " 16  ELEV_IN_FT       30645 non-null  float64\n",
      " 17  MAP_NAME         31147 non-null  object \n",
      " 18  DATE_CREATED     31147 non-null  object \n",
      " 19  DATE_EDITED      8627 non-null   object \n",
      "dtypes: float64(6), int64(3), object(11)\n",
      "memory usage: 4.8+ MB\n"
     ]
    }
   ],
   "source": [
    "ca_locations.info()"
   ]
  },
  {
   "cell_type": "code",
   "execution_count": 53,
   "metadata": {},
   "outputs": [],
   "source": [
    "or_locations = pd.read_csv('/Users/jpnelson/Google Drive/Shared drives/SUL AI 2020-2021/Project - Species Occurrences/data/NamedPlaces_OR.csv')"
   ]
  },
  {
   "cell_type": "code",
   "execution_count": 56,
   "metadata": {},
   "outputs": [
    {
     "data": {
      "text/html": [
       "<div>\n",
       "<style scoped>\n",
       "    .dataframe tbody tr th:only-of-type {\n",
       "        vertical-align: middle;\n",
       "    }\n",
       "\n",
       "    .dataframe tbody tr th {\n",
       "        vertical-align: top;\n",
       "    }\n",
       "\n",
       "    .dataframe thead th {\n",
       "        text-align: right;\n",
       "    }\n",
       "</style>\n",
       "<table border=\"1\" class=\"dataframe\">\n",
       "  <thead>\n",
       "    <tr style=\"text-align: right;\">\n",
       "      <th></th>\n",
       "      <th>FEATURE_ID</th>\n",
       "      <th>FEATURE_NAME</th>\n",
       "      <th>FEATURE_CLASS</th>\n",
       "      <th>STATE_ALPHA</th>\n",
       "      <th>STATE_NUMERIC</th>\n",
       "      <th>COUNTY_NAME</th>\n",
       "      <th>COUNTY_NUMERIC</th>\n",
       "      <th>PRIMARY_LAT_DMS</th>\n",
       "      <th>PRIM_LONG_DMS</th>\n",
       "      <th>PRIM_LAT_DEC</th>\n",
       "      <th>PRIM_LONG_DEC</th>\n",
       "      <th>SOURCE_LAT_DMS</th>\n",
       "      <th>SOURCE_LONG_DMS</th>\n",
       "      <th>SOURCE_LAT_DEC</th>\n",
       "      <th>SOURCE_LONG_DEC</th>\n",
       "      <th>ELEV_IN_M</th>\n",
       "      <th>ELEV_IN_FT</th>\n",
       "      <th>MAP_NAME</th>\n",
       "      <th>DATE_CREATED</th>\n",
       "      <th>DATE_EDITED</th>\n",
       "    </tr>\n",
       "  </thead>\n",
       "  <tbody>\n",
       "    <tr>\n",
       "      <th>0</th>\n",
       "      <td>1116450</td>\n",
       "      <td>Switch Back Creek</td>\n",
       "      <td>Stream</td>\n",
       "      <td>OR</td>\n",
       "      <td>41</td>\n",
       "      <td>Lane</td>\n",
       "      <td>39</td>\n",
       "      <td>440055N</td>\n",
       "      <td>1221714W</td>\n",
       "      <td>44.015401</td>\n",
       "      <td>-122.287268</td>\n",
       "      <td>440138N</td>\n",
       "      <td>1221620W</td>\n",
       "      <td>44.027222</td>\n",
       "      <td>-122.272222</td>\n",
       "      <td>868.0</td>\n",
       "      <td>2848.0</td>\n",
       "      <td>Harvey Mountain</td>\n",
       "      <td>6/1/92</td>\n",
       "      <td>NaN</td>\n",
       "    </tr>\n",
       "    <tr>\n",
       "      <th>1</th>\n",
       "      <td>1116452</td>\n",
       "      <td>Dearborn Island</td>\n",
       "      <td>Island</td>\n",
       "      <td>OR</td>\n",
       "      <td>41</td>\n",
       "      <td>Lane</td>\n",
       "      <td>39</td>\n",
       "      <td>440959N</td>\n",
       "      <td>1221434W</td>\n",
       "      <td>44.166514</td>\n",
       "      <td>-122.242839</td>\n",
       "      <td>NaN</td>\n",
       "      <td>NaN</td>\n",
       "      <td>NaN</td>\n",
       "      <td>NaN</td>\n",
       "      <td>364.0</td>\n",
       "      <td>1194.0</td>\n",
       "      <td>McKenzie Bridge</td>\n",
       "      <td>6/1/92</td>\n",
       "      <td>NaN</td>\n",
       "    </tr>\n",
       "    <tr>\n",
       "      <th>2</th>\n",
       "      <td>1116453</td>\n",
       "      <td>Gold Basin Springs</td>\n",
       "      <td>Spring</td>\n",
       "      <td>OR</td>\n",
       "      <td>41</td>\n",
       "      <td>Curry</td>\n",
       "      <td>15</td>\n",
       "      <td>421817N</td>\n",
       "      <td>1235344W</td>\n",
       "      <td>42.304740</td>\n",
       "      <td>-123.895584</td>\n",
       "      <td>NaN</td>\n",
       "      <td>NaN</td>\n",
       "      <td>NaN</td>\n",
       "      <td>NaN</td>\n",
       "      <td>1189.0</td>\n",
       "      <td>3901.0</td>\n",
       "      <td>Tincup Peak</td>\n",
       "      <td>6/1/92</td>\n",
       "      <td>1/2/13</td>\n",
       "    </tr>\n",
       "    <tr>\n",
       "      <th>3</th>\n",
       "      <td>1116454</td>\n",
       "      <td>Cedar Camp</td>\n",
       "      <td>Locale</td>\n",
       "      <td>OR</td>\n",
       "      <td>41</td>\n",
       "      <td>Curry</td>\n",
       "      <td>15</td>\n",
       "      <td>421611N</td>\n",
       "      <td>1235944W</td>\n",
       "      <td>42.269830</td>\n",
       "      <td>-123.995637</td>\n",
       "      <td>NaN</td>\n",
       "      <td>NaN</td>\n",
       "      <td>NaN</td>\n",
       "      <td>NaN</td>\n",
       "      <td>978.0</td>\n",
       "      <td>3209.0</td>\n",
       "      <td>Tincup Peak</td>\n",
       "      <td>6/1/92</td>\n",
       "      <td>NaN</td>\n",
       "    </tr>\n",
       "    <tr>\n",
       "      <th>4</th>\n",
       "      <td>1116473</td>\n",
       "      <td>Jacks Camp</td>\n",
       "      <td>Locale</td>\n",
       "      <td>OR</td>\n",
       "      <td>41</td>\n",
       "      <td>Curry</td>\n",
       "      <td>15</td>\n",
       "      <td>421801N</td>\n",
       "      <td>1240319W</td>\n",
       "      <td>42.300386</td>\n",
       "      <td>-124.055362</td>\n",
       "      <td>NaN</td>\n",
       "      <td>NaN</td>\n",
       "      <td>NaN</td>\n",
       "      <td>NaN</td>\n",
       "      <td>811.0</td>\n",
       "      <td>2661.0</td>\n",
       "      <td>Big Craggies</td>\n",
       "      <td>6/1/92</td>\n",
       "      <td>NaN</td>\n",
       "    </tr>\n",
       "  </tbody>\n",
       "</table>\n",
       "</div>"
      ],
      "text/plain": [
       "   FEATURE_ID        FEATURE_NAME FEATURE_CLASS STATE_ALPHA  STATE_NUMERIC  \\\n",
       "0     1116450   Switch Back Creek        Stream          OR             41   \n",
       "1     1116452     Dearborn Island        Island          OR             41   \n",
       "2     1116453  Gold Basin Springs        Spring          OR             41   \n",
       "3     1116454          Cedar Camp        Locale          OR             41   \n",
       "4     1116473          Jacks Camp        Locale          OR             41   \n",
       "\n",
       "  COUNTY_NAME  COUNTY_NUMERIC PRIMARY_LAT_DMS PRIM_LONG_DMS  PRIM_LAT_DEC  \\\n",
       "0        Lane              39         440055N      1221714W     44.015401   \n",
       "1        Lane              39         440959N      1221434W     44.166514   \n",
       "2       Curry              15         421817N      1235344W     42.304740   \n",
       "3       Curry              15         421611N      1235944W     42.269830   \n",
       "4       Curry              15         421801N      1240319W     42.300386   \n",
       "\n",
       "   PRIM_LONG_DEC SOURCE_LAT_DMS SOURCE_LONG_DMS  SOURCE_LAT_DEC  \\\n",
       "0    -122.287268        440138N        1221620W       44.027222   \n",
       "1    -122.242839            NaN             NaN             NaN   \n",
       "2    -123.895584            NaN             NaN             NaN   \n",
       "3    -123.995637            NaN             NaN             NaN   \n",
       "4    -124.055362            NaN             NaN             NaN   \n",
       "\n",
       "   SOURCE_LONG_DEC  ELEV_IN_M  ELEV_IN_FT         MAP_NAME DATE_CREATED  \\\n",
       "0      -122.272222      868.0      2848.0  Harvey Mountain       6/1/92   \n",
       "1              NaN      364.0      1194.0  McKenzie Bridge       6/1/92   \n",
       "2              NaN     1189.0      3901.0      Tincup Peak       6/1/92   \n",
       "3              NaN      978.0      3209.0      Tincup Peak       6/1/92   \n",
       "4              NaN      811.0      2661.0     Big Craggies       6/1/92   \n",
       "\n",
       "  DATE_EDITED  \n",
       "0         NaN  \n",
       "1         NaN  \n",
       "2      1/2/13  \n",
       "3         NaN  \n",
       "4         NaN  "
      ]
     },
     "execution_count": 56,
     "metadata": {},
     "output_type": "execute_result"
    }
   ],
   "source": [
    "or_locations.head()"
   ]
  },
  {
   "cell_type": "code",
   "execution_count": 57,
   "metadata": {},
   "outputs": [],
   "source": [
    "wa_locations = pd.read_csv('/Users/jpnelson/Google Drive/Shared drives/SUL AI 2020-2021/Project - Species Occurrences/data/NamedPlaces_WA.csv')"
   ]
  },
  {
   "cell_type": "code",
   "execution_count": 82,
   "metadata": {},
   "outputs": [],
   "source": [
    "locations = pd.concat([ca_locations, or_locations, wa_locations])"
   ]
  },
  {
   "cell_type": "code",
   "execution_count": 90,
   "metadata": {},
   "outputs": [],
   "source": [
    "locations_dict = dict(zip(locations.FEATURE_ID, locations.FEATURE_NAME))"
   ]
  },
  {
   "cell_type": "code",
   "execution_count": 93,
   "metadata": {},
   "outputs": [],
   "source": [
    "for key in locations_dict.keys():\n",
    "    place_list = [locations_dict[key],]\n",
    "    locations_dict[key] = place_list"
   ]
  },
  {
   "cell_type": "code",
   "execution_count": 112,
   "metadata": {},
   "outputs": [],
   "source": [
    "locations_entity.name = 'location_entity'"
   ]
  },
  {
   "cell_type": "code",
   "execution_count": 113,
   "metadata": {},
   "outputs": [
    {
     "data": {
      "text/plain": [
       "'location_entity'"
      ]
     },
     "execution_count": 113,
     "metadata": {},
     "output_type": "execute_result"
    }
   ],
   "source": [
    "locations_entity.name"
   ]
  },
  {
   "cell_type": "code",
   "execution_count": 118,
   "metadata": {},
   "outputs": [],
   "source": [
    "nlp = spacy.load('en_core_web_md')"
   ]
  },
  {
   "cell_type": "code",
   "execution_count": 119,
   "metadata": {},
   "outputs": [],
   "source": [
    "nlp.add_pipe(sci_names_entity)"
   ]
  },
  {
   "cell_type": "code",
   "execution_count": 120,
   "metadata": {},
   "outputs": [],
   "source": [
    "nlp.add_pipe(locations_entity)"
   ]
  },
  {
   "cell_type": "code",
   "execution_count": 121,
   "metadata": {},
   "outputs": [
    {
     "data": {
      "text/plain": [
       "('ner', <spacy.pipeline.pipes.EntityRecognizer at 0x7fd62a83ab80>)"
      ]
     },
     "execution_count": 121,
     "metadata": {},
     "output_type": "execute_result"
    }
   ],
   "source": [
    "nlp.remove_pipe(\"ner\")"
   ]
  },
  {
   "cell_type": "code",
   "execution_count": 244,
   "metadata": {},
   "outputs": [],
   "source": [
    "pz596wd3318 = papers_tei/\"hms_pz596wd3318.tei.xml\"\n",
    "pz596wd3318_xml = etree.XML(pz596wd3318.read_bytes())"
   ]
  },
  {
   "cell_type": "code",
   "execution_count": 245,
   "metadata": {},
   "outputs": [],
   "source": [
    "pub_date = pz596wd3318_xml.find(\"tei:teiHeader/tei:fileDesc/tei:publicationStmt/tei:date\", namespaces=TEI)"
   ]
  },
  {
   "cell_type": "code",
   "execution_count": 255,
   "metadata": {},
   "outputs": [
    {
     "data": {
      "text/plain": [
       "'1996-06-06'"
      ]
     },
     "execution_count": 255,
     "metadata": {},
     "output_type": "execute_result"
    }
   ],
   "source": [
    "pub_date.attrib.get('when', '')"
   ]
  },
  {
   "cell_type": "code",
   "execution_count": 256,
   "metadata": {},
   "outputs": [],
   "source": [
    "def xml2records(xml_path: pathlib.Path) -> pd.DataFrame:\n",
    "    # Create an XML document from xml path\n",
    "    tei_xml = etree.XML(xml_path.read_bytes())\n",
    "    body = tei_xml.find(\"tei:text/tei:body\", namespaces=TEI)\n",
    "    # Iterate and retreive all of the text\n",
    "    full_text = ''\n",
    "    for t in body.itertext():\n",
    "        full_text += f\" {t}\"\n",
    "    # Run Species Pipeline \n",
    "    doc = species_nlp(full_text)\n",
    "    # Get list of species entities with IDs\n",
    "    species = [(ent.text, sci_names_entity.keyword_processor.get_keyword(ent.text)) for ent in doc.ents]\n",
    "    species = list(set(species))\n",
    "    # Run Locations Pipeline\n",
    "    doc = location_nlp(full_text)\n",
    "    locations = [ent.text for ent in doc.ents]\n",
    "    locations = list(set(locations))\n",
    "    # Extracts Publication Date if it exists\n",
    "    pub_date_element = tei_xml.find(\"tei:teiHeader/tei:fileDesc/tei:publicationStmt/tei:date\", namespaces=TEI)\n",
    "    if pub_date_element is not None:\n",
    "        pub_date = pub_date_element.attrib.get('when', '')\n",
    "    else:\n",
    "        pub_date = ''\n",
    "    records = []\n",
    "    for row in species:\n",
    "        record = { 'Paper ID': xml_path.name, \n",
    "                   'Instance ID': row[1],\n",
    "                   'Species': row[0],\n",
    "                   'GBIF': f\"https://www.gbif.org/species/search?q={row[0]}&qField=SCIENTIFIC\",\n",
    "                   'Time': pub_date,\n",
    "                   'Place': ','.join(locations)}\n",
    "        records.append(record)\n",
    "    return pd.DataFrame(records)\n",
    "        "
   ]
  },
  {
   "cell_type": "code",
   "execution_count": 162,
   "metadata": {},
   "outputs": [],
   "source": [
    "xml_iterator = papers_tei.iterdir()\n",
    "first25 = []\n",
    "for _ in range(25):\n",
    "    first25.append(next(xml_iterator))"
   ]
  },
  {
   "cell_type": "code",
   "execution_count": 224,
   "metadata": {},
   "outputs": [],
   "source": [
    "number3recs = xml2records(first25[3])"
   ]
  },
  {
   "cell_type": "code",
   "execution_count": 225,
   "metadata": {},
   "outputs": [
    {
     "data": {
      "text/html": [
       "<div>\n",
       "<style scoped>\n",
       "    .dataframe tbody tr th:only-of-type {\n",
       "        vertical-align: middle;\n",
       "    }\n",
       "\n",
       "    .dataframe tbody tr th {\n",
       "        vertical-align: top;\n",
       "    }\n",
       "\n",
       "    .dataframe thead th {\n",
       "        text-align: right;\n",
       "    }\n",
       "</style>\n",
       "<table border=\"1\" class=\"dataframe\">\n",
       "  <thead>\n",
       "    <tr style=\"text-align: right;\">\n",
       "      <th></th>\n",
       "      <th>Paper ID</th>\n",
       "      <th>Instance ID</th>\n",
       "      <th>Species</th>\n",
       "      <th>GBIF</th>\n",
       "      <th>Time</th>\n",
       "      <th>Place</th>\n",
       "    </tr>\n",
       "  </thead>\n",
       "  <tbody>\n",
       "    <tr>\n",
       "      <th>0</th>\n",
       "      <td>fhl_2011_Phillips_26637.tei.xml</td>\n",
       "      <td>urn:lsid:marinespecies.org:taxname:181428</td>\n",
       "      <td>DIC</td>\n",
       "      <td>https://www.gbif.org/species/search?q=DIC&amp;qFie...</td>\n",
       "      <td></td>\n",
       "      <td>Pacific Ocean,Harney Channel,San Juan Channel,...</td>\n",
       "    </tr>\n",
       "  </tbody>\n",
       "</table>\n",
       "</div>"
      ],
      "text/plain": [
       "                          Paper ID                                Instance ID  \\\n",
       "0  fhl_2011_Phillips_26637.tei.xml  urn:lsid:marinespecies.org:taxname:181428   \n",
       "\n",
       "  Species                                               GBIF Time  \\\n",
       "0     DIC  https://www.gbif.org/species/search?q=DIC&qFie...        \n",
       "\n",
       "                                               Place  \n",
       "0  Pacific Ocean,Harney Channel,San Juan Channel,...  "
      ]
     },
     "execution_count": 225,
     "metadata": {},
     "output_type": "execute_result"
    }
   ],
   "source": [
    "number3recs"
   ]
  },
  {
   "cell_type": "code",
   "execution_count": 235,
   "metadata": {},
   "outputs": [
    {
     "data": {
      "text/html": [
       "<div>\n",
       "<style scoped>\n",
       "    .dataframe tbody tr th:only-of-type {\n",
       "        vertical-align: middle;\n",
       "    }\n",
       "\n",
       "    .dataframe tbody tr th {\n",
       "        vertical-align: top;\n",
       "    }\n",
       "\n",
       "    .dataframe thead th {\n",
       "        text-align: right;\n",
       "    }\n",
       "</style>\n",
       "<table border=\"1\" class=\"dataframe\">\n",
       "  <thead>\n",
       "    <tr style=\"text-align: right;\">\n",
       "      <th></th>\n",
       "      <th>Paper ID</th>\n",
       "      <th>Instance ID</th>\n",
       "      <th>Species</th>\n",
       "      <th>GBIF</th>\n",
       "      <th>Time</th>\n",
       "      <th>Place</th>\n",
       "    </tr>\n",
       "  </thead>\n",
       "  <tbody>\n",
       "    <tr>\n",
       "      <th>138</th>\n",
       "      <td>fhl_2011_Andrykovich_26680.tei.xml</td>\n",
       "      <td>urn:lsid:marinespecies.org:taxname:1839</td>\n",
       "      <td>Ascidiacea</td>\n",
       "      <td>https://www.gbif.org/species/search?q=Ascidiac...</td>\n",
       "      <td></td>\n",
       "      <td>Richardson,York,National,Bryant,green,Cannon,C...</td>\n",
       "    </tr>\n",
       "    <tr>\n",
       "      <th>139</th>\n",
       "      <td>fhl_2011_Ho_26600.tei.xml</td>\n",
       "      <td>urn:lsid:marinespecies.org:taxname:535826</td>\n",
       "      <td>aquaria</td>\n",
       "      <td>https://www.gbif.org/species/search?q=aquaria&amp;...</td>\n",
       "      <td></td>\n",
       "      <td>Eagle Cove,wave,San Juan Island,Friday Harbor,...</td>\n",
       "    </tr>\n",
       "    <tr>\n",
       "      <th>140</th>\n",
       "      <td>fhl_2011_Ho_26600.tei.xml</td>\n",
       "      <td>urn:lsid:marinespecies.org:taxname:106122</td>\n",
       "      <td>Balanus</td>\n",
       "      <td>https://www.gbif.org/species/search?q=Balanus&amp;...</td>\n",
       "      <td></td>\n",
       "      <td>Eagle Cove,wave,San Juan Island,Friday Harbor,...</td>\n",
       "    </tr>\n",
       "    <tr>\n",
       "      <th>141</th>\n",
       "      <td>fhl_2011_Ho_26600.tei.xml</td>\n",
       "      <td>urn:lsid:marinespecies.org:taxname:854086</td>\n",
       "      <td>anemone</td>\n",
       "      <td>https://www.gbif.org/species/search?q=anemone&amp;...</td>\n",
       "      <td></td>\n",
       "      <td>Eagle Cove,wave,San Juan Island,Friday Harbor,...</td>\n",
       "    </tr>\n",
       "    <tr>\n",
       "      <th>142</th>\n",
       "      <td>fhl_2011_Ho_26600.tei.xml</td>\n",
       "      <td>urn:lsid:marinespecies.org:taxname:283347</td>\n",
       "      <td>Anthopleura elegantissima</td>\n",
       "      <td>https://www.gbif.org/species/search?q=Anthople...</td>\n",
       "      <td></td>\n",
       "      <td>Eagle Cove,wave,San Juan Island,Friday Harbor,...</td>\n",
       "    </tr>\n",
       "  </tbody>\n",
       "</table>\n",
       "</div>"
      ],
      "text/plain": [
       "                               Paper ID  \\\n",
       "138  fhl_2011_Andrykovich_26680.tei.xml   \n",
       "139           fhl_2011_Ho_26600.tei.xml   \n",
       "140           fhl_2011_Ho_26600.tei.xml   \n",
       "141           fhl_2011_Ho_26600.tei.xml   \n",
       "142           fhl_2011_Ho_26600.tei.xml   \n",
       "\n",
       "                                   Instance ID                    Species  \\\n",
       "138    urn:lsid:marinespecies.org:taxname:1839                 Ascidiacea   \n",
       "139  urn:lsid:marinespecies.org:taxname:535826                    aquaria   \n",
       "140  urn:lsid:marinespecies.org:taxname:106122                    Balanus   \n",
       "141  urn:lsid:marinespecies.org:taxname:854086                    anemone   \n",
       "142  urn:lsid:marinespecies.org:taxname:283347  Anthopleura elegantissima   \n",
       "\n",
       "                                                  GBIF Time  \\\n",
       "138  https://www.gbif.org/species/search?q=Ascidiac...        \n",
       "139  https://www.gbif.org/species/search?q=aquaria&...        \n",
       "140  https://www.gbif.org/species/search?q=Balanus&...        \n",
       "141  https://www.gbif.org/species/search?q=anemone&...        \n",
       "142  https://www.gbif.org/species/search?q=Anthople...        \n",
       "\n",
       "                                                 Place  \n",
       "138  Richardson,York,National,Bryant,green,Cannon,C...  \n",
       "139  Eagle Cove,wave,San Juan Island,Friday Harbor,...  \n",
       "140  Eagle Cove,wave,San Juan Island,Friday Harbor,...  \n",
       "141  Eagle Cove,wave,San Juan Island,Friday Harbor,...  \n",
       "142  Eagle Cove,wave,San Juan Island,Friday Harbor,...  "
      ]
     },
     "execution_count": 235,
     "metadata": {},
     "output_type": "execute_result"
    }
   ],
   "source": [
    "df.tail()"
   ]
  },
  {
   "cell_type": "code",
   "execution_count": 257,
   "metadata": {},
   "outputs": [
    {
     "name": "stdout",
     "output_type": "stream",
     "text": [
      "Start conversion at 2021-03-04 21:22:36.413013\n",
      ".0..25...50..75...100..125...150..175...200..225...250..275...300..325...350..375...400..425...450..475...500..525...550..575...600..625...650..675...700..725...750..775...800..825...850..875...900..925...950..975...1000..1025...1050..1075...1100..1125...1150..1175...1200..1225...1250..1275...1300..1325...1350..1375...1400..1425...1450..1475...1500..1525...1550..1575...1600..1625.Finished at 2021-03-04 21:36:14.385860, total time 13.616666666666667 minutes\n"
     ]
    }
   ],
   "source": [
    "start = datetime.datetime.utcnow()\n",
    "all_records = None\n",
    "print(f\"Start conversion at {start}\")\n",
    "for i, tei_path in enumerate(papers_tei.iterdir()):\n",
    "    records = xml2records(tei_path)\n",
    "    if all_records is None:\n",
    "        all_records = records\n",
    "    else:\n",
    "        all_records = pd.concat([all_records, records], ignore_index=True)\n",
    "    if not i%10:\n",
    "        print(\".\", end=\"\")\n",
    "    if not i%25:\n",
    "        print(f\"{i}\", end=\"\")\n",
    "end = datetime.datetime.utcnow()\n",
    "print(f\"Finished at {end}, total time {(end-start).seconds / 60.} minutes\")\n",
    "    \n",
    "            "
   ]
  },
  {
   "cell_type": "code",
   "execution_count": 259,
   "metadata": {},
   "outputs": [
    {
     "name": "stdout",
     "output_type": "stream",
     "text": [
      "<class 'pandas.core.frame.DataFrame'>\n",
      "RangeIndex: 12820 entries, 0 to 12819\n",
      "Data columns (total 6 columns):\n",
      " #   Column       Non-Null Count  Dtype \n",
      "---  ------       --------------  ----- \n",
      " 0   Paper ID     12820 non-null  object\n",
      " 1   Instance ID  12820 non-null  object\n",
      " 2   Species      12820 non-null  object\n",
      " 3   GBIF         12820 non-null  object\n",
      " 4   Time         12820 non-null  object\n",
      " 5   Place        12820 non-null  object\n",
      "dtypes: object(6)\n",
      "memory usage: 601.1+ KB\n"
     ]
    }
   ],
   "source": [
    "all_records.info()"
   ]
  },
  {
   "cell_type": "code",
   "execution_count": 260,
   "metadata": {},
   "outputs": [],
   "source": [
    "all_records.to_json(\"../data/species-records.json\")"
   ]
  },
  {
   "cell_type": "code",
   "execution_count": null,
   "metadata": {},
   "outputs": [],
   "source": []
  }
 ],
 "metadata": {
  "kernelspec": {
   "display_name": "Python 3",
   "language": "python",
   "name": "python3"
  },
  "language_info": {
   "codemirror_mode": {
    "name": "ipython",
    "version": 3
   },
   "file_extension": ".py",
   "mimetype": "text/x-python",
   "name": "python",
   "nbconvert_exporter": "python",
   "pygments_lexer": "ipython3",
   "version": "3.9.1"
  }
 },
 "nbformat": 4,
 "nbformat_minor": 4
}
