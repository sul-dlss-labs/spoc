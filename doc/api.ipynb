{
 "cells": [
  {
   "cell_type": "markdown",
   "id": "exclusive-finger",
   "metadata": {},
   "source": [
    "# SpOc API \n",
    "The SpOc API updates the species occurrence dataframe used in the Streamlit SpOc Verifier application. The [FastAPI](https://fastapi.tiangolo.com/) can be run from the root directory with:\n",
    "\n",
    "`uvicorn src.api.main:app --reload --root-path src/api/`"
   ]
  },
  {
   "cell_type": "code",
   "execution_count": 2,
   "id": "national-nursery",
   "metadata": {},
   "outputs": [],
   "source": [
    "%reload_ext autoreload\n",
    "%autoreload 2\n",
    "%matplotlib inline\n",
    "\n",
    "import pandas as pd\n",
    "import requests"
   ]
  },
  {
   "cell_type": "code",
   "execution_count": 23,
   "id": "vulnerable-ancient",
   "metadata": {},
   "outputs": [],
   "source": [
    "all_records = pd.read_json(\"../data/species-records.json\")"
   ]
  },
  {
   "cell_type": "code",
   "execution_count": 26,
   "id": "foster-fraction",
   "metadata": {},
   "outputs": [
    {
     "name": "stdout",
     "output_type": "stream",
     "text": [
      "<class 'pandas.core.frame.DataFrame'>\n",
      "Int64Index: 12820 entries, 0 to 12819\n",
      "Data columns (total 6 columns):\n",
      " #   Column       Non-Null Count  Dtype \n",
      "---  ------       --------------  ----- \n",
      " 0   Paper ID     12820 non-null  object\n",
      " 1   Instance ID  12820 non-null  object\n",
      " 2   Species      12820 non-null  object\n",
      " 3   GBIF         12820 non-null  object\n",
      " 4   Time         12820 non-null  object\n",
      " 5   Place        12820 non-null  object\n",
      "dtypes: object(6)\n",
      "memory usage: 701.1+ KB\n"
     ]
    }
   ],
   "source": [
    "all_records.info()"
   ]
  },
  {
   "cell_type": "code",
   "execution_count": 6,
   "id": "martial-characteristic",
   "metadata": {},
   "outputs": [
    {
     "data": {
      "text/html": [
       "<div>\n",
       "<style scoped>\n",
       "    .dataframe tbody tr th:only-of-type {\n",
       "        vertical-align: middle;\n",
       "    }\n",
       "\n",
       "    .dataframe tbody tr th {\n",
       "        vertical-align: top;\n",
       "    }\n",
       "\n",
       "    .dataframe thead th {\n",
       "        text-align: right;\n",
       "    }\n",
       "</style>\n",
       "<table border=\"1\" class=\"dataframe\">\n",
       "  <thead>\n",
       "    <tr style=\"text-align: right;\">\n",
       "      <th></th>\n",
       "      <th>Paper ID</th>\n",
       "      <th>Instance ID</th>\n",
       "      <th>Species</th>\n",
       "      <th>GBIF</th>\n",
       "      <th>Time</th>\n",
       "      <th>Place</th>\n",
       "    </tr>\n",
       "  </thead>\n",
       "  <tbody>\n",
       "    <tr>\n",
       "      <th>0</th>\n",
       "      <td>fhl_2011_Brezicha_25959.tei.xml</td>\n",
       "      <td>urn:lsid:marinespecies.org:taxname:240762</td>\n",
       "      <td>Strongylocentrotus franciscanus</td>\n",
       "      <td>https://www.gbif.org/species/search?q=Strongyl...</td>\n",
       "      <td></td>\n",
       "      <td>Porter,Pacific Ocean,Friday Harbor,Salish Sea,...</td>\n",
       "    </tr>\n",
       "    <tr>\n",
       "      <th>1</th>\n",
       "      <td>fhl_2011_Brezicha_25959.tei.xml</td>\n",
       "      <td>urn:lsid:marinespecies.org:taxname:431072</td>\n",
       "      <td>radius</td>\n",
       "      <td>https://www.gbif.org/species/search?q=radius&amp;q...</td>\n",
       "      <td></td>\n",
       "      <td>Porter,Pacific Ocean,Friday Harbor,Salish Sea,...</td>\n",
       "    </tr>\n",
       "    <tr>\n",
       "      <th>2</th>\n",
       "      <td>fhl_2011_Brezicha_25959.tei.xml</td>\n",
       "      <td>urn:lsid:marinespecies.org:taxname:711954</td>\n",
       "      <td>Parastichopus californicus</td>\n",
       "      <td>https://www.gbif.org/species/search?q=Parastic...</td>\n",
       "      <td></td>\n",
       "      <td>Porter,Pacific Ocean,Friday Harbor,Salish Sea,...</td>\n",
       "    </tr>\n",
       "    <tr>\n",
       "      <th>3</th>\n",
       "      <td>fhl_2011_Bockmon_26635.tei.xml</td>\n",
       "      <td>urn:lsid:marinespecies.org:taxname:112078</td>\n",
       "      <td>Ammonia</td>\n",
       "      <td>https://www.gbif.org/species/search?q=Ammonia&amp;...</td>\n",
       "      <td></td>\n",
       "      <td>San Juan Island,Friday Harbor,north end,North ...</td>\n",
       "    </tr>\n",
       "    <tr>\n",
       "      <th>4</th>\n",
       "      <td>fhl_2011_Bockmon_26635.tei.xml</td>\n",
       "      <td>urn:lsid:marinespecies.org:taxname:112078</td>\n",
       "      <td>ammonia</td>\n",
       "      <td>https://www.gbif.org/species/search?q=ammonia&amp;...</td>\n",
       "      <td></td>\n",
       "      <td>San Juan Island,Friday Harbor,north end,North ...</td>\n",
       "    </tr>\n",
       "  </tbody>\n",
       "</table>\n",
       "</div>"
      ],
      "text/plain": [
       "                          Paper ID                                Instance ID  \\\n",
       "0  fhl_2011_Brezicha_25959.tei.xml  urn:lsid:marinespecies.org:taxname:240762   \n",
       "1  fhl_2011_Brezicha_25959.tei.xml  urn:lsid:marinespecies.org:taxname:431072   \n",
       "2  fhl_2011_Brezicha_25959.tei.xml  urn:lsid:marinespecies.org:taxname:711954   \n",
       "3   fhl_2011_Bockmon_26635.tei.xml  urn:lsid:marinespecies.org:taxname:112078   \n",
       "4   fhl_2011_Bockmon_26635.tei.xml  urn:lsid:marinespecies.org:taxname:112078   \n",
       "\n",
       "                           Species  \\\n",
       "0  Strongylocentrotus franciscanus   \n",
       "1                           radius   \n",
       "2       Parastichopus californicus   \n",
       "3                          Ammonia   \n",
       "4                          ammonia   \n",
       "\n",
       "                                                GBIF Time  \\\n",
       "0  https://www.gbif.org/species/search?q=Strongyl...        \n",
       "1  https://www.gbif.org/species/search?q=radius&q...        \n",
       "2  https://www.gbif.org/species/search?q=Parastic...        \n",
       "3  https://www.gbif.org/species/search?q=Ammonia&...        \n",
       "4  https://www.gbif.org/species/search?q=ammonia&...        \n",
       "\n",
       "                                               Place  \n",
       "0  Porter,Pacific Ocean,Friday Harbor,Salish Sea,...  \n",
       "1  Porter,Pacific Ocean,Friday Harbor,Salish Sea,...  \n",
       "2  Porter,Pacific Ocean,Friday Harbor,Salish Sea,...  \n",
       "3  San Juan Island,Friday Harbor,north end,North ...  \n",
       "4  San Juan Island,Friday Harbor,north end,North ...  "
      ]
     },
     "execution_count": 6,
     "metadata": {},
     "output_type": "execute_result"
    }
   ],
   "source": [
    "all_records.head()"
   ]
  },
  {
   "cell_type": "code",
   "execution_count": 10,
   "id": "agricultural-magazine",
   "metadata": {},
   "outputs": [],
   "source": [
    "borked = all_records[all_records['Paper ID'].isin(['asdfs'])]"
   ]
  },
  {
   "cell_type": "code",
   "execution_count": 25,
   "id": "exposed-antigua",
   "metadata": {},
   "outputs": [
    {
     "data": {
      "text/html": [
       "<div>\n",
       "<style scoped>\n",
       "    .dataframe tbody tr th:only-of-type {\n",
       "        vertical-align: middle;\n",
       "    }\n",
       "\n",
       "    .dataframe tbody tr th {\n",
       "        vertical-align: top;\n",
       "    }\n",
       "\n",
       "    .dataframe thead th {\n",
       "        text-align: right;\n",
       "    }\n",
       "</style>\n",
       "<table border=\"1\" class=\"dataframe\">\n",
       "  <thead>\n",
       "    <tr style=\"text-align: right;\">\n",
       "      <th></th>\n",
       "      <th>Paper ID</th>\n",
       "      <th>Instance ID</th>\n",
       "      <th>Species</th>\n",
       "      <th>GBIF</th>\n",
       "      <th>Time</th>\n",
       "      <th>Place</th>\n",
       "    </tr>\n",
       "  </thead>\n",
       "  <tbody>\n",
       "    <tr>\n",
       "      <th>10690</th>\n",
       "      <td>ucla_1975_ZimmermanRichard.tei.xml</td>\n",
       "      <td>urn:lsid:marinespecies.org:taxname:106994</td>\n",
       "      <td>Spirontocaris</td>\n",
       "      <td>https://www.gbif.org/species/search?q=Spironto...</td>\n",
       "      <td>1975-05-27</td>\n",
       "      <td>pacifica,The wash,Santa Catalina Island,Cove</td>\n",
       "    </tr>\n",
       "    <tr>\n",
       "      <th>3094</th>\n",
       "      <td>fhl_2014_McGowan_27210.tei.xml</td>\n",
       "      <td>urn:lsid:marinespecies.org:taxname:370041</td>\n",
       "      <td>Phyllospadix</td>\n",
       "      <td>https://www.gbif.org/species/search?q=Phyllosp...</td>\n",
       "      <td></td>\n",
       "      <td>San Juan Island,shoreline,Wahl,Cattle Point,Bu...</td>\n",
       "    </tr>\n",
       "    <tr>\n",
       "      <th>8634</th>\n",
       "      <td>hms_vd999tv5289.tei.xml</td>\n",
       "      <td>urn:lsid:marinespecies.org:taxname:279812</td>\n",
       "      <td>Atherinops affinis</td>\n",
       "      <td>https://www.gbif.org/species/search?q=Atherino...</td>\n",
       "      <td></td>\n",
       "      <td>Pajaro,PAJARO RIVER,view,Monterey Bay,Elkhorn,...</td>\n",
       "    </tr>\n",
       "    <tr>\n",
       "      <th>3976</th>\n",
       "      <td>hms_bn277dh2861.tei.xml</td>\n",
       "      <td>urn:lsid:marinespecies.org:taxname:138086</td>\n",
       "      <td>Chaetopleura</td>\n",
       "      <td>https://www.gbif.org/species/search?q=Chaetopl...</td>\n",
       "      <td></td>\n",
       "      <td>Bayne,green,Pacific Grove,tide,post,Division,h...</td>\n",
       "    </tr>\n",
       "    <tr>\n",
       "      <th>6799</th>\n",
       "      <td>hms_jw427gt5299.tei.xml</td>\n",
       "      <td>urn:lsid:marinespecies.org:taxname:137928</td>\n",
       "      <td>Elysia</td>\n",
       "      <td>https://www.gbif.org/species/search?q=Elysia&amp;q...</td>\n",
       "      <td>1988-06-06</td>\n",
       "      <td>Santa Barbara,Moss Landing Harbor,Pacific Grove</td>\n",
       "    </tr>\n",
       "  </tbody>\n",
       "</table>\n",
       "</div>"
      ],
      "text/plain": [
       "                                 Paper ID  \\\n",
       "10690  ucla_1975_ZimmermanRichard.tei.xml   \n",
       "3094       fhl_2014_McGowan_27210.tei.xml   \n",
       "8634              hms_vd999tv5289.tei.xml   \n",
       "3976              hms_bn277dh2861.tei.xml   \n",
       "6799              hms_jw427gt5299.tei.xml   \n",
       "\n",
       "                                     Instance ID             Species  \\\n",
       "10690  urn:lsid:marinespecies.org:taxname:106994       Spirontocaris   \n",
       "3094   urn:lsid:marinespecies.org:taxname:370041        Phyllospadix   \n",
       "8634   urn:lsid:marinespecies.org:taxname:279812  Atherinops affinis   \n",
       "3976   urn:lsid:marinespecies.org:taxname:138086        Chaetopleura   \n",
       "6799   urn:lsid:marinespecies.org:taxname:137928              Elysia   \n",
       "\n",
       "                                                    GBIF        Time  \\\n",
       "10690  https://www.gbif.org/species/search?q=Spironto...  1975-05-27   \n",
       "3094   https://www.gbif.org/species/search?q=Phyllosp...               \n",
       "8634   https://www.gbif.org/species/search?q=Atherino...               \n",
       "3976   https://www.gbif.org/species/search?q=Chaetopl...               \n",
       "6799   https://www.gbif.org/species/search?q=Elysia&q...  1988-06-06   \n",
       "\n",
       "                                                   Place  \n",
       "10690       pacifica,The wash,Santa Catalina Island,Cove  \n",
       "3094   San Juan Island,shoreline,Wahl,Cattle Point,Bu...  \n",
       "8634   Pajaro,PAJARO RIVER,view,Monterey Bay,Elkhorn,...  \n",
       "3976   Bayne,green,Pacific Grove,tide,post,Division,h...  \n",
       "6799     Santa Barbara,Moss Landing Harbor,Pacific Grove  "
      ]
     },
     "execution_count": 25,
     "metadata": {},
     "output_type": "execute_result"
    }
   ],
   "source": [
    "all_records.sample(5)"
   ]
  },
  {
   "cell_type": "code",
   "execution_count": 18,
   "id": "dimensional-cleveland",
   "metadata": {},
   "outputs": [
    {
     "data": {
      "text/html": [
       "<div>\n",
       "<style scoped>\n",
       "    .dataframe tbody tr th:only-of-type {\n",
       "        vertical-align: middle;\n",
       "    }\n",
       "\n",
       "    .dataframe tbody tr th {\n",
       "        vertical-align: top;\n",
       "    }\n",
       "\n",
       "    .dataframe thead th {\n",
       "        text-align: right;\n",
       "    }\n",
       "</style>\n",
       "<table border=\"1\" class=\"dataframe\">\n",
       "  <thead>\n",
       "    <tr style=\"text-align: right;\">\n",
       "      <th></th>\n",
       "      <th>Paper ID</th>\n",
       "      <th>Instance ID</th>\n",
       "      <th>Species</th>\n",
       "      <th>GBIF</th>\n",
       "      <th>Time</th>\n",
       "      <th>Place</th>\n",
       "    </tr>\n",
       "  </thead>\n",
       "  <tbody>\n",
       "    <tr>\n",
       "      <th>10360</th>\n",
       "      <td>carl_1983_OlanderAndrea.tei.xml</td>\n",
       "      <td>urn:lsid:marinespecies.org:taxname:269761</td>\n",
       "      <td>Lythrypnus</td>\n",
       "      <td>https://www.gbif.org/species/search?q=Lythrypn...</td>\n",
       "      <td></td>\n",
       "      <td>Santa Barbara Island,Santa Barbara,white,Turne...</td>\n",
       "    </tr>\n",
       "  </tbody>\n",
       "</table>\n",
       "</div>"
      ],
      "text/plain": [
       "                              Paper ID  \\\n",
       "10360  carl_1983_OlanderAndrea.tei.xml   \n",
       "\n",
       "                                     Instance ID     Species  \\\n",
       "10360  urn:lsid:marinespecies.org:taxname:269761  Lythrypnus   \n",
       "\n",
       "                                                    GBIF Time  \\\n",
       "10360  https://www.gbif.org/species/search?q=Lythrypn...        \n",
       "\n",
       "                                                   Place  \n",
       "10360  Santa Barbara Island,Santa Barbara,white,Turne...  "
      ]
     },
     "execution_count": 18,
     "metadata": {},
     "output_type": "execute_result"
    }
   ],
   "source": [
    "all_records[all_records['Paper ID'].isin(['carl_1983_OlanderAndrea.tei.xml']) & all_records['Instance ID'].isin(['urn:lsid:marinespecies.org:taxname:269761'])]"
   ]
  },
  {
   "cell_type": "code",
   "execution_count": 20,
   "id": "invalid-villa",
   "metadata": {},
   "outputs": [],
   "source": [
    "result = requests.put(\"http://localhost:8000/records/\",\n",
    "                     data={ 'paper_id': 'fhl_2014_Sullivan_27302.tei.xml', \n",
    "                           'instance_id': 'urn:lsid:marinespecies.org:taxname:6'})"
   ]
  },
  {
   "cell_type": "code",
   "execution_count": 22,
   "id": "taken-rings",
   "metadata": {},
   "outputs": [
    {
     "data": {
      "text/plain": [
       "'{\"detail\":[{\"loc\":[\"body\",0],\"msg\":\"Expecting value: line 1 column 1 (char 0)\",\"type\":\"value_error.jsondecode\",\"ctx\":{\"msg\":\"Expecting value\",\"doc\":\"paper_id=fhl_2014_Sullivan_27302.tei.xml&instance_id=urn%3Alsid%3Amarinespecies.org%3Ataxname%3A6\",\"pos\":0,\"lineno\":1,\"colno\":1}}]}'"
      ]
     },
     "execution_count": 22,
     "metadata": {},
     "output_type": "execute_result"
    }
   ],
   "source": [
    "result.text"
   ]
  },
  {
   "cell_type": "code",
   "execution_count": null,
   "id": "false-gasoline",
   "metadata": {},
   "outputs": [],
   "source": []
  }
 ],
 "metadata": {
  "kernelspec": {
   "display_name": "Python 3",
   "language": "python",
   "name": "python3"
  },
  "language_info": {
   "codemirror_mode": {
    "name": "ipython",
    "version": 3
   },
   "file_extension": ".py",
   "mimetype": "text/x-python",
   "name": "python",
   "nbconvert_exporter": "python",
   "pygments_lexer": "ipython3",
   "version": "3.9.1"
  }
 },
 "nbformat": 4,
 "nbformat_minor": 5
}
