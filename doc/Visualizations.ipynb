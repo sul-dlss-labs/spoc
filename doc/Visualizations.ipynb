{
 "cells": [
  {
   "cell_type": "code",
   "execution_count": 1,
   "id": "e9c3022c-66ea-4132-bf1a-73b16c974ff3",
   "metadata": {},
   "outputs": [],
   "source": [
    "import pandas as pd"
   ]
  },
  {
   "cell_type": "code",
   "execution_count": 2,
   "id": "5d535522-949a-4bf0-afe9-a8f6aae3de83",
   "metadata": {
    "tags": []
   },
   "outputs": [],
   "source": [
    "Hopkins_df=pd.read_csv(\"Hopkins_Metadata.csv\")"
   ]
  },
  {
   "cell_type": "code",
   "execution_count": 14,
   "id": "eccaf24b-fc4f-44d8-bf6b-0c3d7b961e08",
   "metadata": {},
   "outputs": [],
   "source": [
    "years = Hopkins_df[\"Year\"]"
   ]
  },
  {
   "cell_type": "code",
   "execution_count": 18,
   "id": "7ab01dee-8305-4e8f-9379-b12ba0cbd34c",
   "metadata": {},
   "outputs": [
    {
     "data": {
      "text/plain": [
       "['area',\n",
       " 'bar',\n",
       " 'barh',\n",
       " 'box',\n",
       " 'density',\n",
       " 'hexbin',\n",
       " 'hist',\n",
       " 'kde',\n",
       " 'line',\n",
       " 'pie',\n",
       " 'scatter']"
      ]
     },
     "execution_count": 18,
     "metadata": {},
     "output_type": "execute_result"
    }
   ],
   "source": [
    "[\n",
    "    method_name for method_name in dir(Hopkins_df.plot) \n",
    "if not method_name.startswith(\"_\") \n",
    "]"
   ]
  },
  {
   "cell_type": "code",
   "execution_count": 30,
   "id": "003b4b9c-3088-4432-9861-984d8770cd2d",
   "metadata": {},
   "outputs": [
    {
     "data": {
      "text/plain": [
       "<AxesSubplot:ylabel='Frequency'>"
      ]
     },
     "execution_count": 30,
     "metadata": {},
     "output_type": "execute_result"
    },
    {
     "data": {
      "image/png": "[encoded data removed]",
      "text/plain": [
       "<Figure size 432x288 with 1 Axes>"
      ]
     },
     "metadata": {
      "needs_background": "light"
     },
     "output_type": "display_data"
    }
   ],
   "source": [
    "years.plot.hist(bins=48)"
   ]
  },
  {
   "cell_type": "code",
   "execution_count": 31,
   "id": "65853d6d-8011-4746-8401-307266ceeaae",
   "metadata": {},
   "outputs": [],
   "source": [
    "Carleton_df=pd.read_csv(\"Carleton_Metadata.csv\")"
   ]
  },
  {
   "cell_type": "code",
   "execution_count": 33,
   "id": "de7d4e8a-50bc-4bf2-b8c7-0fc749a03c31",
   "metadata": {},
   "outputs": [],
   "source": [
    "FHL_df=pd.read_csv(\"FHL_digital_metadata.csv\")"
   ]
  },
  {
   "cell_type": "code",
   "execution_count": 35,
   "id": "e50184e5-2c56-4272-84ec-adb8ef4dd9ff",
   "metadata": {},
   "outputs": [],
   "source": [
    "UCLA_df=pd.read_csv(\"UCLA_Metadata.csv\")"
   ]
  },
  {
   "cell_type": "code",
   "execution_count": 38,
   "id": "b9fcea0f-feab-42d0-b55e-9bbe89f56eaf",
   "metadata": {},
   "outputs": [],
   "source": [
    "USC_df=pd.read_csv(\"USC_Metadata.csv\")"
   ]
  },
  {
   "cell_type": "code",
   "execution_count": 46,
   "id": "0281b108-8ba2-4b49-9f5f-0f51b84e3800",
   "metadata": {},
   "outputs": [],
   "source": [
    "years=Carleton_df[\"Year\"]"
   ]
  },
  {
   "cell_type": "code",
   "execution_count": 48,
   "id": "2a6fe24c-c6c1-42b6-9d17-1b8bbf26e7e9",
   "metadata": {},
   "outputs": [
    {
     "data": {
      "text/plain": [
       "<AxesSubplot:ylabel='Frequency'>"
      ]
     },
     "execution_count": 48,
     "metadata": {},
     "output_type": "execute_result"
    },
    {
     "data": {
      "image/png": "[encoded data removed]",
      "text/plain": [
       "<Figure size 432x288 with 1 Axes>"
      ]
     },
     "metadata": {
      "needs_background": "light"
     },
     "output_type": "display_data"
    }
   ],
   "source": [
    "years.plot.hist(bins=4)"
   ]
  },
  {
   "cell_type": "code",
   "execution_count": 49,
   "id": "ed46db84-dad7-45cf-af9e-fa2030eab6c7",
   "metadata": {},
   "outputs": [],
   "source": [
    "years=USC_df[\"Year\"]"
   ]
  },
  {
   "cell_type": "code",
   "execution_count": 51,
   "id": "18829c2c-b080-4a9d-b96f-a84f01759456",
   "metadata": {},
   "outputs": [
    {
     "data": {
      "text/plain": [
       "<AxesSubplot:ylabel='Frequency'>"
      ]
     },
     "execution_count": 51,
     "metadata": {},
     "output_type": "execute_result"
    },
    {
     "data": {
      "image/png": "[encoded data removed]",
      "text/plain": [
       "<Figure size 432x288 with 1 Axes>"
      ]
     },
     "metadata": {
      "needs_background": "light"
     },
     "output_type": "display_data"
    }
   ],
   "source": [
    "years.plot.hist(bins=30)"
   ]
  },
  {
   "cell_type": "code",
   "execution_count": 52,
   "id": "02473bf8-b363-4bca-baae-de19d82bacf0",
   "metadata": {},
   "outputs": [],
   "source": [
    "years=UCLA_df[\"Year\"]"
   ]
  },
  {
   "cell_type": "code",
   "execution_count": 54,
   "id": "e1faaf2a-5fe7-4f79-9845-760cc71bc14b",
   "metadata": {},
   "outputs": [
    {
     "data": {
      "text/plain": [
       "<AxesSubplot:ylabel='Frequency'>"
      ]
     },
     "execution_count": 54,
     "metadata": {},
     "output_type": "execute_result"
    },
    {
     "data": {
      "image/png": "[encoded data removed]",
      "text/plain": [
       "<Figure size 432x288 with 1 Axes>"
      ]
     },
     "metadata": {
      "needs_background": "light"
     },
     "output_type": "display_data"
    }
   ],
   "source": [
    "years.plot.hist(bins=3)"
   ]
  },
  {
   "cell_type": "code",
   "execution_count": 55,
   "id": "3aac674b-fedd-43f4-9101-e58131b06b82",
   "metadata": {},
   "outputs": [],
   "source": [
    "years=FHL_df[\"Year\"]"
   ]
  },
  {
   "cell_type": "code",
   "execution_count": 56,
   "id": "a26c7715-8335-4c69-b4b1-c9f4dbfbb8f8",
   "metadata": {},
   "outputs": [
    {
     "data": {
      "text/plain": [
       "<AxesSubplot:ylabel='Frequency'>"
      ]
     },
     "execution_count": 56,
     "metadata": {},
     "output_type": "execute_result"
    },
    {
     "data": {
      "image/png": "[encoded data removed]",
      "text/plain": [
       "<Figure size 432x288 with 1 Axes>"
      ]
     },
     "metadata": {
      "needs_background": "light"
     },
     "output_type": "display_data"
    }
   ],
   "source": [
    "years.plot.hist()"
   ]
  },
  {
   "cell_type": "code",
   "execution_count": null,
   "id": "a184af05-1b05-4268-a188-8099933c3828",
   "metadata": {},
   "outputs": [],
   "source": []
  }
 ],
 "metadata": {
  "kernelspec": {
   "display_name": "Python 3",
   "language": "python",
   "name": "python3"
  },
  "language_info": {
   "codemirror_mode": {
    "name": "ipython",
    "version": 3
   },
   "file_extension": ".py",
   "mimetype": "text/x-python",
   "name": "python",
   "nbconvert_exporter": "python",
   "pygments_lexer": "ipython3",
   "version": "3.9.5"
  }
 },
 "nbformat": 4,
 "nbformat_minor": 5
}
