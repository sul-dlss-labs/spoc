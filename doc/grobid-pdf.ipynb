{
 "cells": [
  {
   "cell_type": "markdown",
   "metadata": {},
   "source": [
    "# GROBID PDF-to-TEI XML Workflow\n",
    "[GROBID](https://grobid.readthedocs.io/en/latest/), short for *GeneRation Of BIbliographic Data*, is a machine learning\n",
    "environment that takes raw documents like PDF and generates structured TEI XML files with full-text content and other \n",
    "related metadata."
   ]
  },
  {
   "cell_type": "markdown",
   "metadata": {},
   "source": [
    "## Running GROBID as a Docker Container\n",
    "The easiest method to run GROBID is with Docker using the lightweight CSR image.\n",
    "\n",
    "`docker run -t --rm --init -p 8070:8070 -p 8071:8071 lfoppiano/grobid:0.6.1`"
   ]
  },
  {
   "cell_type": "markdown",
   "metadata": {},
   "source": [
    "## Setup for Running "
   ]
  },
  {
   "cell_type": "code",
   "execution_count": 1,
   "metadata": {},
   "outputs": [],
   "source": [
    "%reload_ext autoreload\n",
    "%autoreload 2\n",
    "%matplotlib inline"
   ]
  },
  {
   "cell_type": "code",
   "execution_count": 2,
   "metadata": {},
   "outputs": [],
   "source": [
    "import pathlib\n",
    "import sys\n",
    "import datetime\n",
    "# Assumes that the grobid Python Client (https://github.com/kermitt2/grobid_client_python) has \n",
    "# been cloned in the same directory as SPOC\n",
    "sys.path.append(\"../../grobid_client_python/\") \n",
    "import grobid_client as grobid"
   ]
  },
  {
   "cell_type": "code",
   "execution_count": 3,
   "metadata": {},
   "outputs": [],
   "source": [
    "hopkins_pdfs = pathlib.Path(\"/Users/jpnelson/Google Drive/Shared drives/SUL AI 2020-2021/Project - Species Occurrences/papers_pdf\")\n",
    "hopkins_tei = pathlib.Path(\"/Users/jpnelson/Google Drive/Shared drives/SUL AI 2020-2021/Project - Species Occurrences/papers_tei\")"
   ]
  },
  {
   "cell_type": "code",
   "execution_count": 4,
   "metadata": {},
   "outputs": [
    {
     "name": "stdout",
     "output_type": "stream",
     "text": [
      "GROBID server is up and running\n"
     ]
    }
   ],
   "source": [
    "client = grobid.grobid_client(config_path=\"../config/grobid.json\")"
   ]
  },
  {
   "cell_type": "code",
   "execution_count": 5,
   "metadata": {},
   "outputs": [],
   "source": [
    "def pdf2tei(pdf_path: pathlib.Path, tei_path: pathlib.Path):\n",
    "    start = datetime.datetime.utcnow()\n",
    "    print(f\"{start} conversion of PDFs to TEI XML\")\n",
    "    client.process(\"processFulltextDocument\", hopkins_pdfs.as_posix(), output=hopkins_tei.as_posix(), n=3)\n",
    "    end = datetime.datetime.utcnow()\n",
    "    print(f\"Finished at {end} total time {(end-start).seconds / 60.}\")"
   ]
  },
  {
   "cell_type": "code",
   "execution_count": 6,
   "metadata": {},
   "outputs": [
    {
     "name": "stdout",
     "output_type": "stream",
     "text": [
      "2021-03-02 18:54:39.406047 conversion of PDFs to TEI XML\n",
      "Finished at 2021-03-02 19:16:35.501890 total time 21.933333333333334\n"
     ]
    }
   ],
   "source": [
    "pdf2tei(hopkins_pdfs, hopkins_tei)"
   ]
  },
  {
   "cell_type": "code",
   "execution_count": 7,
   "metadata": {},
   "outputs": [
    {
     "data": {
      "text/plain": [
       "462"
      ]
     },
     "execution_count": 7,
     "metadata": {},
     "output_type": "execute_result"
    }
   ],
   "source": [
    "1724-1262"
   ]
  },
  {
   "cell_type": "code",
   "execution_count": 7,
   "metadata": {},
   "outputs": [],
   "source": [
    "missing = []\n",
    "for row in hopkins_pdfs.iterdir():\n",
    "    xml_tei = hopkins_tei/f\"{row.stem}.tei.xml\"\n",
    "    if not xml_tei.exists():\n",
    "        missing.append(row)"
   ]
  },
  {
   "cell_type": "code",
   "execution_count": 8,
   "metadata": {},
   "outputs": [
    {
     "data": {
      "text/plain": [
       "88"
      ]
     },
     "execution_count": 8,
     "metadata": {},
     "output_type": "execute_result"
    }
   ],
   "source": [
    "len(missing)"
   ]
  },
  {
   "cell_type": "code",
   "execution_count": 9,
   "metadata": {},
   "outputs": [
    {
     "data": {
      "text/plain": [
       "PosixPath('/Users/jpnelson/Google Drive/Shared drives/SUL AI 2020-2021/Project - Species Occurrences/papers_pdf/fhl_2011_Broell_19896.pdf')"
      ]
     },
     "execution_count": 9,
     "metadata": {},
     "output_type": "execute_result"
    }
   ],
   "source": [
    "missing[0]"
   ]
  },
  {
   "cell_type": "code",
   "execution_count": 11,
   "metadata": {},
   "outputs": [],
   "source": [
    "missing_filenames = [r.name for r in missing]"
   ]
  },
  {
   "cell_type": "code",
   "execution_count": 13,
   "metadata": {},
   "outputs": [
    {
     "data": {
      "text/plain": [
       "['bml_Covello 2011_Summer Seq Three.pdf',\n",
       " 'carl_1986_SpringIndex.pdf',\n",
       " 'fhl_2011_Blackstone_19866.pdf',\n",
       " 'fhl_2011_Bockmon_19854.pdf',\n",
       " 'fhl_2011_Boeck_19878.pdf',\n",
       " 'fhl_2011_Bourdillon_19873.pdf',\n",
       " 'fhl_2011_Brezicha_19888.pdf',\n",
       " 'fhl_2011_Broell_19896.pdf',\n",
       " 'fhl_2011_Challener_19855.pdf',\n",
       " 'fhl_2011_Cox_19895.pdf',\n",
       " 'fhl_2011_Enzor_19864.pdf',\n",
       " 'fhl_2011_Ewings_19889.pdf',\n",
       " 'fhl_2011_Follis_19879.pdf',\n",
       " 'fhl_2011_Gilmore_19862.pdf',\n",
       " 'fhl_2011_Gordon_19881.pdf',\n",
       " 'fhl_2011_Guenther_19863.pdf',\n",
       " 'fhl_2011_Ho_19837.pdf',\n",
       " 'fhl_2011_Hoang_19874.pdf',\n",
       " 'fhl_2011_Johnson_19836.pdf',\n",
       " 'fhl_2011_Johnson_19872.pdf',\n",
       " 'fhl_2011_Kane_19884.pdf',\n",
       " 'fhl_2011_Kapsenburg_19859.pdf',\n",
       " 'fhl_2011_Kim_19880.pdf',\n",
       " 'fhl_2011_Krauszer_19843.pdf',\n",
       " 'fhl_2011_Lee_19883.pdf',\n",
       " 'fhl_2011_Little_19825.pdf',\n",
       " 'fhl_2011_Lucas_19894.pdf',\n",
       " 'fhl_2011_Magley_19824.pdf',\n",
       " 'fhl_2011_Meyer_19867.pdf',\n",
       " 'fhl_2011_Møller_19891.pdf',\n",
       " 'fhl_2011_Navratil_19826.pdf',\n",
       " 'fhl_2011_Navratil_19868.pdf',\n",
       " 'fhl_2011_Newcomb_19860.pdf',\n",
       " 'fhl_2011_Olmstead_19845.pdf',\n",
       " 'fhl_2011_Paxton_19890.pdf',\n",
       " 'fhl_2011_Phillips_19858.pdf',\n",
       " 'fhl_2011_Pietsch_19856.pdf',\n",
       " 'fhl_2011_Rickards_19861.pdf',\n",
       " 'fhl_2011_Shaffer_19877.pdf',\n",
       " 'fhl_2011_Singer_19887.pdf',\n",
       " 'fhl_2011_Smith_19886.pdf',\n",
       " 'fhl_2011_Stelter_19835.pdf',\n",
       " 'fhl_2011_Suzumura_19844.pdf',\n",
       " 'fhl_2011_Taylor_19892.pdf',\n",
       " 'fhl_2011_Thomas_19869.pdf',\n",
       " 'fhl_2011_Ulmke_19875.pdf',\n",
       " 'fhl_2011_Vancil_19876.pdf',\n",
       " 'fhl_2011_Vaughn_19857.pdf',\n",
       " 'fhl_2011_Walls_19870.pdf',\n",
       " 'fhl_2011_Wilkins_19865.pdf',\n",
       " 'fhl_2011_Witt_19885.pdf',\n",
       " 'fhl_2011_Witt_25966.pdf',\n",
       " 'fhl_2011_van’t Hul_19871.pdf',\n",
       " 'fhl_2012_Albrecht_19808.pdf',\n",
       " 'fhl_2012_Bruders_19793.pdf',\n",
       " 'fhl_2012_Churches_19794.pdf',\n",
       " 'fhl_2012_Conery_19809.pdf',\n",
       " 'fhl_2012_Davies_19801.pdf',\n",
       " 'fhl_2012_Dunnell_19802.pdf',\n",
       " 'fhl_2012_Fodor_19795.pdf',\n",
       " 'fhl_2012_Ge_19803.pdf',\n",
       " 'fhl_2012_Girardo_19796.pdf',\n",
       " 'fhl_2012_Jacobsen-Watts_19811.pdf',\n",
       " 'fhl_2012_Kareiva_19797.pdf',\n",
       " 'fhl_2012_Kreis_19812.pdf',\n",
       " 'fhl_2012_Kulesza_19813.pdf',\n",
       " 'fhl_2012_Marks_19804.pdf',\n",
       " 'fhl_2012_Oxborrow_19814.pdf',\n",
       " 'fhl_2012_Sanford_19798.pdf',\n",
       " 'fhl_2012_Schreck_19805.pdf',\n",
       " 'fhl_2012_Stull_19815.pdf',\n",
       " 'fhl_2012_Swore_19799.pdf',\n",
       " 'fhl_2012_Townsend_19806.pdf',\n",
       " 'fhl_2012_Twomey_19807.pdf',\n",
       " 'fhl_2012_Voon_19816.pdf',\n",
       " 'fhl_2012_Wang_19817.pdf',\n",
       " 'osu_20200612152001862.pdf',\n",
       " 'osu_20200612152044760.pdf',\n",
       " 'osu_20200612152132332.pdf',\n",
       " 'osu_20200612152240497.pdf',\n",
       " 'osu_20200612152633039.pdf',\n",
       " 'osu_20200612152822066.pdf',\n",
       " 'osu_20200612153112738.pdf',\n",
       " 'osu_20200612153337143.pdf',\n",
       " 'osu_20200612153509246.pdf',\n",
       " 'osu_20200612153616194.pdf',\n",
       " 'osu_20200612153848020.pdf',\n",
       " 'osu_20200612154034430.pdf']"
      ]
     },
     "execution_count": 13,
     "metadata": {},
     "output_type": "execute_result"
    }
   ],
   "source": [
    "sorted(missing_filenames)"
   ]
  },
  {
   "cell_type": "code",
   "execution_count": null,
   "metadata": {},
   "outputs": [],
   "source": []
  }
 ],
 "metadata": {
  "kernelspec": {
   "display_name": "Python 3",
   "language": "python",
   "name": "python3"
  },
  "language_info": {
   "codemirror_mode": {
    "name": "ipython",
    "version": 3
   },
   "file_extension": ".py",
   "mimetype": "text/x-python",
   "name": "python",
   "nbconvert_exporter": "python",
   "pygments_lexer": "ipython3",
   "version": "3.9.1"
  }
 },
 "nbformat": 4,
 "nbformat_minor": 4
}
