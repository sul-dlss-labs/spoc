{
 "cells": [
  {
   "cell_type": "code",
   "execution_count": 3,
   "metadata": {},
   "outputs": [],
   "source": [
    "%reload_ext autoreload\n",
    "%autoreload 2\n",
    "%matplotlib inline"
   ]
  },
  {
   "cell_type": "code",
   "execution_count": 4,
   "metadata": {},
   "outputs": [],
   "source": [
    "import pathlib\n",
    "import sys\n",
    "import datetime\n",
    "sys.path.append(\"/Users/jpnelson/02021/sul-dlss/labs/grobid_client_python/\")\n",
    "import grobid_client as grobid"
   ]
  },
  {
   "cell_type": "code",
   "execution_count": 5,
   "metadata": {},
   "outputs": [],
   "source": [
    "hopkins_pdfs = pathlib.Path(\"/Users/jpnelson/Google Drive/Shared drives/SUL AI 2020-2021/Project - Species Occurrences/papers_pdf\")\n",
    "hopkins_tei = pathlib.Path(\"/Users/jpnelson/Google Drive/Shared drives/SUL AI 2020-2021/Project - Species Occurrences/papers_tei\")"
   ]
  },
  {
   "cell_type": "code",
   "execution_count": 9,
   "metadata": {
    "collapsed": true,
    "jupyter": {
     "outputs_hidden": true
    },
    "tags": []
   },
   "outputs": [
    {
     "name": "stdout",
     "output_type": "stream",
     "text": [
      "GROBID server does not appear up and running, the connection to the server failed\n"
     ]
    },
    {
     "ename": "NameError",
     "evalue": "name 'exit' is not defined",
     "output_type": "error",
     "traceback": [
      "\u001b[0;31m---------------------------------------------------------------------------\u001b[0m",
      "\u001b[0;31mConnectionRefusedError\u001b[0m                    Traceback (most recent call last)",
      "\u001b[0;32m~/02021/sul-dlss/labs/ml-env/lib/python3.9/site-packages/urllib3/connection.py\u001b[0m in \u001b[0;36m_new_conn\u001b[0;34m(self)\u001b[0m\n\u001b[1;32m    168\u001b[0m         \u001b[0;32mtry\u001b[0m\u001b[0;34m:\u001b[0m\u001b[0;34m\u001b[0m\u001b[0;34m\u001b[0m\u001b[0m\n\u001b[0;32m--> 169\u001b[0;31m             conn = connection.create_connection(\n\u001b[0m\u001b[1;32m    170\u001b[0m                 \u001b[0;34m(\u001b[0m\u001b[0mself\u001b[0m\u001b[0;34m.\u001b[0m\u001b[0m_dns_host\u001b[0m\u001b[0;34m,\u001b[0m \u001b[0mself\u001b[0m\u001b[0;34m.\u001b[0m\u001b[0mport\u001b[0m\u001b[0;34m)\u001b[0m\u001b[0;34m,\u001b[0m \u001b[0mself\u001b[0m\u001b[0;34m.\u001b[0m\u001b[0mtimeout\u001b[0m\u001b[0;34m,\u001b[0m \u001b[0;34m**\u001b[0m\u001b[0mextra_kw\u001b[0m\u001b[0;34m\u001b[0m\u001b[0;34m\u001b[0m\u001b[0m\n",
      "\u001b[0;32m~/02021/sul-dlss/labs/ml-env/lib/python3.9/site-packages/urllib3/util/connection.py\u001b[0m in \u001b[0;36mcreate_connection\u001b[0;34m(address, timeout, source_address, socket_options)\u001b[0m\n\u001b[1;32m     95\u001b[0m     \u001b[0;32mif\u001b[0m \u001b[0merr\u001b[0m \u001b[0;32mis\u001b[0m \u001b[0;32mnot\u001b[0m \u001b[0;32mNone\u001b[0m\u001b[0;34m:\u001b[0m\u001b[0;34m\u001b[0m\u001b[0;34m\u001b[0m\u001b[0m\n\u001b[0;32m---> 96\u001b[0;31m         \u001b[0;32mraise\u001b[0m \u001b[0merr\u001b[0m\u001b[0;34m\u001b[0m\u001b[0;34m\u001b[0m\u001b[0m\n\u001b[0m\u001b[1;32m     97\u001b[0m \u001b[0;34m\u001b[0m\u001b[0m\n",
      "\u001b[0;32m~/02021/sul-dlss/labs/ml-env/lib/python3.9/site-packages/urllib3/util/connection.py\u001b[0m in \u001b[0;36mcreate_connection\u001b[0;34m(address, timeout, source_address, socket_options)\u001b[0m\n\u001b[1;32m     85\u001b[0m                 \u001b[0msock\u001b[0m\u001b[0;34m.\u001b[0m\u001b[0mbind\u001b[0m\u001b[0;34m(\u001b[0m\u001b[0msource_address\u001b[0m\u001b[0;34m)\u001b[0m\u001b[0;34m\u001b[0m\u001b[0;34m\u001b[0m\u001b[0m\n\u001b[0;32m---> 86\u001b[0;31m             \u001b[0msock\u001b[0m\u001b[0;34m.\u001b[0m\u001b[0mconnect\u001b[0m\u001b[0;34m(\u001b[0m\u001b[0msa\u001b[0m\u001b[0;34m)\u001b[0m\u001b[0;34m\u001b[0m\u001b[0;34m\u001b[0m\u001b[0m\n\u001b[0m\u001b[1;32m     87\u001b[0m             \u001b[0;32mreturn\u001b[0m \u001b[0msock\u001b[0m\u001b[0;34m\u001b[0m\u001b[0;34m\u001b[0m\u001b[0m\n",
      "\u001b[0;31mConnectionRefusedError\u001b[0m: [Errno 61] Connection refused",
      "\nDuring handling of the above exception, another exception occurred:\n",
      "\u001b[0;31mNewConnectionError\u001b[0m                        Traceback (most recent call last)",
      "\u001b[0;32m~/02021/sul-dlss/labs/ml-env/lib/python3.9/site-packages/urllib3/connectionpool.py\u001b[0m in \u001b[0;36murlopen\u001b[0;34m(self, method, url, body, headers, retries, redirect, assert_same_host, timeout, pool_timeout, release_conn, chunked, body_pos, **response_kw)\u001b[0m\n\u001b[1;32m    698\u001b[0m             \u001b[0;31m# Make the request on the httplib connection object.\u001b[0m\u001b[0;34m\u001b[0m\u001b[0;34m\u001b[0m\u001b[0;34m\u001b[0m\u001b[0m\n\u001b[0;32m--> 699\u001b[0;31m             httplib_response = self._make_request(\n\u001b[0m\u001b[1;32m    700\u001b[0m                 \u001b[0mconn\u001b[0m\u001b[0;34m,\u001b[0m\u001b[0;34m\u001b[0m\u001b[0;34m\u001b[0m\u001b[0m\n",
      "\u001b[0;32m~/02021/sul-dlss/labs/ml-env/lib/python3.9/site-packages/urllib3/connectionpool.py\u001b[0m in \u001b[0;36m_make_request\u001b[0;34m(self, conn, method, url, timeout, chunked, **httplib_request_kw)\u001b[0m\n\u001b[1;32m    393\u001b[0m             \u001b[0;32melse\u001b[0m\u001b[0;34m:\u001b[0m\u001b[0;34m\u001b[0m\u001b[0;34m\u001b[0m\u001b[0m\n\u001b[0;32m--> 394\u001b[0;31m                 \u001b[0mconn\u001b[0m\u001b[0;34m.\u001b[0m\u001b[0mrequest\u001b[0m\u001b[0;34m(\u001b[0m\u001b[0mmethod\u001b[0m\u001b[0;34m,\u001b[0m \u001b[0murl\u001b[0m\u001b[0;34m,\u001b[0m \u001b[0;34m**\u001b[0m\u001b[0mhttplib_request_kw\u001b[0m\u001b[0;34m)\u001b[0m\u001b[0;34m\u001b[0m\u001b[0;34m\u001b[0m\u001b[0m\n\u001b[0m\u001b[1;32m    395\u001b[0m \u001b[0;34m\u001b[0m\u001b[0m\n",
      "\u001b[0;32m~/02021/sul-dlss/labs/ml-env/lib/python3.9/site-packages/urllib3/connection.py\u001b[0m in \u001b[0;36mrequest\u001b[0;34m(self, method, url, body, headers)\u001b[0m\n\u001b[1;32m    233\u001b[0m             \u001b[0mheaders\u001b[0m\u001b[0;34m[\u001b[0m\u001b[0;34m\"User-Agent\"\u001b[0m\u001b[0;34m]\u001b[0m \u001b[0;34m=\u001b[0m \u001b[0m_get_default_user_agent\u001b[0m\u001b[0;34m(\u001b[0m\u001b[0;34m)\u001b[0m\u001b[0;34m\u001b[0m\u001b[0;34m\u001b[0m\u001b[0m\n\u001b[0;32m--> 234\u001b[0;31m         \u001b[0msuper\u001b[0m\u001b[0;34m(\u001b[0m\u001b[0mHTTPConnection\u001b[0m\u001b[0;34m,\u001b[0m \u001b[0mself\u001b[0m\u001b[0;34m)\u001b[0m\u001b[0;34m.\u001b[0m\u001b[0mrequest\u001b[0m\u001b[0;34m(\u001b[0m\u001b[0mmethod\u001b[0m\u001b[0;34m,\u001b[0m \u001b[0murl\u001b[0m\u001b[0;34m,\u001b[0m \u001b[0mbody\u001b[0m\u001b[0;34m=\u001b[0m\u001b[0mbody\u001b[0m\u001b[0;34m,\u001b[0m \u001b[0mheaders\u001b[0m\u001b[0;34m=\u001b[0m\u001b[0mheaders\u001b[0m\u001b[0;34m)\u001b[0m\u001b[0;34m\u001b[0m\u001b[0;34m\u001b[0m\u001b[0m\n\u001b[0m\u001b[1;32m    235\u001b[0m \u001b[0;34m\u001b[0m\u001b[0m\n",
      "\u001b[0;32m/Library/Frameworks/Python.framework/Versions/3.9/lib/python3.9/http/client.py\u001b[0m in \u001b[0;36mrequest\u001b[0;34m(self, method, url, body, headers, encode_chunked)\u001b[0m\n\u001b[1;32m   1254\u001b[0m         \u001b[0;34m\"\"\"Send a complete request to the server.\"\"\"\u001b[0m\u001b[0;34m\u001b[0m\u001b[0;34m\u001b[0m\u001b[0m\n\u001b[0;32m-> 1255\u001b[0;31m         \u001b[0mself\u001b[0m\u001b[0;34m.\u001b[0m\u001b[0m_send_request\u001b[0m\u001b[0;34m(\u001b[0m\u001b[0mmethod\u001b[0m\u001b[0;34m,\u001b[0m \u001b[0murl\u001b[0m\u001b[0;34m,\u001b[0m \u001b[0mbody\u001b[0m\u001b[0;34m,\u001b[0m \u001b[0mheaders\u001b[0m\u001b[0;34m,\u001b[0m \u001b[0mencode_chunked\u001b[0m\u001b[0;34m)\u001b[0m\u001b[0;34m\u001b[0m\u001b[0;34m\u001b[0m\u001b[0m\n\u001b[0m\u001b[1;32m   1256\u001b[0m \u001b[0;34m\u001b[0m\u001b[0m\n",
      "\u001b[0;32m/Library/Frameworks/Python.framework/Versions/3.9/lib/python3.9/http/client.py\u001b[0m in \u001b[0;36m_send_request\u001b[0;34m(self, method, url, body, headers, encode_chunked)\u001b[0m\n\u001b[1;32m   1300\u001b[0m             \u001b[0mbody\u001b[0m \u001b[0;34m=\u001b[0m \u001b[0m_encode\u001b[0m\u001b[0;34m(\u001b[0m\u001b[0mbody\u001b[0m\u001b[0;34m,\u001b[0m \u001b[0;34m'body'\u001b[0m\u001b[0;34m)\u001b[0m\u001b[0;34m\u001b[0m\u001b[0;34m\u001b[0m\u001b[0m\n\u001b[0;32m-> 1301\u001b[0;31m         \u001b[0mself\u001b[0m\u001b[0;34m.\u001b[0m\u001b[0mendheaders\u001b[0m\u001b[0;34m(\u001b[0m\u001b[0mbody\u001b[0m\u001b[0;34m,\u001b[0m \u001b[0mencode_chunked\u001b[0m\u001b[0;34m=\u001b[0m\u001b[0mencode_chunked\u001b[0m\u001b[0;34m)\u001b[0m\u001b[0;34m\u001b[0m\u001b[0;34m\u001b[0m\u001b[0m\n\u001b[0m\u001b[1;32m   1302\u001b[0m \u001b[0;34m\u001b[0m\u001b[0m\n",
      "\u001b[0;32m/Library/Frameworks/Python.framework/Versions/3.9/lib/python3.9/http/client.py\u001b[0m in \u001b[0;36mendheaders\u001b[0;34m(self, message_body, encode_chunked)\u001b[0m\n\u001b[1;32m   1249\u001b[0m             \u001b[0;32mraise\u001b[0m \u001b[0mCannotSendHeader\u001b[0m\u001b[0;34m(\u001b[0m\u001b[0;34m)\u001b[0m\u001b[0;34m\u001b[0m\u001b[0;34m\u001b[0m\u001b[0m\n\u001b[0;32m-> 1250\u001b[0;31m         \u001b[0mself\u001b[0m\u001b[0;34m.\u001b[0m\u001b[0m_send_output\u001b[0m\u001b[0;34m(\u001b[0m\u001b[0mmessage_body\u001b[0m\u001b[0;34m,\u001b[0m \u001b[0mencode_chunked\u001b[0m\u001b[0;34m=\u001b[0m\u001b[0mencode_chunked\u001b[0m\u001b[0;34m)\u001b[0m\u001b[0;34m\u001b[0m\u001b[0;34m\u001b[0m\u001b[0m\n\u001b[0m\u001b[1;32m   1251\u001b[0m \u001b[0;34m\u001b[0m\u001b[0m\n",
      "\u001b[0;32m/Library/Frameworks/Python.framework/Versions/3.9/lib/python3.9/http/client.py\u001b[0m in \u001b[0;36m_send_output\u001b[0;34m(self, message_body, encode_chunked)\u001b[0m\n\u001b[1;32m   1009\u001b[0m         \u001b[0;32mdel\u001b[0m \u001b[0mself\u001b[0m\u001b[0;34m.\u001b[0m\u001b[0m_buffer\u001b[0m\u001b[0;34m[\u001b[0m\u001b[0;34m:\u001b[0m\u001b[0;34m]\u001b[0m\u001b[0;34m\u001b[0m\u001b[0;34m\u001b[0m\u001b[0m\n\u001b[0;32m-> 1010\u001b[0;31m         \u001b[0mself\u001b[0m\u001b[0;34m.\u001b[0m\u001b[0msend\u001b[0m\u001b[0;34m(\u001b[0m\u001b[0mmsg\u001b[0m\u001b[0;34m)\u001b[0m\u001b[0;34m\u001b[0m\u001b[0;34m\u001b[0m\u001b[0m\n\u001b[0m\u001b[1;32m   1011\u001b[0m \u001b[0;34m\u001b[0m\u001b[0m\n",
      "\u001b[0;32m/Library/Frameworks/Python.framework/Versions/3.9/lib/python3.9/http/client.py\u001b[0m in \u001b[0;36msend\u001b[0;34m(self, data)\u001b[0m\n\u001b[1;32m    949\u001b[0m             \u001b[0;32mif\u001b[0m \u001b[0mself\u001b[0m\u001b[0;34m.\u001b[0m\u001b[0mauto_open\u001b[0m\u001b[0;34m:\u001b[0m\u001b[0;34m\u001b[0m\u001b[0;34m\u001b[0m\u001b[0m\n\u001b[0;32m--> 950\u001b[0;31m                 \u001b[0mself\u001b[0m\u001b[0;34m.\u001b[0m\u001b[0mconnect\u001b[0m\u001b[0;34m(\u001b[0m\u001b[0;34m)\u001b[0m\u001b[0;34m\u001b[0m\u001b[0;34m\u001b[0m\u001b[0m\n\u001b[0m\u001b[1;32m    951\u001b[0m             \u001b[0;32melse\u001b[0m\u001b[0;34m:\u001b[0m\u001b[0;34m\u001b[0m\u001b[0;34m\u001b[0m\u001b[0m\n",
      "\u001b[0;32m~/02021/sul-dlss/labs/ml-env/lib/python3.9/site-packages/urllib3/connection.py\u001b[0m in \u001b[0;36mconnect\u001b[0;34m(self)\u001b[0m\n\u001b[1;32m    199\u001b[0m     \u001b[0;32mdef\u001b[0m \u001b[0mconnect\u001b[0m\u001b[0;34m(\u001b[0m\u001b[0mself\u001b[0m\u001b[0;34m)\u001b[0m\u001b[0;34m:\u001b[0m\u001b[0;34m\u001b[0m\u001b[0;34m\u001b[0m\u001b[0m\n\u001b[0;32m--> 200\u001b[0;31m         \u001b[0mconn\u001b[0m \u001b[0;34m=\u001b[0m \u001b[0mself\u001b[0m\u001b[0;34m.\u001b[0m\u001b[0m_new_conn\u001b[0m\u001b[0;34m(\u001b[0m\u001b[0;34m)\u001b[0m\u001b[0;34m\u001b[0m\u001b[0;34m\u001b[0m\u001b[0m\n\u001b[0m\u001b[1;32m    201\u001b[0m         \u001b[0mself\u001b[0m\u001b[0;34m.\u001b[0m\u001b[0m_prepare_conn\u001b[0m\u001b[0;34m(\u001b[0m\u001b[0mconn\u001b[0m\u001b[0;34m)\u001b[0m\u001b[0;34m\u001b[0m\u001b[0;34m\u001b[0m\u001b[0m\n",
      "\u001b[0;32m~/02021/sul-dlss/labs/ml-env/lib/python3.9/site-packages/urllib3/connection.py\u001b[0m in \u001b[0;36m_new_conn\u001b[0;34m(self)\u001b[0m\n\u001b[1;32m    180\u001b[0m         \u001b[0;32mexcept\u001b[0m \u001b[0mSocketError\u001b[0m \u001b[0;32mas\u001b[0m \u001b[0me\u001b[0m\u001b[0;34m:\u001b[0m\u001b[0;34m\u001b[0m\u001b[0;34m\u001b[0m\u001b[0m\n\u001b[0;32m--> 181\u001b[0;31m             raise NewConnectionError(\n\u001b[0m\u001b[1;32m    182\u001b[0m                 \u001b[0mself\u001b[0m\u001b[0;34m,\u001b[0m \u001b[0;34m\"Failed to establish a new connection: %s\"\u001b[0m \u001b[0;34m%\u001b[0m \u001b[0me\u001b[0m\u001b[0;34m\u001b[0m\u001b[0;34m\u001b[0m\u001b[0m\n",
      "\u001b[0;31mNewConnectionError\u001b[0m: <urllib3.connection.HTTPConnection object at 0x7f9017054580>: Failed to establish a new connection: [Errno 61] Connection refused",
      "\nDuring handling of the above exception, another exception occurred:\n",
      "\u001b[0;31mMaxRetryError\u001b[0m                             Traceback (most recent call last)",
      "\u001b[0;32m~/02021/sul-dlss/labs/ml-env/lib/python3.9/site-packages/requests/adapters.py\u001b[0m in \u001b[0;36msend\u001b[0;34m(self, request, stream, timeout, verify, cert, proxies)\u001b[0m\n\u001b[1;32m    438\u001b[0m             \u001b[0;32mif\u001b[0m \u001b[0;32mnot\u001b[0m \u001b[0mchunked\u001b[0m\u001b[0;34m:\u001b[0m\u001b[0;34m\u001b[0m\u001b[0;34m\u001b[0m\u001b[0m\n\u001b[0;32m--> 439\u001b[0;31m                 resp = conn.urlopen(\n\u001b[0m\u001b[1;32m    440\u001b[0m                     \u001b[0mmethod\u001b[0m\u001b[0;34m=\u001b[0m\u001b[0mrequest\u001b[0m\u001b[0;34m.\u001b[0m\u001b[0mmethod\u001b[0m\u001b[0;34m,\u001b[0m\u001b[0;34m\u001b[0m\u001b[0;34m\u001b[0m\u001b[0m\n",
      "\u001b[0;32m~/02021/sul-dlss/labs/ml-env/lib/python3.9/site-packages/urllib3/connectionpool.py\u001b[0m in \u001b[0;36murlopen\u001b[0;34m(self, method, url, body, headers, retries, redirect, assert_same_host, timeout, pool_timeout, release_conn, chunked, body_pos, **response_kw)\u001b[0m\n\u001b[1;32m    754\u001b[0m \u001b[0;34m\u001b[0m\u001b[0m\n\u001b[0;32m--> 755\u001b[0;31m             retries = retries.increment(\n\u001b[0m\u001b[1;32m    756\u001b[0m                 \u001b[0mmethod\u001b[0m\u001b[0;34m,\u001b[0m \u001b[0murl\u001b[0m\u001b[0;34m,\u001b[0m \u001b[0merror\u001b[0m\u001b[0;34m=\u001b[0m\u001b[0me\u001b[0m\u001b[0;34m,\u001b[0m \u001b[0m_pool\u001b[0m\u001b[0;34m=\u001b[0m\u001b[0mself\u001b[0m\u001b[0;34m,\u001b[0m \u001b[0m_stacktrace\u001b[0m\u001b[0;34m=\u001b[0m\u001b[0msys\u001b[0m\u001b[0;34m.\u001b[0m\u001b[0mexc_info\u001b[0m\u001b[0;34m(\u001b[0m\u001b[0;34m)\u001b[0m\u001b[0;34m[\u001b[0m\u001b[0;36m2\u001b[0m\u001b[0;34m]\u001b[0m\u001b[0;34m\u001b[0m\u001b[0;34m\u001b[0m\u001b[0m\n",
      "\u001b[0;32m~/02021/sul-dlss/labs/ml-env/lib/python3.9/site-packages/urllib3/util/retry.py\u001b[0m in \u001b[0;36mincrement\u001b[0;34m(self, method, url, response, error, _pool, _stacktrace)\u001b[0m\n\u001b[1;32m    572\u001b[0m         \u001b[0;32mif\u001b[0m \u001b[0mnew_retry\u001b[0m\u001b[0;34m.\u001b[0m\u001b[0mis_exhausted\u001b[0m\u001b[0;34m(\u001b[0m\u001b[0;34m)\u001b[0m\u001b[0;34m:\u001b[0m\u001b[0;34m\u001b[0m\u001b[0;34m\u001b[0m\u001b[0m\n\u001b[0;32m--> 573\u001b[0;31m             \u001b[0;32mraise\u001b[0m \u001b[0mMaxRetryError\u001b[0m\u001b[0;34m(\u001b[0m\u001b[0m_pool\u001b[0m\u001b[0;34m,\u001b[0m \u001b[0murl\u001b[0m\u001b[0;34m,\u001b[0m \u001b[0merror\u001b[0m \u001b[0;32mor\u001b[0m \u001b[0mResponseError\u001b[0m\u001b[0;34m(\u001b[0m\u001b[0mcause\u001b[0m\u001b[0;34m)\u001b[0m\u001b[0;34m)\u001b[0m\u001b[0;34m\u001b[0m\u001b[0;34m\u001b[0m\u001b[0m\n\u001b[0m\u001b[1;32m    574\u001b[0m \u001b[0;34m\u001b[0m\u001b[0m\n",
      "\u001b[0;31mMaxRetryError\u001b[0m: HTTPConnectionPool(host='localhost', port=8070): Max retries exceeded with url: /api/isalive (Caused by NewConnectionError('<urllib3.connection.HTTPConnection object at 0x7f9017054580>: Failed to establish a new connection: [Errno 61] Connection refused'))",
      "\nDuring handling of the above exception, another exception occurred:\n",
      "\u001b[0;31mConnectionError\u001b[0m                           Traceback (most recent call last)",
      "\u001b[0;32m~/02021/sul-dlss/labs/grobid_client_python/grobid_client.py\u001b[0m in \u001b[0;36m_load_config\u001b[0;34m(self, path)\u001b[0m\n\u001b[1;32m     39\u001b[0m         \u001b[0;32mtry\u001b[0m\u001b[0;34m:\u001b[0m\u001b[0;34m\u001b[0m\u001b[0;34m\u001b[0m\u001b[0m\n\u001b[0;32m---> 40\u001b[0;31m             \u001b[0mr\u001b[0m \u001b[0;34m=\u001b[0m \u001b[0mrequests\u001b[0m\u001b[0;34m.\u001b[0m\u001b[0mget\u001b[0m\u001b[0;34m(\u001b[0m\u001b[0mthe_url\u001b[0m\u001b[0;34m)\u001b[0m\u001b[0;34m\u001b[0m\u001b[0;34m\u001b[0m\u001b[0m\n\u001b[0m\u001b[1;32m     41\u001b[0m         \u001b[0;32mexcept\u001b[0m\u001b[0;34m:\u001b[0m\u001b[0;34m\u001b[0m\u001b[0;34m\u001b[0m\u001b[0m\n",
      "\u001b[0;32m~/02021/sul-dlss/labs/ml-env/lib/python3.9/site-packages/requests/api.py\u001b[0m in \u001b[0;36mget\u001b[0;34m(url, params, **kwargs)\u001b[0m\n\u001b[1;32m     75\u001b[0m     \u001b[0mkwargs\u001b[0m\u001b[0;34m.\u001b[0m\u001b[0msetdefault\u001b[0m\u001b[0;34m(\u001b[0m\u001b[0;34m'allow_redirects'\u001b[0m\u001b[0;34m,\u001b[0m \u001b[0;32mTrue\u001b[0m\u001b[0;34m)\u001b[0m\u001b[0;34m\u001b[0m\u001b[0;34m\u001b[0m\u001b[0m\n\u001b[0;32m---> 76\u001b[0;31m     \u001b[0;32mreturn\u001b[0m \u001b[0mrequest\u001b[0m\u001b[0;34m(\u001b[0m\u001b[0;34m'get'\u001b[0m\u001b[0;34m,\u001b[0m \u001b[0murl\u001b[0m\u001b[0;34m,\u001b[0m \u001b[0mparams\u001b[0m\u001b[0;34m=\u001b[0m\u001b[0mparams\u001b[0m\u001b[0;34m,\u001b[0m \u001b[0;34m**\u001b[0m\u001b[0mkwargs\u001b[0m\u001b[0;34m)\u001b[0m\u001b[0;34m\u001b[0m\u001b[0;34m\u001b[0m\u001b[0m\n\u001b[0m\u001b[1;32m     77\u001b[0m \u001b[0;34m\u001b[0m\u001b[0m\n",
      "\u001b[0;32m~/02021/sul-dlss/labs/ml-env/lib/python3.9/site-packages/requests/api.py\u001b[0m in \u001b[0;36mrequest\u001b[0;34m(method, url, **kwargs)\u001b[0m\n\u001b[1;32m     60\u001b[0m     \u001b[0;32mwith\u001b[0m \u001b[0msessions\u001b[0m\u001b[0;34m.\u001b[0m\u001b[0mSession\u001b[0m\u001b[0;34m(\u001b[0m\u001b[0;34m)\u001b[0m \u001b[0;32mas\u001b[0m \u001b[0msession\u001b[0m\u001b[0;34m:\u001b[0m\u001b[0;34m\u001b[0m\u001b[0;34m\u001b[0m\u001b[0m\n\u001b[0;32m---> 61\u001b[0;31m         \u001b[0;32mreturn\u001b[0m \u001b[0msession\u001b[0m\u001b[0;34m.\u001b[0m\u001b[0mrequest\u001b[0m\u001b[0;34m(\u001b[0m\u001b[0mmethod\u001b[0m\u001b[0;34m=\u001b[0m\u001b[0mmethod\u001b[0m\u001b[0;34m,\u001b[0m \u001b[0murl\u001b[0m\u001b[0;34m=\u001b[0m\u001b[0murl\u001b[0m\u001b[0;34m,\u001b[0m \u001b[0;34m**\u001b[0m\u001b[0mkwargs\u001b[0m\u001b[0;34m)\u001b[0m\u001b[0;34m\u001b[0m\u001b[0;34m\u001b[0m\u001b[0m\n\u001b[0m\u001b[1;32m     62\u001b[0m \u001b[0;34m\u001b[0m\u001b[0m\n",
      "\u001b[0;32m~/02021/sul-dlss/labs/ml-env/lib/python3.9/site-packages/requests/sessions.py\u001b[0m in \u001b[0;36mrequest\u001b[0;34m(self, method, url, params, data, headers, cookies, files, auth, timeout, allow_redirects, proxies, hooks, stream, verify, cert, json)\u001b[0m\n\u001b[1;32m    541\u001b[0m         \u001b[0msend_kwargs\u001b[0m\u001b[0;34m.\u001b[0m\u001b[0mupdate\u001b[0m\u001b[0;34m(\u001b[0m\u001b[0msettings\u001b[0m\u001b[0;34m)\u001b[0m\u001b[0;34m\u001b[0m\u001b[0;34m\u001b[0m\u001b[0m\n\u001b[0;32m--> 542\u001b[0;31m         \u001b[0mresp\u001b[0m \u001b[0;34m=\u001b[0m \u001b[0mself\u001b[0m\u001b[0;34m.\u001b[0m\u001b[0msend\u001b[0m\u001b[0;34m(\u001b[0m\u001b[0mprep\u001b[0m\u001b[0;34m,\u001b[0m \u001b[0;34m**\u001b[0m\u001b[0msend_kwargs\u001b[0m\u001b[0;34m)\u001b[0m\u001b[0;34m\u001b[0m\u001b[0;34m\u001b[0m\u001b[0m\n\u001b[0m\u001b[1;32m    543\u001b[0m \u001b[0;34m\u001b[0m\u001b[0m\n",
      "\u001b[0;32m~/02021/sul-dlss/labs/ml-env/lib/python3.9/site-packages/requests/sessions.py\u001b[0m in \u001b[0;36msend\u001b[0;34m(self, request, **kwargs)\u001b[0m\n\u001b[1;32m    654\u001b[0m         \u001b[0;31m# Send the request\u001b[0m\u001b[0;34m\u001b[0m\u001b[0;34m\u001b[0m\u001b[0;34m\u001b[0m\u001b[0m\n\u001b[0;32m--> 655\u001b[0;31m         \u001b[0mr\u001b[0m \u001b[0;34m=\u001b[0m \u001b[0madapter\u001b[0m\u001b[0;34m.\u001b[0m\u001b[0msend\u001b[0m\u001b[0;34m(\u001b[0m\u001b[0mrequest\u001b[0m\u001b[0;34m,\u001b[0m \u001b[0;34m**\u001b[0m\u001b[0mkwargs\u001b[0m\u001b[0;34m)\u001b[0m\u001b[0;34m\u001b[0m\u001b[0;34m\u001b[0m\u001b[0m\n\u001b[0m\u001b[1;32m    656\u001b[0m \u001b[0;34m\u001b[0m\u001b[0m\n",
      "\u001b[0;32m~/02021/sul-dlss/labs/ml-env/lib/python3.9/site-packages/requests/adapters.py\u001b[0m in \u001b[0;36msend\u001b[0;34m(self, request, stream, timeout, verify, cert, proxies)\u001b[0m\n\u001b[1;32m    515\u001b[0m \u001b[0;34m\u001b[0m\u001b[0m\n\u001b[0;32m--> 516\u001b[0;31m             \u001b[0;32mraise\u001b[0m \u001b[0mConnectionError\u001b[0m\u001b[0;34m(\u001b[0m\u001b[0me\u001b[0m\u001b[0;34m,\u001b[0m \u001b[0mrequest\u001b[0m\u001b[0;34m=\u001b[0m\u001b[0mrequest\u001b[0m\u001b[0;34m)\u001b[0m\u001b[0;34m\u001b[0m\u001b[0;34m\u001b[0m\u001b[0m\n\u001b[0m\u001b[1;32m    517\u001b[0m \u001b[0;34m\u001b[0m\u001b[0m\n",
      "\u001b[0;31mConnectionError\u001b[0m: HTTPConnectionPool(host='localhost', port=8070): Max retries exceeded with url: /api/isalive (Caused by NewConnectionError('<urllib3.connection.HTTPConnection object at 0x7f9017054580>: Failed to establish a new connection: [Errno 61] Connection refused'))",
      "\nDuring handling of the above exception, another exception occurred:\n",
      "\u001b[0;31mNameError\u001b[0m                                 Traceback (most recent call last)",
      "\u001b[0;32m<ipython-input-9-6dae65241579>\u001b[0m in \u001b[0;36m<module>\u001b[0;34m\u001b[0m\n\u001b[0;32m----> 1\u001b[0;31m \u001b[0mclient\u001b[0m \u001b[0;34m=\u001b[0m \u001b[0mgrobid\u001b[0m\u001b[0;34m.\u001b[0m\u001b[0mgrobid_client\u001b[0m\u001b[0;34m(\u001b[0m\u001b[0mconfig_path\u001b[0m\u001b[0;34m=\u001b[0m\u001b[0;34m\"./config/grobid.json\"\u001b[0m\u001b[0;34m)\u001b[0m\u001b[0;34m\u001b[0m\u001b[0;34m\u001b[0m\u001b[0m\n\u001b[0m",
      "\u001b[0;32m~/02021/sul-dlss/labs/grobid_client_python/grobid_client.py\u001b[0m in \u001b[0;36m__init__\u001b[0;34m(self, config_path)\u001b[0m\n\u001b[1;32m     23\u001b[0m     \u001b[0;32mdef\u001b[0m \u001b[0m__init__\u001b[0m\u001b[0;34m(\u001b[0m\u001b[0mself\u001b[0m\u001b[0;34m,\u001b[0m \u001b[0mconfig_path\u001b[0m\u001b[0;34m=\u001b[0m\u001b[0;34m'./config.json'\u001b[0m\u001b[0;34m)\u001b[0m\u001b[0;34m:\u001b[0m\u001b[0;34m\u001b[0m\u001b[0;34m\u001b[0m\u001b[0m\n\u001b[1;32m     24\u001b[0m         \u001b[0mself\u001b[0m\u001b[0;34m.\u001b[0m\u001b[0mconfig\u001b[0m \u001b[0;34m=\u001b[0m \u001b[0;32mNone\u001b[0m\u001b[0;34m\u001b[0m\u001b[0;34m\u001b[0m\u001b[0m\n\u001b[0;32m---> 25\u001b[0;31m         \u001b[0mself\u001b[0m\u001b[0;34m.\u001b[0m\u001b[0m_load_config\u001b[0m\u001b[0;34m(\u001b[0m\u001b[0mconfig_path\u001b[0m\u001b[0;34m)\u001b[0m\u001b[0;34m\u001b[0m\u001b[0;34m\u001b[0m\u001b[0m\n\u001b[0m\u001b[1;32m     26\u001b[0m \u001b[0;34m\u001b[0m\u001b[0m\n\u001b[1;32m     27\u001b[0m     \u001b[0;32mdef\u001b[0m \u001b[0m_load_config\u001b[0m\u001b[0;34m(\u001b[0m\u001b[0mself\u001b[0m\u001b[0;34m,\u001b[0m \u001b[0mpath\u001b[0m\u001b[0;34m=\u001b[0m\u001b[0;34m'./config.json'\u001b[0m\u001b[0;34m)\u001b[0m\u001b[0;34m:\u001b[0m\u001b[0;34m\u001b[0m\u001b[0;34m\u001b[0m\u001b[0m\n",
      "\u001b[0;32m~/02021/sul-dlss/labs/grobid_client_python/grobid_client.py\u001b[0m in \u001b[0;36m_load_config\u001b[0;34m(self, path)\u001b[0m\n\u001b[1;32m     41\u001b[0m         \u001b[0;32mexcept\u001b[0m\u001b[0;34m:\u001b[0m\u001b[0;34m\u001b[0m\u001b[0;34m\u001b[0m\u001b[0m\n\u001b[1;32m     42\u001b[0m             \u001b[0mprint\u001b[0m\u001b[0;34m(\u001b[0m\u001b[0;34m'GROBID server does not appear up and running, the connection to the server failed'\u001b[0m\u001b[0;34m)\u001b[0m\u001b[0;34m\u001b[0m\u001b[0;34m\u001b[0m\u001b[0m\n\u001b[0;32m---> 43\u001b[0;31m             \u001b[0mexit\u001b[0m\u001b[0;34m(\u001b[0m\u001b[0;36m1\u001b[0m\u001b[0;34m)\u001b[0m\u001b[0;34m\u001b[0m\u001b[0;34m\u001b[0m\u001b[0m\n\u001b[0m\u001b[1;32m     44\u001b[0m \u001b[0;34m\u001b[0m\u001b[0m\n\u001b[1;32m     45\u001b[0m         \u001b[0mstatus\u001b[0m \u001b[0;34m=\u001b[0m \u001b[0mr\u001b[0m\u001b[0;34m.\u001b[0m\u001b[0mstatus_code\u001b[0m\u001b[0;34m\u001b[0m\u001b[0;34m\u001b[0m\u001b[0m\n",
      "\u001b[0;31mNameError\u001b[0m: name 'exit' is not defined"
     ]
    }
   ],
   "source": [
    "client = grobid.grobid_client(config_path=\"./config/grobid.json\")"
   ]
  },
  {
   "cell_type": "code",
   "execution_count": null,
   "metadata": {},
   "outputs": [],
   "source": [
    "def pdf2tei(pdf_path: pathlib.Path, tei_path: pathlib.Path):\n",
    "    start = datetime.datetime.utcnow()\n",
    "    print(f\"{start} conversion of PDFs to TEI XML\")\n",
    "    client.process(\"processFulltextDocument\", hopkins_pdfs.as_posix(), output=hopkins_tei.as_posix(), n=3)\n",
    "    end = datetime.datetime.utcnow()\n",
    "    print(f\"Finished at {end} total time {(end-start).seconds / 60.}\")"
   ]
  },
  {
   "cell_type": "code",
   "execution_count": null,
   "metadata": {},
   "outputs": [],
   "source": [
    "pdf2tei(hopkins_pdfs, hopkins_tei)"
   ]
  },
  {
   "cell_type": "code",
   "execution_count": 11,
   "metadata": {},
   "outputs": [
    {
     "data": {
      "text/plain": [
       "462"
      ]
     },
     "execution_count": 11,
     "metadata": {},
     "output_type": "execute_result"
    }
   ],
   "source": [
    "1724-1262"
   ]
  },
  {
   "cell_type": "code",
   "execution_count": null,
   "metadata": {},
   "outputs": [],
   "source": [
    "first = next(hopkins_pdfs.iterdir())\n",
    "    "
   ]
  },
  {
   "cell_type": "code",
   "execution_count": 10,
   "metadata": {},
   "outputs": [],
   "source": [
    "missing = []\n",
    "for row in hopkins_pdfs.iterdir():\n",
    "    xml_tei = hopkins_tei/f\"{row.stem}.tei.xml\"\n",
    "    if not xml_tei.exists():\n",
    "        missing.append(row)"
   ]
  },
  {
   "cell_type": "code",
   "execution_count": 12,
   "metadata": {},
   "outputs": [
    {
     "data": {
      "text/plain": [
       "462"
      ]
     },
     "execution_count": 12,
     "metadata": {},
     "output_type": "execute_result"
    }
   ],
   "source": [
    "len(missing)"
   ]
  },
  {
   "cell_type": "code",
   "execution_count": 13,
   "metadata": {},
   "outputs": [
    {
     "data": {
      "text/plain": [
       "PosixPath('/Users/jpnelson/Google Drive/Shared drives/SUL AI 2020-2021/Project - Species Occurrences/papers_pdf/fhl_2011_Broell_19896.pdf')"
      ]
     },
     "execution_count": 13,
     "metadata": {},
     "output_type": "execute_result"
    }
   ],
   "source": [
    "missing[0]"
   ]
  },
  {
   "cell_type": "code",
   "execution_count": 14,
   "metadata": {},
   "outputs": [
    {
     "data": {
      "text/plain": [
       "PosixPath('/Users/jpnelson/Google Drive/Shared drives/SUL AI 2020-2021/Project - Species Occurrences/papers_pdf/osu_20200612144428207.pdf')"
      ]
     },
     "execution_count": 14,
     "metadata": {},
     "output_type": "execute_result"
    }
   ],
   "source": [
    "missing[-1]"
   ]
  },
  {
   "cell_type": "code",
   "execution_count": 15,
   "metadata": {},
   "outputs": [],
   "source": [
    "from pdfminer.high_level import extract_pages"
   ]
  },
  {
   "cell_type": "code",
   "execution_count": 16,
   "metadata": {
    "collapsed": true,
    "jupyter": {
     "outputs_hidden": true
    },
    "tags": []
   },
   "outputs": [
    {
     "name": "stdout",
     "output_type": "stream",
     "text": [
      "fhl_2011_Broell_19896.pdf\n",
      "fhl_2011_Boeck_19878.pdf\n",
      "fhl_2011_Phillips_19858.pdf\n",
      "fhl_2011_Cox_19895.pdf\n",
      "fhl_2011_Little_19825.pdf\n",
      "fhl_2011_Lee_19883.pdf\n",
      "fhl_2011_Gordon_19881.pdf\n",
      "fhl_2011_Johnson_19836.pdf\n",
      "fhl_2011_Paxton_19890.pdf\n",
      "fhl_2011_Lucas_19894.pdf\n",
      "fhl_2011_Pietsch_19856.pdf\n",
      "fhl_2011_Hoang_19874.pdf\n",
      "fhl_2011_Ho_19837.pdf\n",
      "fhl_2011_Smith_19886.pdf\n",
      "fhl_2011_Taylor_19892.pdf\n",
      "fhl_2011_Suzumura_19844.pdf\n",
      "fhl_2011_Stelter_19835.pdf\n",
      "fhl_2011_Rickards_19861.pdf\n",
      "fhl_2011_Bockmon_19854.pdf\n",
      "fhl_2011_Blackstone_19866.pdf\n",
      "fhl_2011_Brezicha_19888.pdf\n",
      "fhl_2011_Bourdillon_19873.pdf\n",
      "fhl_2011_Challener_19855.pdf\n",
      "fhl_2011_Guenther_19863.pdf\n",
      "fhl_2012_Kreis_19812.pdf\n",
      "fhl_2011_Walls_19870.pdf\n",
      "fhl_2011_Thomas_19869.pdf\n",
      "fhl_2011_Singer_19887.pdf\n",
      "fhl_2011_Shaffer_19877.pdf\n",
      "fhl_1982_Olson_43828.pdf\n",
      "....................................................fhl_2012_Fodor_19795.pdf\n",
      "fhl_2012_Albrecht_19808.pdf\n",
      "fhl_2011_Witt_25966.pdf\n",
      "fhl_2011_Witt_19885.pdf\n",
      "fhl_2011_Wilkins_19865.pdf\n",
      "fhl_2012_Twomey_19807.pdf\n",
      "fhl_2012_Schreck_19805.pdf\n",
      "fhl_2012_Bruders_19793.pdf\n",
      "fhl_2011_Gilmore_19862.pdf\n",
      "fhl_2011_Ewings_19889.pdf\n",
      "fhl_2011_Follis_19879.pdf\n",
      "fhl_2011_Enzor_19864.pdf\n",
      "fhl_2011_Krauszer_19843.pdf\n",
      "fhl_2011_Kim_19880.pdf\n",
      "fhl_2011_Kapsenburg_19859.pdf\n",
      "fhl_2011_Kane_19884.pdf\n",
      "fhl_2011_Johnson_19872.pdf\n",
      "fhl_2011_Olmstead_19845.pdf\n",
      "fhl_2011_Navratil_19826.pdf\n",
      "fhl_2011_Navratil_19868.pdf\n",
      "fhl_2011_Newcomb_19860.pdf\n",
      "fhl_2011_Møller_19891.pdf\n",
      "fhl_2011_Meyer_19867.pdf\n",
      "fhl_2011_Magley_19824.pdf\n",
      "fhl_2012_Wang_19817.pdf\n",
      "fhl_2012_Conery_19809.pdf\n",
      "fhl_2012_Churches_19794.pdf\n",
      "fhl_2012_Ge_19803.pdf\n",
      "fhl_2012_Girardo_19796.pdf\n",
      "fhl_2012_Kareiva_19797.pdf\n",
      "fhl_2012_Jacobsen-Watts_19811.pdf\n",
      "fhl_2012_Oxborrow_19814.pdf\n",
      "fhl_2012_Marks_19804.pdf\n",
      "fhl_2012_Kulesza_19813.pdf\n",
      "fhl_2012_Dunnell_19802.pdf\n",
      "fhl_2012_Davies_19801.pdf\n",
      "fhl_2012_Voon_19816.pdf\n",
      "fhl_2012_Townsend_19806.pdf\n",
      "fhl_2012_Swore_19799.pdf\n",
      "fhl_2012_Stull_19815.pdf\n",
      "fhl_2012_Sanford_19798.pdf\n",
      "fhl_2011_Vancil_19876.pdf\n",
      "fhl_2011_Vaughn_19857.pdf\n",
      "fhl_2011_van’t Hul_19871.pdf\n",
      "fhl_2011_Ulmke_19875.pdf\n",
      "carl_1978_V3_SpringIndex.pdf\n",
      "..carl_1978_KanegawaJayT.pdf\n",
      "............carl_1978_SchlenkCornelia.pdf\n",
      "................carl_1978_LewisLark.pdf\n",
      "............carl_1978_ReaMarjory.pdf\n",
      "..............carl_1978_PetersonBarbara.pdf\n",
      "............carl_1978_OlsonEric.pdf\n",
      "...........carl_1986_SpringIndex.pdf\n",
      "..carl_1978_Levitt_and_Wood.pdf\n",
      ".................carl_1983_DownieAlanA.pdf\n",
      "........carl_1978_JungPatti.pdf\n",
      ".............carl_1978_V2_SpringIndex.pdf\n",
      "....carl_1978_JohnsonSusan.pdf\n",
      "...................carl_1983_Choy_and_Williams.pdf\n",
      "..............carl_1983_BurgesonSteve.pdf\n",
      ".............carl_1983_BunikMayaE.pdf\n",
      ".................carl_1983_Blosberg_and_Neidhart.pdf\n",
      "........................carl_1978_TylerJeffreyD.pdf\n",
      "...........carl_1978_StorkJohnJ.pdf\n",
      "................carl_1978_SpornThomasA.pdf\n",
      "........................carl_1978_RileySuzanne.pdf\n",
      "..............carl_1983_RothwellJennifer.pdf\n",
      ".............carl_1983_OlanderAndrea.pdf\n",
      ".....................carl_1983_NiemanRobertS.pdf\n",
      "................carl_1983_KaufmanDavid.pdf\n",
      "..................carl_1983_McCuskeyCharles.pdf\n",
      "...................carl_1983_Heck_and_Rodkin.pdf\n",
      ".................carl_1983_Golde_and_Wright.pdf\n",
      ".....................carl_1983_ConeryJohn.pdf\n",
      "...........carl_1986_Adams_and_Laurenson.pdf\n",
      ".........................carl_1986_Bailey_and_Onello.pdf\n",
      ".................carl_1986_Abstracts.pdf\n",
      "...................carl_1983_VincentAlexandra.pdf\n",
      "..............carl_1983_SpringerScottR.pdf\n",
      ".............carl_1983_SmithRon.pdf\n",
      "...................carl_1983_SewellAmyT.pdf\n",
      "........................carl_1983_ShaughnessyAnn.pdf\n",
      "...............carl_1986_TurnerFernandaB.pdf\n",
      "....................carl_1978_BuffingtonSteve.pdf\n",
      ".............carl_1986_ShimetaJeffreyS.pdf\n",
      "................carl_1986_EdingerDavidT.pdf\n",
      "....................carl_1986_RiedelPatrickJ.pdf\n",
      ".................carl_1986_LemoinePhilippeH.pdf\n",
      "...............carl_1986_Hankins_and_Swift.pdf\n",
      "................................carl_1978_FleisherMark.pdf\n",
      ".......................carl_1978_JohnsonDave.pdf\n",
      "..........carl_1978_FosterTedF.pdf\n",
      "........carl_1978_DoullLisa.pdf\n",
      "................carl_1978_EifrigDavidE.pdf\n",
      "..............ucla_1975_WatsonCandiceA.pdf\n",
      ".......ucla_1975_YoungKeith.pdf\n",
      "................ucla_1975_ShulmanMyra.pdf\n",
      ".................ucla_1975_StarczakVictoria.pdf\n",
      "...........ucla_1975_RoquemoreFrank.pdf\n",
      "....................ucla_1975_PetersonScott.pdf\n",
      "........................ucla_1975_NelsonBobette.pdf\n",
      ".....................ucla_1978_ContrerasDavid_Spurpuratus.pdf\n",
      "..........ucla_1989_GombinerMichael.pdf\n",
      "........ucla_1978_ContrerasDavid_Phaustor.pdf\n",
      "........ucla_1975_ZimmermanRichard.pdf\n",
      "............ucla_1975_YuenGeoffrey.pdf\n",
      "............ucla_1987_HuangMay.pdf\n",
      "........ucla_1975_WinklerDelaine.pdf\n",
      "...........ucla_1978_FoonWarrenD_Mcalifornianus.pdf\n",
      "..............ucla_1978_FirpoJanine_DensityDiversity.pdf\n",
      "............ucla_1978_FoonWarrenD_Asertulifera.pdf\n",
      "..............ucla_1978_FirpoJanine_Dornata.pdf\n",
      "................ucla_1978_ContrerasDavid_Mpyrifera.pdf\n",
      "............ucla_1978_FoonWarrenD_Hydractinia.pdf\n",
      "..............ucla_1978_FirpoJanine_Cpellucida.pdf\n",
      "..............ucla_1978_RexonMichaelC_PredatorAvoidance.pdf\n",
      "........ucla_1978_RexonMichaelC_Octopus.pdf\n",
      "............usc_1976_Su_INDEX.pdf\n",
      "..ucla_1978_IstrinJosef_Cnicholsii.pdf\n",
      "..........ucla_1978_IstrinJosef_Encrusting.pdf\n",
      "..........ucla_1978_IstrinJosef_Mpyrifera.pdf\n",
      "..........ucla_1978_GibsonMellie_HermitCrab.pdf\n",
      "............ucla_1978_GibsonMellie_Ophiuroids.pdf\n",
      "................ucla_1978_GibsonMellie_Gobies.pdf\n",
      "................ucla_1981_BaschLawrenceV.pdf\n",
      "....................ucla_1981_BoydTerrence.pdf\n",
      "............ucla_1978_SkollerDebbie_Sspinosus.pdf\n",
      "..............ucla_1978_SkollerDebbie_Escape.pdf\n",
      "........ucla_1978_SkollerDebbie_EnvComplexity.pdf\n",
      "................ucla_1978_RexonMichaelC_Tegula.pdf\n",
      "..........ucla_1981_HughesBrian.pdf\n",
      "...................ucla_1981_JonesJames.pdf\n",
      "............ucla_1981_GallardoMark.pdf\n",
      "....................ucla_1981_DemetriouStevenJ.pdf\n",
      "...............ucla_1981_FineDavid.pdf\n",
      "................ucla_1981_DaparRhysV.pdf\n",
      "....................ucla_1981_WuestehubeLindaJ.pdf\n",
      "......................................ucla_1983_CoghlanVincent.pdf\n",
      "............usc_1994_Sp_Long.pdf\n",
      "......ucla_1983_BoyajianLisaS.pdf\n",
      "........................................ucla_1981_VogelSteve.pdf\n",
      "............ucla_1981_SchultzeElaine.pdf\n",
      ".................ucla_1981_SorourSima.pdf\n",
      ".................ucla_1981_McAlaryFlorence.pdf\n",
      "...............................ucla_1987_AlterAndrew.pdf\n",
      "................ucla_1983_SextonMark.pdf\n",
      "....................ucla_1983_StreifingerConnie.pdf\n",
      ".........................ucla_1983_ShayaniVafa.pdf\n",
      "..................ucla_1983_NiessenKenneth.pdf\n",
      "................ucla_1983_McClainRichard.pdf\n",
      "..........ucla_1983_GladstoneSusan.pdf\n",
      ".................ucla_1983_LeonardElaine.pdf\n",
      ".............ucla_1983_HenryBrian.pdf\n",
      "......................ucla_1987_HillLauraH.pdf\n",
      ".................ucla_1987_HoPhilipT.pdf\n",
      "....................ucla_1987_DoinoJudith.pdf\n",
      "................ucla_1987_FischerRachel.pdf\n",
      ".............ucla_1987_DobakJohn.pdf\n",
      "................ucla_1987_Ben-TalOfer.pdf\n",
      "...........ucla_1983_SturmNancy.pdf\n",
      ".............ucla_1983_StummerCindy.pdf\n",
      ".............ucla_1987_BlankAryeR.pdf\n",
      "...................ucla_1987_SchabesMauricio.pdf\n",
      "..................ucla_1987_ShapiroDanielF.pdf\n",
      ".........................ucla_1987_OrmsbyBernard.pdf\n",
      "...............ucla_1987_KhubesrianMarina.pdf\n",
      ".............ucla_1987_ReichenbergerPatrick.pdf\n",
      ".............ucla_1988_GoldbergJoel.pdf\n",
      "...............ucla_1988_GaidaIngo.pdf\n",
      "...................ucla_1987_WeissmanDavida.pdf\n",
      "...............ucla_1988_BrownLynn.pdf\n",
      "......................bml_Covello 2011_Summer Seq Three.pdf\n",
      "ucla_1988_OstiGreg.pdf\n",
      "..........ucla_1988_ReisewitzShauna.pdf\n",
      "................ucla_1988_MurrayMike.pdf\n",
      "..............ucla_1988_LeGassickMatthew.pdf\n",
      ".......................ucla_1988_NeriGes-Mari.pdf\n",
      "..............ucla_1988_MadsenSteve.pdf\n",
      "....................ucla_1988_MillarRenee.pdf\n",
      ".....................ucla_1988_HansenKimberly.pdf\n",
      "......................ucla_1989_BoyleKarleen.pdf\n",
      "................ucla_1989_BaghdasarianGaren.pdf\n",
      "................ucla_1989_ArnoldKristian.pdf\n",
      "................ucla_1989_AlessiNicole.pdf\n",
      "............ucla_1988_WylieTodd.pdf\n",
      "............ucla_1988_TorresElizabeth.pdf\n",
      ".............ucla_1988_SchemmelGreg.pdf\n",
      "..............ucla_1988_SanchezShelley.pdf\n",
      "................ucla_1988_RuputEmily.pdf\n",
      "....................ucla_1989_HorvathPatricia.pdf\n",
      "...........ucla_1989_GuySusan.pdf\n",
      ".........................ucla_1989_EvansKatherene.pdf\n",
      "...............ucla_1989_ClelandDavid.pdf\n",
      ".................ucla_1989_EllisErik.pdf\n",
      "................ucla_1989_DaleyShawn.pdf\n",
      "..................ucla_1989_BennettMartinA.pdf\n",
      "........ucla_1989_SundolMark.pdf\n",
      "..................ucla_1989_MarKelvin.pdf\n",
      "......................ucla_1989_RynearsonRobert.pdf\n",
      "...........ucla_1989_LonhartSteve.pdf\n",
      "...................................ucla_1989_LolyCarla.pdf\n",
      "...........ucla_1989_LarsonCoreenE.pdf\n",
      ".................ucla_1989_KaisSam.pdf\n",
      "....................ucla_1989_KatsumataKristin.pdf\n",
      "..........usc_1998_Sp_Pham.pdf\n",
      "....................usc_1998_Sp_Walker.pdf\n",
      "........................ucla_1975_NakanoDuane.pdf\n",
      ".....ucla_1975_MotolaEd.pdf\n",
      "..........ucla_1975_EgstromGail.pdf\n",
      "........................ucla_1989_MizuguchiNana.pdf\n",
      ".............ucla_1975_ChapmanJohn_tempSal.pdf\n",
      "...............ucla_1975_BuckleyGary.pdf\n",
      "......ucla_1975_ChapmanJohn_Asculpta.pdf\n",
      "............ucla_1975_BrownGarry.pdf\n",
      "....................ucla_1975_BaxterDiane.pdf\n",
      ".............usc_2000_Corber.pdf\n",
      "..............usc_2000_Hornick.pdf\n",
      ".................usc_2000_Carr.pdf\n",
      "...................usc_2000_Cabalo.pdf\n",
      "...........usc_2000_Burnfeind.pdf\n",
      ".............usc_2000_Allen.pdf\n",
      "..........usc_1998_Sp_Rumrill_and_Cohen.pdf\n",
      "........................usc_2000_Ahmed.pdf\n",
      ".....................usc_2000_Sommelet.pdf\n",
      "...........usc_2000_Thoroughman.pdf\n",
      "..........usc_2000_Seeman.pdf\n",
      "..................usc_2000_Solis.pdf\n",
      "................usc_2000_Sin.pdf\n",
      "............usc_2000_Le.pdf\n",
      "........usc_2000_Kneeling.pdf\n",
      "...........usc_2000_Jackson.pdf\n",
      "............usc_2000_Kim.pdf\n",
      "............usc_1972_Christopherson.pdf\n",
      "...............................usc_1971_Henon.pdf\n",
      ".............................usc_1971_Coyer.pdf\n",
      ".........................usc_1970_Woollacoot.pdf\n",
      "....................usc_1971_Roseland.pdf\n",
      "..............usc_1971_Citek.pdf\n",
      "...........usc_1970_Morel.pdf\n",
      ".........................usc_1970_Maruyama.pdf\n",
      "...............usc_2000_Vanhoof.pdf\n",
      ".................usc_2000_Zenarosa.pdf\n",
      "..............usc_1973_Sp_Jolie.pdf\n",
      "................usc_1973_Sp_Neighbors.pdf\n",
      "....................usc_1973_Sp_Johnson.pdf\n",
      "................usc_1973_Sp_Hadley.pdf\n",
      ".................usc_1973_Sp_Engle.pdf\n",
      "...........usc_1973_Sp_Brewer.pdf\n",
      "........usc_1973_Sp_Beeler.pdf\n",
      ".............usc_1973_Sp_Beckwitt.pdf\n",
      ".........usc_1972_Roseland.pdf\n",
      ".......................................usc_1972_Kretz.pdf\n",
      "........................usc_1974_SpFa_Jelley.pdf\n",
      "...................usc_1974_SpFa_Akers_etal.pdf\n",
      ".........................usc_1974_SpFa_Gardner_and_Zimmerman.pdf\n",
      "....................usc_1973_Sp_Swank.pdf\n",
      "................usc_1973_Sp_Wojcik.pdf\n",
      "...............usc_1974_SpFa_Hart.pdf\n",
      "..........................usc_1974_SpFa_Akers_and_King.pdf\n",
      ".....................usc_1973_Sp_Rischen.pdf\n",
      ".............usc_1977_Sp_Hartman.pdf\n",
      ".........................................usc_1977_Sp_Evidon.pdf\n",
      "...................usc_1976_Su_Zahary.pdf\n",
      "............usc_1977_Sp_Cho.pdf\n",
      ".....................usc_1976_Su_Green.pdf\n",
      "...................usc_1976_Su_Fuentes.pdf\n",
      ".................usc_1976_Su_Baez_2.pdf\n",
      "...........usc_1976_Su_Boudreau.pdf\n",
      ".........usc_1976_Su_Baez.pdf\n",
      "...........usc_1974_SpFa_Lissner.pdf\n",
      ".................usc_1974_SpFa_Kidd.pdf\n",
      ".......................usc_1977_Su_Bensen.pdf\n",
      ".............usc_1977_Su_Behrents.pdf\n",
      ".................usc_1977_Sp_Thun.pdf\n",
      ".........................usc_1977_Sp_Starrett_Currents.pdf\n",
      ".........................usc_1977_Sp_Starrett_Asculpta.pdf\n",
      "...........usc_1977_Sp_Pahlavan.pdf\n",
      "......................usc_1977_Sp_Regnante.pdf\n",
      ".......................................usc_1977_Sp_Muleady.pdf\n",
      ".......................usc_1977_Sp_Moore.pdf\n",
      "..............usc_1977_Sp_Hourigan.pdf\n",
      "...................usc_1977_Su_Richardson.pdf\n",
      "......................usc_1977_Su_Rand.pdf\n",
      "..........usc_1977_Su_Meisler.pdf\n",
      ".............usc_1977_Su_Krempin.pdf\n",
      ".............usc_1977_Su_Ishimatsu.pdf\n",
      ".............usc_1977_Su_Hickey.pdf\n",
      "...........usc_1977_Su_Hageman.pdf\n",
      "...............usc_1977_Su_Geiger.pdf\n",
      "..................usc_1977_Su_Dmohowski.pdf\n",
      "...................usc_1978_Palmer.pdf\n",
      ".................usc_1978_Levitt_and_Wood.pdf\n",
      "...................usc_1978_Coyne_etal.pdf\n",
      ".................usc_1978_Katnik_etal.pdf\n",
      "........................usc_1978_Gibson.pdf\n",
      "................usc_1978_Foon.pdf\n",
      "........................usc_1978_Butsumyo_etal.pdf\n",
      "....................................usc_1977_Su_Stepien.pdf\n",
      "...........................usc_1977_Su_Welden.pdf\n",
      "................usc_1979_Su_Resca.pdf\n",
      "...........usc_1979_Su_Mitchell.pdf\n",
      "..................usc_1979_Su_Guckelberg.pdf\n",
      ".........usc_1979_Su_Payne.pdf\n",
      ".....usc_1979_Su_Colton.pdf\n",
      ".............usc_1979_Su_Covin.pdf\n",
      ".........usc_1979_Su_Gerard.pdf\n",
      "......usc_1979_Su_Bergen.pdf\n",
      "........usc_1979_Sp_Sullivan.pdf\n",
      "......................usc_1979_Sp_Smithwich.pdf\n",
      "..............................usc_1982_Su_Pittenger.pdf\n",
      "..........usc_1982_Su_Gerard_etal.pdf\n",
      "....usc_1982_Su_Jara.pdf\n",
      ".............usc_1982_Su_Farley.pdf\n",
      "............usc_1982_Su_Escobar_Briones.pdf\n",
      ".............usc_1979_Su_Ryall.pdf\n",
      "...................usc_1979_Su_Wheatley.pdf\n",
      ".........usc_1979_Su_Pond.pdf\n",
      "................usc_1990_V1_Mensa.pdf\n",
      ".............usc_1990_V1_Edge.pdf\n",
      "...........usc_1990_V1_Kremer.pdf\n",
      "................usc_1990_V1_Kilmer.pdf\n",
      "..................usc_1990_V1_Chu.pdf\n",
      "............usc_1990_V1_Hoffman.pdf\n",
      "..................usc_1990_V1_Chavez_Villalba.pdf\n",
      "...............usc_1983_Su_Aguilar.pdf\n",
      "............usc_1982_Su_Yourke.pdf\n",
      ".........usc_1982_Su_Krause.pdf\n",
      "...............usc_1990_V2_Chu.pdf\n",
      ".............usc_1990_V1_Vilavicencio.pdf\n",
      "...........usc_1990_V1_Yoshimi.pdf\n",
      "........................usc_1990_V2_Axayacatl.pdf\n",
      ".......................usc_1990_V1_Sekiguchi.pdf\n",
      ".................usc_1990_V1_Sohn.pdf\n",
      "...........usc_1990_V1_Reischauer.pdf\n",
      ".............usc_1990_V1_Modean.pdf\n",
      "........usc_1990_V1_Olivares.pdf\n",
      "................usc_1990_V2_Silva.pdf\n",
      "...........usc_1990_V2_Reischauer.pdf\n",
      ".....................usc_1990_V2_Sekiguchi.pdf\n",
      "..........usc_1990_V2_Mensa.pdf\n",
      ".................usc_1990_V2_Deeb.pdf\n",
      "............usc_1990_V2_Kilmer.pdf\n",
      "..........usc_1990_V2_Modean.pdf\n",
      "....................usc_1990_V2_Edge.pdf\n",
      "..........usc_1990_V2_Chavez.pdf\n",
      "..............usc_1991_Sp_Mazzella.pdf\n",
      "................usc_1991_Sp_McCormick.pdf\n",
      ".................usc_1991_Sp_Mahoney.pdf\n",
      ".......................usc_1991_Sp_Leonard.pdf\n",
      "...............usc_1991_Sp_Martinez.pdf\n",
      "..........usc_1991_Sp_Koko.pdf\n",
      "...............................usc_1991_Sp_Chawla.pdf\n",
      ".........................usc_1991_Sp_Hentschke.pdf\n",
      "......................usc_1991_Sp_Bash.pdf\n",
      ".................usc_1990_V2_Sohn.pdf\n",
      "................usc_1990_V2_Yoshimi.pdf\n",
      "...............usc_1992_Sp_Fleming.pdf\n",
      "..........usc_1992_Sp_Gala.pdf\n",
      "..............usc_1992_Sp_Brain.pdf\n",
      "..........................usc_1991_Sp_White.pdf\n",
      "...............usc_1991_Sp_Western.pdf\n",
      "..............usc_1991_Sp_Sapper.pdf\n",
      "........................usc_1991_Sp_Noyes.pdf\n",
      "..............usc_1991_Sp_Simpson.pdf\n",
      "..............usc_1991_Sp_Sullivan.pdf\n",
      "...................usc_1991_Sp_Richardson.pdf\n",
      "..................usc_1993_Sp_Alig.pdf\n",
      "..........usc_1992_Sp_Thompson.pdf\n",
      "..............usc_1992_Sp_Skracic.pdf\n",
      "............usc_1992_Sp_Polosajian.pdf\n",
      "............usc_1992_Sp_Lorimier.pdf\n",
      "............usc_1992_Sp_Hughes.pdf\n",
      "..............usc_1992_Sp_Gampel.pdf\n",
      "............usc_1992_Sp_Herbelin.pdf\n",
      "..............usc_1992_Sp_Goicoechea.pdf\n",
      "......................usc_1993_Sp_Naim.pdf\n",
      "...............usc_1993_Sp_Nguyen.pdf\n",
      "..............usc_1993_Sp_Mishra.pdf\n",
      "......................usc_1993_Sp_Lo.pdf\n",
      "...........usc_1993_Sp_Le.pdf\n",
      "..........usc_1993_Sp_Howard.pdf\n",
      "....................usc_1993_Sp_House.pdf\n",
      ".........usc_1993_Sp_Davis.pdf\n",
      "................usc_1993_Sp_Bierzychudek.pdf\n",
      ".........usc_1994_Sp_Muche.pdf\n",
      ".............usc_1994_Sp_Henry.pdf\n",
      ".........usc_1994_Sp_Fabula.pdf\n",
      "............................usc_1994_Sp_Didier.pdf\n",
      "...........usc_1994_Sp_DeLorenzo.pdf\n",
      "...................usc_1993_Sp_Talicuran.pdf\n",
      "......................usc_1993_Sp_Sachdev.pdf\n",
      ".........usc_1993_Sp_Pomeroy.pdf\n",
      ".............usc_1993_Sp_Mitrevski.pdf\n",
      "........usc_1993_Sp_Peneguy.pdf\n",
      "............usc_1993_Sp_Pattengill.pdf\n",
      "..............usc_1994_Sp_Petrossian.pdf\n",
      "......................usc_1994_Sp_Thompson.pdf\n",
      "..........usc_1994_Sp_Moribe.pdf\n",
      ".............usc_1994_Sp_Ring.pdf\n",
      "..........usc_1994_Sp_Nedved.pdf\n",
      ".............usc_1994_Sp_Karo.pdf\n",
      "...............usc_1998_Sp_Munoz.pdf\n",
      "................................usc_1998_Sp_Kim.pdf\n",
      "..................usc_1998_Sp_Carr.pdf\n",
      "........................usc_1998_Sp_Perry.pdf\n",
      "..........................................usc_1998_Sp_Betancourt.pdf\n",
      "........................osu_20200612144309599.pdf\n",
      "..osu_20200612152044760.pdf\n",
      "...osu_20200612151908800.pdf\n",
      "..osu_20200612152001862.pdf\n",
      "...osu_20200612151817901.pdf\n",
      "....osu_20200612145128338.pdf\n",
      "...osu_20200612151706297.pdf\n",
      "...osu_20200612145442428.pdf\n",
      "..osu_20200612151445199.pdf\n",
      "..osu_20200612144837511.pdf\n",
      "...osu_20200612145031481.pdf\n",
      "..osu_20200612151609779.pdf\n",
      "..osu_20200612151530698.pdf\n",
      "..osu_20200612145300353.pdf\n",
      "..osu_20200612154034430.pdf\n",
      "....................osu_20200612153848020.pdf\n",
      "..................osu_20200612153616194.pdf\n",
      "............osu_20200612153509246.pdf\n",
      "..................osu_20200612153112738.pdf\n",
      "........................osu_20200612153337143.pdf\n",
      ".......................osu_20200612152633039.pdf\n",
      "......osu_20200612152822066.pdf\n",
      "............osu_20200612152240497.pdf\n",
      "....osu_20200612152132332.pdf\n",
      "..osu_20200612144745670.pdf\n",
      "..osu_20200612144428207.pdf\n",
      ".........."
     ]
    }
   ],
   "source": [
    "corrupted_pdfs = []\n",
    "for pdf in missing:\n",
    "    print(f\"{pdf.name}\")\n",
    "    try:\n",
    "        for page in extract_pages(pdf):\n",
    "            print(\".\" ,end=\"\")\n",
    "    except:\n",
    "        corrupted_pdfs.append(pdf)\n",
    "            "
   ]
  },
  {
   "cell_type": "code",
   "execution_count": 17,
   "metadata": {},
   "outputs": [
    {
     "data": {
      "text/plain": [
       "75"
      ]
     },
     "execution_count": 17,
     "metadata": {},
     "output_type": "execute_result"
    }
   ],
   "source": [
    "len(corrupted_pdfs)"
   ]
  },
  {
   "cell_type": "code",
   "execution_count": 20,
   "metadata": {},
   "outputs": [
    {
     "data": {
      "text/plain": [
       "'fhl_2011_Lee_19883.pdf'"
      ]
     },
     "execution_count": 20,
     "metadata": {},
     "output_type": "execute_result"
    }
   ],
   "source": [
    "corrupted_pdfs[5].name"
   ]
  },
  {
   "cell_type": "code",
   "execution_count": 22,
   "metadata": {},
   "outputs": [],
   "source": [
    "image_pdfs = set(missing).difference(corrupted_pdfs)"
   ]
  },
  {
   "cell_type": "code",
   "execution_count": 29,
   "metadata": {},
   "outputs": [
    {
     "data": {
      "text/plain": [
       "387"
      ]
     },
     "execution_count": 29,
     "metadata": {},
     "output_type": "execute_result"
    }
   ],
   "source": [
    "len(image_pdfs)"
   ]
  },
  {
   "cell_type": "code",
   "execution_count": 26,
   "metadata": {},
   "outputs": [],
   "source": [
    "image_pdfs = list(image_pdfs)"
   ]
  },
  {
   "cell_type": "code",
   "execution_count": 27,
   "metadata": {},
   "outputs": [
    {
     "data": {
      "text/plain": [
       "PosixPath('/Users/jpnelson/Google Drive/Shared drives/SUL AI 2020-2021/Project - Species Occurrences/papers_pdf/usc_1994_Sp_Muche.pdf')"
      ]
     },
     "execution_count": 27,
     "metadata": {},
     "output_type": "execute_result"
    }
   ],
   "source": [
    "image_pdfs[5]"
   ]
  },
  {
   "cell_type": "code",
   "execution_count": 28,
   "metadata": {},
   "outputs": [
    {
     "data": {
      "text/plain": [
       "PosixPath('/Users/jpnelson/Google Drive/Shared drives/SUL AI 2020-2021/Project - Species Occurrences/papers_pdf/ucla_1989_EllisErik.pdf')"
      ]
     },
     "execution_count": 28,
     "metadata": {},
     "output_type": "execute_result"
    }
   ],
   "source": [
    "image_pdfs[250]"
   ]
  },
  {
   "cell_type": "code",
   "execution_count": 30,
   "metadata": {},
   "outputs": [],
   "source": [
    "import csv"
   ]
  },
  {
   "cell_type": "code",
   "execution_count": 33,
   "metadata": {},
   "outputs": [],
   "source": [
    "with open(\"/Users/jpnelson/Google Drive/Shared drives/SUL AI 2020-2021/Project - Species Occurrences/image_pdfs.csv\", \"w+\") as fo:\n",
    "    csv_writer = csv.writer(fo)\n",
    "    for row in image_pdfs:\n",
    "        csv_writer.writerow([row.name])"
   ]
  },
  {
   "cell_type": "code",
   "execution_count": 34,
   "metadata": {},
   "outputs": [
    {
     "data": {
      "text/plain": [
       "'fhl_2012_Oxborrow_19814.pdf'"
      ]
     },
     "execution_count": 34,
     "metadata": {},
     "output_type": "execute_result"
    }
   ],
   "source": [
    "corrupted_pdfs[60].name"
   ]
  },
  {
   "cell_type": "code",
   "execution_count": 35,
   "metadata": {},
   "outputs": [
    {
     "name": "stdout",
     "output_type": "stream",
     "text": [
      "/Users/jpnelson/Google Drive/Shared drives/SUL AI 2020-2021/Project - Species Occurrences/papers_pdf/bml_Covello 2011_Summer Seq Three.pdf\n"
     ]
    }
   ],
   "source": [
    "for row in corrupted_pdfs:\n",
    "    if not row.name.startswith(\"fhl\"):\n",
    "        print(row)"
   ]
  },
  {
   "cell_type": "code",
   "execution_count": 36,
   "metadata": {},
   "outputs": [
    {
     "data": {
      "text/plain": [
       "PosixPath('/Users/jpnelson/Google Drive/Shared drives/SUL AI 2020-2021/Project - Species Occurrences/papers_pdf/fhl_2012_Ge_19803.pdf')"
      ]
     },
     "execution_count": 36,
     "metadata": {},
     "output_type": "execute_result"
    }
   ],
   "source": [
    "corrupted_pdfs[56]"
   ]
  },
  {
   "cell_type": "code",
   "execution_count": 38,
   "metadata": {},
   "outputs": [],
   "source": [
    "import folium"
   ]
  },
  {
   "cell_type": "code",
   "execution_count": 41,
   "metadata": {},
   "outputs": [],
   "source": [
    "m = folium.Map(location=[38.8339, -104.8214], tiles=\"Stamen Terrain\")"
   ]
  },
  {
   "cell_type": "code",
   "execution_count": 42,
   "metadata": {},
   "outputs": [
    {
     "data": {
      "text/html": [
       "<div style=\"width:100%;\"><div style=\"position:relative;width:100%;height:0;padding-bottom:60%;\"><span style=\"color:#565656\">Make this Notebook Trusted to load map: File -> Trust Notebook</span><iframe src=\"about:blank\" style=\"position:absolute;width:100%;height:100%;left:0;top:0;border:none !important;\" data-html=%3C%21DOCTYPE%20html%3E%0A%3Chead%3E%20%20%20%20%0A%20%20%20%20%3Cmeta%20http-equiv%3D%22content-type%22%20content%3D%22text/html%3B%20charset%3DUTF-8%22%20/%3E%0A%20%20%20%20%0A%20%20%20%20%20%20%20%20%3Cscript%3E%0A%20%20%20%20%20%20%20%20%20%20%20%20L_NO_TOUCH%20%3D%20false%3B%0A%20%20%20%20%20%20%20%20%20%20%20%20L_DISABLE_3D%20%3D%20false%3B%0A%20%20%20%20%20%20%20%20%3C/script%3E%0A%20%20%20%20%0A%20%20%20%20%3Cstyle%3Ehtml%2C%20body%20%7Bwidth%3A%20100%25%3Bheight%3A%20100%25%3Bmargin%3A%200%3Bpadding%3A%200%3B%7D%3C/style%3E%0A%20%20%20%20%3Cstyle%3E%23map%20%7Bposition%3Aabsolute%3Btop%3A0%3Bbottom%3A0%3Bright%3A0%3Bleft%3A0%3B%7D%3C/style%3E%0A%20%20%20%20%3Cscript%20src%3D%22https%3A//cdn.jsdelivr.net/npm/leaflet%401.6.0/dist/leaflet.js%22%3E%3C/script%3E%0A%20%20%20%20%3Cscript%20src%3D%22https%3A//code.jquery.com/jquery-1.12.4.min.js%22%3E%3C/script%3E%0A%20%20%20%20%3Cscript%20src%3D%22https%3A//maxcdn.bootstrapcdn.com/bootstrap/3.2.0/js/bootstrap.min.js%22%3E%3C/script%3E%0A%20%20%20%20%3Cscript%20src%3D%22https%3A//cdnjs.cloudflare.com/ajax/libs/Leaflet.awesome-markers/2.0.2/leaflet.awesome-markers.js%22%3E%3C/script%3E%0A%20%20%20%20%3Clink%20rel%3D%22stylesheet%22%20href%3D%22https%3A//cdn.jsdelivr.net/npm/leaflet%401.6.0/dist/leaflet.css%22/%3E%0A%20%20%20%20%3Clink%20rel%3D%22stylesheet%22%20href%3D%22https%3A//maxcdn.bootstrapcdn.com/bootstrap/3.2.0/css/bootstrap.min.css%22/%3E%0A%20%20%20%20%3Clink%20rel%3D%22stylesheet%22%20href%3D%22https%3A//maxcdn.bootstrapcdn.com/bootstrap/3.2.0/css/bootstrap-theme.min.css%22/%3E%0A%20%20%20%20%3Clink%20rel%3D%22stylesheet%22%20href%3D%22https%3A//maxcdn.bootstrapcdn.com/font-awesome/4.6.3/css/font-awesome.min.css%22/%3E%0A%20%20%20%20%3Clink%20rel%3D%22stylesheet%22%20href%3D%22https%3A//cdnjs.cloudflare.com/ajax/libs/Leaflet.awesome-markers/2.0.2/leaflet.awesome-markers.css%22/%3E%0A%20%20%20%20%3Clink%20rel%3D%22stylesheet%22%20href%3D%22https%3A//cdn.jsdelivr.net/gh/python-visualization/folium/folium/templates/leaflet.awesome.rotate.min.css%22/%3E%0A%20%20%20%20%0A%20%20%20%20%20%20%20%20%20%20%20%20%3Cmeta%20name%3D%22viewport%22%20content%3D%22width%3Ddevice-width%2C%0A%20%20%20%20%20%20%20%20%20%20%20%20%20%20%20%20initial-scale%3D1.0%2C%20maximum-scale%3D1.0%2C%20user-scalable%3Dno%22%20/%3E%0A%20%20%20%20%20%20%20%20%20%20%20%20%3Cstyle%3E%0A%20%20%20%20%20%20%20%20%20%20%20%20%20%20%20%20%23map_c981bf5cae624cebb0d22422eff31aca%20%7B%0A%20%20%20%20%20%20%20%20%20%20%20%20%20%20%20%20%20%20%20%20position%3A%20relative%3B%0A%20%20%20%20%20%20%20%20%20%20%20%20%20%20%20%20%20%20%20%20width%3A%20100.0%25%3B%0A%20%20%20%20%20%20%20%20%20%20%20%20%20%20%20%20%20%20%20%20height%3A%20100.0%25%3B%0A%20%20%20%20%20%20%20%20%20%20%20%20%20%20%20%20%20%20%20%20left%3A%200.0%25%3B%0A%20%20%20%20%20%20%20%20%20%20%20%20%20%20%20%20%20%20%20%20top%3A%200.0%25%3B%0A%20%20%20%20%20%20%20%20%20%20%20%20%20%20%20%20%7D%0A%20%20%20%20%20%20%20%20%20%20%20%20%3C/style%3E%0A%20%20%20%20%20%20%20%20%0A%3C/head%3E%0A%3Cbody%3E%20%20%20%20%0A%20%20%20%20%0A%20%20%20%20%20%20%20%20%20%20%20%20%3Cdiv%20class%3D%22folium-map%22%20id%3D%22map_c981bf5cae624cebb0d22422eff31aca%22%20%3E%3C/div%3E%0A%20%20%20%20%20%20%20%20%0A%3C/body%3E%0A%3Cscript%3E%20%20%20%20%0A%20%20%20%20%0A%20%20%20%20%20%20%20%20%20%20%20%20var%20map_c981bf5cae624cebb0d22422eff31aca%20%3D%20L.map%28%0A%20%20%20%20%20%20%20%20%20%20%20%20%20%20%20%20%22map_c981bf5cae624cebb0d22422eff31aca%22%2C%0A%20%20%20%20%20%20%20%20%20%20%20%20%20%20%20%20%7B%0A%20%20%20%20%20%20%20%20%20%20%20%20%20%20%20%20%20%20%20%20center%3A%20%5B38.8339%2C%20-104.8214%5D%2C%0A%20%20%20%20%20%20%20%20%20%20%20%20%20%20%20%20%20%20%20%20crs%3A%20L.CRS.EPSG3857%2C%0A%20%20%20%20%20%20%20%20%20%20%20%20%20%20%20%20%20%20%20%20zoom%3A%2010%2C%0A%20%20%20%20%20%20%20%20%20%20%20%20%20%20%20%20%20%20%20%20zoomControl%3A%20true%2C%0A%20%20%20%20%20%20%20%20%20%20%20%20%20%20%20%20%20%20%20%20preferCanvas%3A%20false%2C%0A%20%20%20%20%20%20%20%20%20%20%20%20%20%20%20%20%7D%0A%20%20%20%20%20%20%20%20%20%20%20%20%29%3B%0A%0A%20%20%20%20%20%20%20%20%20%20%20%20%0A%0A%20%20%20%20%20%20%20%20%0A%20%20%20%20%0A%20%20%20%20%20%20%20%20%20%20%20%20var%20tile_layer_bd4b7f8f5d004aee9551610614839530%20%3D%20L.tileLayer%28%0A%20%20%20%20%20%20%20%20%20%20%20%20%20%20%20%20%22https%3A//stamen-tiles-%7Bs%7D.a.ssl.fastly.net/terrain/%7Bz%7D/%7Bx%7D/%7By%7D.jpg%22%2C%0A%20%20%20%20%20%20%20%20%20%20%20%20%20%20%20%20%7B%22attribution%22%3A%20%22Map%20tiles%20by%20%5Cu003ca%20href%3D%5C%22http%3A//stamen.com%5C%22%5Cu003eStamen%20Design%5Cu003c/a%5Cu003e%2C%20under%20%5Cu003ca%20href%3D%5C%22http%3A//creativecommons.org/licenses/by/3.0%5C%22%5Cu003eCC%20BY%203.0%5Cu003c/a%5Cu003e.%20Data%20by%20%5Cu0026copy%3B%20%5Cu003ca%20href%3D%5C%22http%3A//openstreetmap.org%5C%22%5Cu003eOpenStreetMap%5Cu003c/a%5Cu003e%2C%20under%20%5Cu003ca%20href%3D%5C%22http%3A//creativecommons.org/licenses/by-sa/3.0%5C%22%5Cu003eCC%20BY%20SA%5Cu003c/a%5Cu003e.%22%2C%20%22detectRetina%22%3A%20false%2C%20%22maxNativeZoom%22%3A%2018%2C%20%22maxZoom%22%3A%2018%2C%20%22minZoom%22%3A%200%2C%20%22noWrap%22%3A%20false%2C%20%22opacity%22%3A%201%2C%20%22subdomains%22%3A%20%22abc%22%2C%20%22tms%22%3A%20false%7D%0A%20%20%20%20%20%20%20%20%20%20%20%20%29.addTo%28map_c981bf5cae624cebb0d22422eff31aca%29%3B%0A%20%20%20%20%20%20%20%20%0A%3C/script%3E onload=\"this.contentDocument.open();this.contentDocument.write(    decodeURIComponent(this.getAttribute('data-html')));this.contentDocument.close();\" allowfullscreen webkitallowfullscreen mozallowfullscreen></iframe></div></div>"
      ],
      "text/plain": [
       "<folium.folium.Map at 0x7f8ffde45e80>"
      ]
     },
     "execution_count": 42,
     "metadata": {},
     "output_type": "execute_result"
    }
   ],
   "source": [
    "m"
   ]
  },
  {
   "cell_type": "code",
   "execution_count": null,
   "metadata": {},
   "outputs": [],
   "source": []
  }
 ],
 "metadata": {
  "kernelspec": {
   "display_name": "Python 3",
   "language": "python",
   "name": "python3"
  },
  "language_info": {
   "codemirror_mode": {
    "name": "ipython",
    "version": 3
   },
   "file_extension": ".py",
   "mimetype": "text/x-python",
   "name": "python",
   "nbconvert_exporter": "python",
   "pygments_lexer": "ipython3",
   "version": "3.9.1"
  }
 },
 "nbformat": 4,
 "nbformat_minor": 4
}
