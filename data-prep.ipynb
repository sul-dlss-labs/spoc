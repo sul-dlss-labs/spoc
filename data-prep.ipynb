{
 "cells": [
  {
   "cell_type": "markdown",
   "metadata": {},
   "source": [
    "# Data Prep"
   ]
  },
  {
   "cell_type": "code",
   "execution_count": 22,
   "metadata": {},
   "outputs": [],
   "source": [
    "import pandas as pd\n",
    "papers = pd.read_json(\"data/papers.json\")"
   ]
  },
  {
   "cell_type": "code",
   "execution_count": 24,
   "metadata": {},
   "outputs": [
    {
     "data": {
      "text/html": [
       "<div>\n",
       "<style scoped>\n",
       "    .dataframe tbody tr th:only-of-type {\n",
       "        vertical-align: middle;\n",
       "    }\n",
       "\n",
       "    .dataframe tbody tr th {\n",
       "        vertical-align: top;\n",
       "    }\n",
       "\n",
       "    .dataframe thead th {\n",
       "        text-align: right;\n",
       "    }\n",
       "</style>\n",
       "<table border=\"1\" class=\"dataframe\">\n",
       "  <thead>\n",
       "    <tr style=\"text-align: right;\">\n",
       "      <th></th>\n",
       "      <th>institution</th>\n",
       "      <th>date</th>\n",
       "      <th>title</th>\n",
       "      <th>filename</th>\n",
       "      <th>status</th>\n",
       "    </tr>\n",
       "  </thead>\n",
       "  <tbody>\n",
       "    <tr>\n",
       "      <th>0</th>\n",
       "      <td>bml</td>\n",
       "      <td>Maddox 2011</td>\n",
       "      <td>﻿Spatial cognition and learning within the scu...</td>\n",
       "      <td>bml_Maddox 2011_SPRING.txt</td>\n",
       "      <td>NaN</td>\n",
       "    </tr>\n",
       "    <tr>\n",
       "      <th>1</th>\n",
       "      <td>ucla</td>\n",
       "      <td>1989</td>\n",
       "      <td>﻿Behavioral Notes on the Southern Sand Star As...</td>\n",
       "      <td>ucla_1989_MarKelvin.txt</td>\n",
       "      <td>NaN</td>\n",
       "    </tr>\n",
       "    <tr>\n",
       "      <th>2</th>\n",
       "      <td>fhl</td>\n",
       "      <td>2012</td>\n",
       "      <td>﻿A comparison of laboratory feeding rates with...</td>\n",
       "      <td>fhl_2012_Roberts.txt</td>\n",
       "      <td>NaN</td>\n",
       "    </tr>\n",
       "    <tr>\n",
       "      <th>3</th>\n",
       "      <td>usc</td>\n",
       "      <td>1998</td>\n",
       "      <td>﻿» .</td>\n",
       "      <td>usc_1998_Sp_Carr.txt</td>\n",
       "      <td>NaN</td>\n",
       "    </tr>\n",
       "    <tr>\n",
       "      <th>4</th>\n",
       "      <td>ucla</td>\n",
       "      <td>1981</td>\n",
       "      <td>﻿DIFFERENCES BETWEEN COLOR MORPHS</td>\n",
       "      <td>ucla_1981_WuestehubeLindaJ.txt</td>\n",
       "      <td>NaN</td>\n",
       "    </tr>\n",
       "  </tbody>\n",
       "</table>\n",
       "</div>"
      ],
      "text/plain": [
       "  institution         date                                              title  \\\n",
       "0         bml  Maddox 2011  ﻿Spatial cognition and learning within the scu...   \n",
       "1        ucla         1989  ﻿Behavioral Notes on the Southern Sand Star As...   \n",
       "2         fhl         2012  ﻿A comparison of laboratory feeding rates with...   \n",
       "3         usc         1998                                               ﻿» .   \n",
       "4        ucla         1981                  ﻿DIFFERENCES BETWEEN COLOR MORPHS   \n",
       "\n",
       "                         filename  status  \n",
       "0      bml_Maddox 2011_SPRING.txt     NaN  \n",
       "1         ucla_1989_MarKelvin.txt     NaN  \n",
       "2            fhl_2012_Roberts.txt     NaN  \n",
       "3            usc_1998_Sp_Carr.txt     NaN  \n",
       "4  ucla_1981_WuestehubeLindaJ.txt     NaN  "
      ]
     },
     "execution_count": 24,
     "metadata": {},
     "output_type": "execute_result"
    }
   ],
   "source": [
    "papers.head()"
   ]
  },
  {
   "cell_type": "code",
   "execution_count": 25,
   "metadata": {},
   "outputs": [
    {
     "data": {
      "text/html": [
       "<div>\n",
       "<style scoped>\n",
       "    .dataframe tbody tr th:only-of-type {\n",
       "        vertical-align: middle;\n",
       "    }\n",
       "\n",
       "    .dataframe tbody tr th {\n",
       "        vertical-align: top;\n",
       "    }\n",
       "\n",
       "    .dataframe thead th {\n",
       "        text-align: right;\n",
       "    }\n",
       "</style>\n",
       "<table border=\"1\" class=\"dataframe\">\n",
       "  <thead>\n",
       "    <tr style=\"text-align: right;\">\n",
       "      <th></th>\n",
       "      <th>institution</th>\n",
       "      <th>date</th>\n",
       "      <th>title</th>\n",
       "      <th>filename</th>\n",
       "      <th>status</th>\n",
       "    </tr>\n",
       "  </thead>\n",
       "  <tbody>\n",
       "    <tr>\n",
       "      <th>613</th>\n",
       "      <td>carl</td>\n",
       "      <td>1986</td>\n",
       "      <td>﻿Frond elongation rate of Macrocystis pyrifera...</td>\n",
       "      <td>carl_1986_Bailey_and_Onello.txt</td>\n",
       "      <td>NaN</td>\n",
       "    </tr>\n",
       "    <tr>\n",
       "      <th>614</th>\n",
       "      <td>ucla</td>\n",
       "      <td>1981</td>\n",
       "      <td>﻿SPATIAL PARTITIONING OF RESOURCES AMONG</td>\n",
       "      <td>ucla_1981_DaparRhysV.txt</td>\n",
       "      <td>NaN</td>\n",
       "    </tr>\n",
       "    <tr>\n",
       "      <th>615</th>\n",
       "      <td>ucla</td>\n",
       "      <td>1987</td>\n",
       "      <td>﻿TPE ROLE OF n-E SPINE</td>\n",
       "      <td>ucla_1987_ReichenbergerPatrick.txt</td>\n",
       "      <td>NaN</td>\n",
       "    </tr>\n",
       "    <tr>\n",
       "      <th>616</th>\n",
       "      <td>hms</td>\n",
       "      <td>1964</td>\n",
       "      <td>﻿MACROSCOPIC ALGAL POOLS OP LITTORINA PLANAXIS...</td>\n",
       "      <td>hms_1964_DahlArthurLyon.txt</td>\n",
       "      <td>NaN</td>\n",
       "    </tr>\n",
       "    <tr>\n",
       "      <th>617</th>\n",
       "      <td>ucla</td>\n",
       "      <td>1975</td>\n",
       "      <td>﻿.\\t»ism</td>\n",
       "      <td>ucla_1975_BrownGarry.txt</td>\n",
       "      <td>NaN</td>\n",
       "    </tr>\n",
       "  </tbody>\n",
       "</table>\n",
       "</div>"
      ],
      "text/plain": [
       "    institution  date                                              title  \\\n",
       "613        carl  1986  ﻿Frond elongation rate of Macrocystis pyrifera...   \n",
       "614        ucla  1981           ﻿SPATIAL PARTITIONING OF RESOURCES AMONG   \n",
       "615        ucla  1987                             ﻿TPE ROLE OF n-E SPINE   \n",
       "616         hms  1964  ﻿MACROSCOPIC ALGAL POOLS OP LITTORINA PLANAXIS...   \n",
       "617        ucla  1975                                           ﻿.\\t»ism   \n",
       "\n",
       "                               filename  status  \n",
       "613     carl_1986_Bailey_and_Onello.txt     NaN  \n",
       "614            ucla_1981_DaparRhysV.txt     NaN  \n",
       "615  ucla_1987_ReichenbergerPatrick.txt     NaN  \n",
       "616         hms_1964_DahlArthurLyon.txt     NaN  \n",
       "617            ucla_1975_BrownGarry.txt     NaN  "
      ]
     },
     "execution_count": 25,
     "metadata": {},
     "output_type": "execute_result"
    }
   ],
   "source": [
    "papers.tail()"
   ]
  },
  {
   "cell_type": "code",
   "execution_count": 4,
   "metadata": {},
   "outputs": [],
   "source": [
    "first = papers.sample()"
   ]
  },
  {
   "cell_type": "code",
   "execution_count": 13,
   "metadata": {},
   "outputs": [
    {
     "data": {
      "text/plain": [
       "'174    1999\\nName: date, dtype: object'"
      ]
     },
     "execution_count": 13,
     "metadata": {},
     "output_type": "execute_result"
    }
   ],
   "source": [
    "str(first['date'])"
   ]
  },
  {
   "cell_type": "code",
   "execution_count": 19,
   "metadata": {},
   "outputs": [
    {
     "data": {
      "text/plain": [
       "'1999'"
      ]
     },
     "execution_count": 19,
     "metadata": {},
     "output_type": "execute_result"
    }
   ],
   "source": [
    "first['date'].iloc[0]"
   ]
  },
  {
   "cell_type": "code",
   "execution_count": 23,
   "metadata": {},
   "outputs": [
    {
     "data": {
      "text/plain": [
       "618"
      ]
     },
     "execution_count": 23,
     "metadata": {},
     "output_type": "execute_result"
    }
   ],
   "source": [
    "len(papers)"
   ]
  },
  {
   "cell_type": "code",
   "execution_count": null,
   "metadata": {},
   "outputs": [],
   "source": [
    "papers.heads"
   ]
  },
  {
   "cell_type": "code",
   "execution_count": 14,
   "metadata": {},
   "outputs": [],
   "source": [
    "## Extracting Full-Text from TEI XML\n",
    "from lxml import etree\n",
    "import pathlib\n",
    "NS = { 'tei': 'http://www.tei-c.org/ns/1.0' }"
   ]
  },
  {
   "cell_type": "code",
   "execution_count": 2,
   "metadata": {},
   "outputs": [],
   "source": [
    "papers_tei = pathlib.Path(\"/Users/jpnelson/Google Drive/Shared drives/SUL AI 2020-2021/Project - Species Occurrences/papers_tei\")"
   ]
  },
  {
   "cell_type": "code",
   "execution_count": 3,
   "metadata": {},
   "outputs": [],
   "source": [
    "first_paper = next(papers_tei.iterdir())"
   ]
  },
  {
   "cell_type": "code",
   "execution_count": 28,
   "metadata": {},
   "outputs": [
    {
     "data": {
      "text/plain": [
       "PosixPath('/Users/jpnelson/Google Drive/Shared drives/SUL AI 2020-2021/Project - Species Occurrences/papers_tei/fhl_2011_Brezicha_25959.tei.xml')"
      ]
     },
     "execution_count": 28,
     "metadata": {},
     "output_type": "execute_result"
    }
   ],
   "source": [
    "first_paper"
   ]
  },
  {
   "cell_type": "code",
   "execution_count": 5,
   "metadata": {},
   "outputs": [],
   "source": [
    "first_xml = etree.XML(first_paper.read_bytes())"
   ]
  },
  {
   "cell_type": "code",
   "execution_count": 6,
   "metadata": {},
   "outputs": [
    {
     "data": {
      "text/plain": [
       "<Element {http://www.tei-c.org/ns/1.0}TEI at 0x7fc8e1740ac0>"
      ]
     },
     "execution_count": 6,
     "metadata": {},
     "output_type": "execute_result"
    }
   ],
   "source": [
    "first_xml"
   ]
  },
  {
   "cell_type": "code",
   "execution_count": 7,
   "metadata": {},
   "outputs": [
    {
     "name": "stdout",
     "output_type": "stream",
     "text": [
      "<Element {http://www.tei-c.org/ns/1.0}teiHeader at 0x7fc8e243b240>\n",
      "<Element {http://www.tei-c.org/ns/1.0}text at 0x7fc8e243b8c0>\n"
     ]
    }
   ],
   "source": [
    "for e in first_xml.iterchildren():\n",
    "    print(e)"
   ]
  },
  {
   "cell_type": "code",
   "execution_count": 15,
   "metadata": {},
   "outputs": [],
   "source": [
    "tei_header = first_xml.find('tei:teiHeader', namespaces=NS)"
   ]
  },
  {
   "cell_type": "code",
   "execution_count": 16,
   "metadata": {},
   "outputs": [
    {
     "name": "stdout",
     "output_type": "stream",
     "text": [
      "<Element {http://www.tei-c.org/ns/1.0}fileDesc at 0x7fc8e1deedc0>\n",
      "<Element {http://www.tei-c.org/ns/1.0}encodingDesc at 0x7fc8e1a126c0>\n",
      "<Element {http://www.tei-c.org/ns/1.0}profileDesc at 0x7fc8e1deefc0>\n"
     ]
    }
   ],
   "source": [
    "for e in tei_header.iterchildren():\n",
    "    print(e)"
   ]
  },
  {
   "cell_type": "code",
   "execution_count": 19,
   "metadata": {},
   "outputs": [],
   "source": [
    "first_abstract = first_xml.find(\"tei:teiHeader/tei:profileDesc/tei:abstract\", namespaces=NS)"
   ]
  },
  {
   "cell_type": "code",
   "execution_count": 22,
   "metadata": {},
   "outputs": [],
   "source": [
    "first_abstract.text"
   ]
  },
  {
   "cell_type": "code",
   "execution_count": 23,
   "metadata": {},
   "outputs": [],
   "source": [
    "first_authors = first_xml.findall(\"tei:teiHeader/tei:fileDesc/tei:sourceDesc/tei:biblStruct/tei:analytic/tei:author\", namespaces=NS)"
   ]
  },
  {
   "cell_type": "code",
   "execution_count": 37,
   "metadata": {},
   "outputs": [],
   "source": [
    "first_text = first_xml.findall('tei:text/tei:body/tei:div/tei:p', namespaces=NS)"
   ]
  },
  {
   "cell_type": "code",
   "execution_count": 44,
   "metadata": {},
   "outputs": [
    {
     "name": "stdout",
     "output_type": "stream",
     "text": [
      "The Salish Sea of Washington State, USA and British Columbia, Canada is characterized by deep narrow channels with saltwater input from the Pacific Ocean and freshwater input from the Frasier River. The San Juan archipelago sits right at the intersection of these two inputs.\n",
      "This region experiences mixed semidiurnal tides and has many narrow passes and abrupt sills that characterize local flow dynamics. A steep drop off close to shore typifies the bathymetry of the sub-tidal habitat.\n",
      "Some of the more obvious parameters that control where benthic sub-tidal organisms live are light and availability of food, but a few studies have sought to shed some light on how microhabitats created by flow regimes also are an important consideration. Small scale studies on how flow affects benthic communities have shown pieces of how communities and individual species of benthic filter feeders have the highest performance when they are within their target flow range. This range is determined mainly by the physiology of how organisms feed.\n",
      "The range of flow speeds where an organism can optimally perform is determined by its ability to capture particles as well as their ability to process particles that have been captured by its feeding apparatus. If they cannot get the food to the point of ingestion, performance will be compromised \n",
      "Some organisms have two different morphologies depending on the flow speed of their habitats. One study that seeks to explain how filter feeding invertebrates deal with differing flow rates was conducted at Friday Harbor Laboratories looking at bryozoans \n",
      "Bryozoans can have two different morphologies, species that live in fast moving water form encrusting sheet-shaped colonies and the species in slower, calmer water erect tree-shaped colonies. The shape of the colonies and how well they capture food at high velocities could potentially be used to predict which species of bryozoans have a greater potential to become invasive species \n",
      "Unlike bryozoans where species determined colony shape, colonial cnidarians can change their shape if fluid speeds around them change. Attempting to decouple the effects of food resources and the effects of flow speed \n",
      "Morphology is not the only consideration to take into account when thinking about fluid flow affecting an organism. Benthic autotrophs that have all the light they might need; all the nutrients they might need and are contained in tanks with no flow show low photosynthetic rates. \n",
      "My research will seek to look at how fluid flow might determine the distribution of Strongylocentrotus franciscanus to determine where it can be found in microhabitats of the San Juan Channel based on fluid velocity measurements at several sites. To evaluate relative flow speeds around the San Juan Channel we deployed uniform blocks of alabaster \n",
      "Alabaster preparation Alabaster blocks were cut into square blocks of 5.5±0.5cm with a height of 2cm. Then they were dried in an oven for 24 hours at 50 degrees C. All blocks had their initial weights taken and were then attached to a hard plastic plate with caulking covering the bottom half of the vertical sides.\n",
      "This left about 1±.3cm of exposed alabaster on all sides. Initial exposed alabaster surface area was calculated using Image J (NIH, Bethesda, MD,USA) to account for irregularities in block size. The caulked alabaster blocks were then strapped to a brick for deployment, to lift the alabaster out of the benthic organisms and standardize their position in the flow.\n",
      "(See \n",
      "The alabaster bricks were placed at 95 sites throughout the San Juan Channel (See \n",
      "The bricks were placed at 3 meter depth increments within a range of 3-27 meters. Divers descended to the preselected locations and cleared all kelp within a 1 meter radius to reduce flow differences and kelp whiplash. If the blocks were on a vertical surface they were secured to the pins marking the site by zip ties. All blocks were in the field for 12±2 days and 3 full rounds were deployed in series leading to about a full lunar cycle of data. In addition to the blocks in the field we placed three identical bricks in a circulating sea water tank with near still flow as a control and three others next to an S4 current velocity meter to enable calibration with flow speed. These calibrations were done following the methods described by \n",
      "Each block was dried in an oven for 24 hours at 50 degrees C after retrieval and then weighed using the same balance with which initial weights were taken. The difference between final mass and initial mass were used to calculate flows. We took each block and calculated the dissolution rate in grams lost / cm^2 / day to determine which sites would be designated high flow and low flow for the purposes of our analyses. We created five final categories for analyses: low, medium low, medium high, high and very high. Medium high was the median flow range and then the other categories were one standard deviation from the middle for the medium low and high sites and two standard deviations from the middle to be designated low or very high. We also used the data from the S4 meter to calibrate the flow speeds experienced by the alabaster blocks (see \n",
      "Urchin data was collected along 10 meter transects. All mobile fauna were counted and measured within one meter of the transect on either side for non-shady cove sites and one half meter on either side of the transects for all shady cove sites.\n",
      "Flow increased with depth and then tapered off after 60 feet/18 meters (See \n",
      "Using alabaster or clod cards to measure flow was established over 40 years ago \n",
      "When taking into account the number of urchins only and not their size there is a significant difference between the Medium High flow sites and the High flow sites. This could be explained by the fact that these urchins are not hydro dynamically shaped their spines are used to trap drift algae \n",
      "Because S. franciscanus needs flow past its spines to catch kelp drifting by they were not found in high numbers at the very low velocity sites. Likewise they were not found at high flow sites due to the hydrodynamic forces such as lift and drag. The deep sub-tidal red urchin's distribution is determined by finding a flow regime that will give the organism enough food but not increase its chances at becoming food for a predator.\n",
      "Future research into large mobile fauna distributions based on flow needs to be done with S. franciscanus as well as others like Parastichopus californicus among others. To improve the data set, deploying multiple bricks at sites now known for a high loss percentage in the field would give us a more complete picture as well as accurate flow measurements with the S4 flow meter. Readings at very high flow sites would be of particular use because we saw evidence of urchins but we are currently working under the assumption that there is a liner relationship between flow velocity and mass transfer rates of alabaster.\n"
     ]
    }
   ],
   "source": [
    "for p in first_text:\n",
    "    print(p.text)"
   ]
  },
  {
   "cell_type": "code",
   "execution_count": null,
   "metadata": {},
   "outputs": [],
   "source": []
  }
 ],
 "metadata": {
  "kernelspec": {
   "display_name": "Python 3",
   "language": "python",
   "name": "python3"
  },
  "language_info": {
   "codemirror_mode": {
    "name": "ipython",
    "version": 3
   },
   "file_extension": ".py",
   "mimetype": "text/x-python",
   "name": "python",
   "nbconvert_exporter": "python",
   "pygments_lexer": "ipython3",
   "version": "3.9.1"
  }
 },
 "nbformat": 4,
 "nbformat_minor": 4
}
