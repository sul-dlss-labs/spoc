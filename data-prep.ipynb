{
 "cells": [
  {
   "cell_type": "markdown",
   "metadata": {},
   "source": [
    "# Data Prep"
   ]
  },
  {
   "cell_type": "code",
   "execution_count": 22,
   "metadata": {},
   "outputs": [],
   "source": [
    "import pandas as pd\n",
    "papers = pd.read_json(\"data/papers.json\")"
   ]
  },
  {
   "cell_type": "code",
   "execution_count": 24,
   "metadata": {},
   "outputs": [
    {
     "data": {
      "text/html": [
       "<div>\n",
       "<style scoped>\n",
       "    .dataframe tbody tr th:only-of-type {\n",
       "        vertical-align: middle;\n",
       "    }\n",
       "\n",
       "    .dataframe tbody tr th {\n",
       "        vertical-align: top;\n",
       "    }\n",
       "\n",
       "    .dataframe thead th {\n",
       "        text-align: right;\n",
       "    }\n",
       "</style>\n",
       "<table border=\"1\" class=\"dataframe\">\n",
       "  <thead>\n",
       "    <tr style=\"text-align: right;\">\n",
       "      <th></th>\n",
       "      <th>institution</th>\n",
       "      <th>date</th>\n",
       "      <th>title</th>\n",
       "      <th>filename</th>\n",
       "      <th>status</th>\n",
       "    </tr>\n",
       "  </thead>\n",
       "  <tbody>\n",
       "    <tr>\n",
       "      <th>0</th>\n",
       "      <td>bml</td>\n",
       "      <td>Maddox 2011</td>\n",
       "      <td>﻿Spatial cognition and learning within the scu...</td>\n",
       "      <td>bml_Maddox 2011_SPRING.txt</td>\n",
       "      <td>NaN</td>\n",
       "    </tr>\n",
       "    <tr>\n",
       "      <th>1</th>\n",
       "      <td>ucla</td>\n",
       "      <td>1989</td>\n",
       "      <td>﻿Behavioral Notes on the Southern Sand Star As...</td>\n",
       "      <td>ucla_1989_MarKelvin.txt</td>\n",
       "      <td>NaN</td>\n",
       "    </tr>\n",
       "    <tr>\n",
       "      <th>2</th>\n",
       "      <td>fhl</td>\n",
       "      <td>2012</td>\n",
       "      <td>﻿A comparison of laboratory feeding rates with...</td>\n",
       "      <td>fhl_2012_Roberts.txt</td>\n",
       "      <td>NaN</td>\n",
       "    </tr>\n",
       "    <tr>\n",
       "      <th>3</th>\n",
       "      <td>usc</td>\n",
       "      <td>1998</td>\n",
       "      <td>﻿» .</td>\n",
       "      <td>usc_1998_Sp_Carr.txt</td>\n",
       "      <td>NaN</td>\n",
       "    </tr>\n",
       "    <tr>\n",
       "      <th>4</th>\n",
       "      <td>ucla</td>\n",
       "      <td>1981</td>\n",
       "      <td>﻿DIFFERENCES BETWEEN COLOR MORPHS</td>\n",
       "      <td>ucla_1981_WuestehubeLindaJ.txt</td>\n",
       "      <td>NaN</td>\n",
       "    </tr>\n",
       "  </tbody>\n",
       "</table>\n",
       "</div>"
      ],
      "text/plain": [
       "  institution         date                                              title  \\\n",
       "0         bml  Maddox 2011  ﻿Spatial cognition and learning within the scu...   \n",
       "1        ucla         1989  ﻿Behavioral Notes on the Southern Sand Star As...   \n",
       "2         fhl         2012  ﻿A comparison of laboratory feeding rates with...   \n",
       "3         usc         1998                                               ﻿» .   \n",
       "4        ucla         1981                  ﻿DIFFERENCES BETWEEN COLOR MORPHS   \n",
       "\n",
       "                         filename  status  \n",
       "0      bml_Maddox 2011_SPRING.txt     NaN  \n",
       "1         ucla_1989_MarKelvin.txt     NaN  \n",
       "2            fhl_2012_Roberts.txt     NaN  \n",
       "3            usc_1998_Sp_Carr.txt     NaN  \n",
       "4  ucla_1981_WuestehubeLindaJ.txt     NaN  "
      ]
     },
     "execution_count": 24,
     "metadata": {},
     "output_type": "execute_result"
    }
   ],
   "source": [
    "papers.head()"
   ]
  },
  {
   "cell_type": "code",
   "execution_count": 25,
   "metadata": {},
   "outputs": [
    {
     "data": {
      "text/html": [
       "<div>\n",
       "<style scoped>\n",
       "    .dataframe tbody tr th:only-of-type {\n",
       "        vertical-align: middle;\n",
       "    }\n",
       "\n",
       "    .dataframe tbody tr th {\n",
       "        vertical-align: top;\n",
       "    }\n",
       "\n",
       "    .dataframe thead th {\n",
       "        text-align: right;\n",
       "    }\n",
       "</style>\n",
       "<table border=\"1\" class=\"dataframe\">\n",
       "  <thead>\n",
       "    <tr style=\"text-align: right;\">\n",
       "      <th></th>\n",
       "      <th>institution</th>\n",
       "      <th>date</th>\n",
       "      <th>title</th>\n",
       "      <th>filename</th>\n",
       "      <th>status</th>\n",
       "    </tr>\n",
       "  </thead>\n",
       "  <tbody>\n",
       "    <tr>\n",
       "      <th>613</th>\n",
       "      <td>carl</td>\n",
       "      <td>1986</td>\n",
       "      <td>﻿Frond elongation rate of Macrocystis pyrifera...</td>\n",
       "      <td>carl_1986_Bailey_and_Onello.txt</td>\n",
       "      <td>NaN</td>\n",
       "    </tr>\n",
       "    <tr>\n",
       "      <th>614</th>\n",
       "      <td>ucla</td>\n",
       "      <td>1981</td>\n",
       "      <td>﻿SPATIAL PARTITIONING OF RESOURCES AMONG</td>\n",
       "      <td>ucla_1981_DaparRhysV.txt</td>\n",
       "      <td>NaN</td>\n",
       "    </tr>\n",
       "    <tr>\n",
       "      <th>615</th>\n",
       "      <td>ucla</td>\n",
       "      <td>1987</td>\n",
       "      <td>﻿TPE ROLE OF n-E SPINE</td>\n",
       "      <td>ucla_1987_ReichenbergerPatrick.txt</td>\n",
       "      <td>NaN</td>\n",
       "    </tr>\n",
       "    <tr>\n",
       "      <th>616</th>\n",
       "      <td>hms</td>\n",
       "      <td>1964</td>\n",
       "      <td>﻿MACROSCOPIC ALGAL POOLS OP LITTORINA PLANAXIS...</td>\n",
       "      <td>hms_1964_DahlArthurLyon.txt</td>\n",
       "      <td>NaN</td>\n",
       "    </tr>\n",
       "    <tr>\n",
       "      <th>617</th>\n",
       "      <td>ucla</td>\n",
       "      <td>1975</td>\n",
       "      <td>﻿.\\t»ism</td>\n",
       "      <td>ucla_1975_BrownGarry.txt</td>\n",
       "      <td>NaN</td>\n",
       "    </tr>\n",
       "  </tbody>\n",
       "</table>\n",
       "</div>"
      ],
      "text/plain": [
       "    institution  date                                              title  \\\n",
       "613        carl  1986  ﻿Frond elongation rate of Macrocystis pyrifera...   \n",
       "614        ucla  1981           ﻿SPATIAL PARTITIONING OF RESOURCES AMONG   \n",
       "615        ucla  1987                             ﻿TPE ROLE OF n-E SPINE   \n",
       "616         hms  1964  ﻿MACROSCOPIC ALGAL POOLS OP LITTORINA PLANAXIS...   \n",
       "617        ucla  1975                                           ﻿.\\t»ism   \n",
       "\n",
       "                               filename  status  \n",
       "613     carl_1986_Bailey_and_Onello.txt     NaN  \n",
       "614            ucla_1981_DaparRhysV.txt     NaN  \n",
       "615  ucla_1987_ReichenbergerPatrick.txt     NaN  \n",
       "616         hms_1964_DahlArthurLyon.txt     NaN  \n",
       "617            ucla_1975_BrownGarry.txt     NaN  "
      ]
     },
     "execution_count": 25,
     "metadata": {},
     "output_type": "execute_result"
    }
   ],
   "source": [
    "papers.tail()"
   ]
  },
  {
   "cell_type": "code",
   "execution_count": 4,
   "metadata": {},
   "outputs": [],
   "source": [
    "first = papers.sample()"
   ]
  },
  {
   "cell_type": "code",
   "execution_count": 13,
   "metadata": {},
   "outputs": [
    {
     "data": {
      "text/plain": [
       "'174    1999\\nName: date, dtype: object'"
      ]
     },
     "execution_count": 13,
     "metadata": {},
     "output_type": "execute_result"
    }
   ],
   "source": [
    "str(first['date'])"
   ]
  },
  {
   "cell_type": "code",
   "execution_count": 19,
   "metadata": {},
   "outputs": [
    {
     "data": {
      "text/plain": [
       "'1999'"
      ]
     },
     "execution_count": 19,
     "metadata": {},
     "output_type": "execute_result"
    }
   ],
   "source": [
    "first['date'].iloc[0]"
   ]
  },
  {
   "cell_type": "code",
   "execution_count": 23,
   "metadata": {},
   "outputs": [
    {
     "data": {
      "text/plain": [
       "618"
      ]
     },
     "execution_count": 23,
     "metadata": {},
     "output_type": "execute_result"
    }
   ],
   "source": [
    "len(papers)"
   ]
  },
  {
   "cell_type": "code",
   "execution_count": null,
   "metadata": {},
   "outputs": [],
   "source": [
    "papers.heads"
   ]
  }
 ],
 "metadata": {
  "kernelspec": {
   "display_name": "Python 3",
   "language": "python",
   "name": "python3"
  },
  "language_info": {
   "codemirror_mode": {
    "name": "ipython",
    "version": 3
   },
   "file_extension": ".py",
   "mimetype": "text/x-python",
   "name": "python",
   "nbconvert_exporter": "python",
   "pygments_lexer": "ipython3",
   "version": "3.9.1"
  }
 },
 "nbformat": 4,
 "nbformat_minor": 4
}
